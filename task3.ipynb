{
 "cells": [
  {
   "cell_type": "markdown",
   "metadata": {},
   "source": [
    "#### IMPORT SPARK"
   ]
  },
  {
   "cell_type": "code",
   "execution_count": 1,
   "metadata": {},
   "outputs": [],
   "source": [
    "import findspark"
   ]
  },
  {
   "cell_type": "code",
   "execution_count": 2,
   "metadata": {},
   "outputs": [],
   "source": [
    "findspark.init('/home/cse587/spark-2.4.0-bin-hadoop2.7')"
   ]
  },
  {
   "cell_type": "code",
   "execution_count": 3,
   "metadata": {},
   "outputs": [],
   "source": [
    "import pyspark\n",
    "from pyspark.sql import SparkSession\n",
    "import csv"
   ]
  },
  {
   "cell_type": "code",
   "execution_count": 4,
   "metadata": {},
   "outputs": [],
   "source": [
    "sc = pyspark.SparkContext()"
   ]
  },
  {
   "cell_type": "code",
   "execution_count": 5,
   "metadata": {},
   "outputs": [
    {
     "data": {
      "text/plain": [
       "<module 'pyspark' from '/home/cse587/spark-2.4.0-bin-hadoop2.7/python/pyspark/__init__.py'>"
      ]
     },
     "execution_count": 5,
     "metadata": {},
     "output_type": "execute_result"
    }
   ],
   "source": [
    "pyspark"
   ]
  },
  {
   "cell_type": "code",
   "execution_count": 6,
   "metadata": {},
   "outputs": [],
   "source": [
    "from pyspark.sql import SQLContext\n",
    "sqlContext = SQLContext(sc)"
   ]
  },
  {
   "cell_type": "markdown",
   "metadata": {},
   "source": [
    "#### INPUT DATA PROCESSING"
   ]
  },
  {
   "cell_type": "code",
   "execution_count": 7,
   "metadata": {},
   "outputs": [],
   "source": [
    "import pandas as pd\n",
    "pandas_df = pd.read_csv(\"train.csv\")\n",
    "#RDD = sc.textFile(\"train.csv\")"
   ]
  },
  {
   "cell_type": "code",
   "execution_count": 8,
   "metadata": {},
   "outputs": [],
   "source": [
    "spark_df = sqlContext.createDataFrame(pandas_df)\n",
    "rdd_df = spark_df.rdd"
   ]
  },
  {
   "cell_type": "code",
   "execution_count": 9,
   "metadata": {},
   "outputs": [
    {
     "name": "stdout",
     "output_type": "stream",
     "text": [
      "+--------+----------------+--------------------+--------------------+\n",
      "|movie_id|      movie_name|                plot|               genre|\n",
      "+--------+----------------+--------------------+--------------------+\n",
      "|23890098|      Taxi Blues|Shlykov, a hard-w...|['World cinema', ...|\n",
      "|31186339|The Hunger Games|The nation of Pan...|['Action/Adventur...|\n",
      "|20663735|      Narasimham|Poovalli Induchoo...|['Musical', 'Acti...|\n",
      "+--------+----------------+--------------------+--------------------+\n",
      "only showing top 3 rows\n",
      "\n"
     ]
    }
   ],
   "source": [
    "spark_df.show(3)"
   ]
  },
  {
   "cell_type": "code",
   "execution_count": 10,
   "metadata": {},
   "outputs": [],
   "source": [
    "from pyspark.ml.feature import Tokenizer, RegexTokenizer\n",
    "from pyspark.sql.functions import col, udf\n",
    "from pyspark.sql.types import IntegerType"
   ]
  },
  {
   "cell_type": "code",
   "execution_count": 11,
   "metadata": {},
   "outputs": [],
   "source": [
    "tokenizer = Tokenizer(inputCol = 'plot', outputCol = 'plot_terms')"
   ]
  },
  {
   "cell_type": "code",
   "execution_count": 12,
   "metadata": {},
   "outputs": [],
   "source": [
    "regex_tokenizer = RegexTokenizer(inputCol = 'plot', outputCol = 'plot_terms', pattern = '\\\\W')"
   ]
  },
  {
   "cell_type": "code",
   "execution_count": 13,
   "metadata": {},
   "outputs": [],
   "source": [
    "count_tokens = udf(lambda plot_terms: len(plot_terms), IntegerType())"
   ]
  },
  {
   "cell_type": "code",
   "execution_count": 14,
   "metadata": {},
   "outputs": [],
   "source": [
    "tokenized = tokenizer.transform(spark_df)"
   ]
  },
  {
   "cell_type": "code",
   "execution_count": 15,
   "metadata": {},
   "outputs": [
    {
     "name": "stdout",
     "output_type": "stream",
     "text": [
      "+--------------------+\n",
      "|          plot_terms|\n",
      "+--------------------+\n",
      "|[shlykov,, a, har...|\n",
      "|[the, nation, of,...|\n",
      "+--------------------+\n",
      "only showing top 2 rows\n",
      "\n"
     ]
    }
   ],
   "source": [
    "#tokenized.show(1)\n",
    "tokenized.select(\"plot_terms\").show(2)"
   ]
  },
  {
   "cell_type": "code",
   "execution_count": 16,
   "metadata": {},
   "outputs": [
    {
     "name": "stdout",
     "output_type": "stream",
     "text": [
      "+--------+----------------+--------------------+--------------------+--------------------+\n",
      "|movie_id|      movie_name|                plot|               genre|          plot_terms|\n",
      "+--------+----------------+--------------------+--------------------+--------------------+\n",
      "|23890098|      Taxi Blues|Shlykov, a hard-w...|['World cinema', ...|[shlykov, a, hard...|\n",
      "|31186339|The Hunger Games|The nation of Pan...|['Action/Adventur...|[the, nation, of,...|\n",
      "+--------+----------------+--------------------+--------------------+--------------------+\n",
      "only showing top 2 rows\n",
      "\n"
     ]
    }
   ],
   "source": [
    "regex_tokenized = regex_tokenizer.transform(spark_df)\n",
    "regex_tokenized.show(2)"
   ]
  },
  {
   "cell_type": "code",
   "execution_count": 17,
   "metadata": {},
   "outputs": [],
   "source": [
    "from pyspark.ml.feature import StopWordsRemover"
   ]
  },
  {
   "cell_type": "code",
   "execution_count": 18,
   "metadata": {},
   "outputs": [],
   "source": [
    "remover = StopWordsRemover(inputCol = 'plot_terms', outputCol = 'filtered')"
   ]
  },
  {
   "cell_type": "code",
   "execution_count": 19,
   "metadata": {},
   "outputs": [],
   "source": [
    "stopword_tokenized_withnum = remover.transform(regex_tokenized)"
   ]
  },
  {
   "cell_type": "code",
   "execution_count": 20,
   "metadata": {},
   "outputs": [
    {
     "name": "stdout",
     "output_type": "stream",
     "text": [
      "+--------+----------------+--------------------+--------------------+--------------------+--------------------+\n",
      "|movie_id|      movie_name|                plot|               genre|          plot_terms|            filtered|\n",
      "+--------+----------------+--------------------+--------------------+--------------------+--------------------+\n",
      "|23890098|      Taxi Blues|Shlykov, a hard-w...|['World cinema', ...|[shlykov, a, hard...|[shlykov, hard, w...|\n",
      "|31186339|The Hunger Games|The nation of Pan...|['Action/Adventur...|[the, nation, of,...|[nation, panem, c...|\n",
      "+--------+----------------+--------------------+--------------------+--------------------+--------------------+\n",
      "only showing top 2 rows\n",
      "\n"
     ]
    }
   ],
   "source": [
    "stopword_tokenized_withnum.show(2)"
   ]
  },
  {
   "cell_type": "code",
   "execution_count": 21,
   "metadata": {},
   "outputs": [],
   "source": [
    "#stopword_tokenized_withnum.select('filtered').show(2, truncate=False)"
   ]
  },
  {
   "cell_type": "code",
   "execution_count": 22,
   "metadata": {},
   "outputs": [
    {
     "name": "stdout",
     "output_type": "stream",
     "text": [
      "+--------+------------------+--------------------+--------------------+--------------------+--------------------+\n",
      "|movie_id|        movie_name|                plot|               genre|          plot_terms|            filtered|\n",
      "+--------+------------------+--------------------+--------------------+--------------------+--------------------+\n",
      "|23890098|        Taxi Blues|Shlykov, a hard-w...|['World cinema', ...|[shlykov, a, hard...|[shlykov, hard, w...|\n",
      "|31186339|  The Hunger Games|The nation of Pan...|['Action/Adventur...|[the, nation, of,...|[nation, panem, c...|\n",
      "|20663735|        Narasimham|Poovalli Induchoo...|['Musical', 'Acti...|[poovalli, induch...|[poovalli, induch...|\n",
      "| 2231378|The Lemon Drop Kid|The Lemon Drop Ki...|          ['Comedy']|[the, lemon, drop...|[lemon, drop, kid...|\n",
      "|  595909| A Cry in the Dark|Seventh-day Adven...|['Crime Fiction',...|[seventh, day, ad...|[seventh, day, ad...|\n",
      "+--------+------------------+--------------------+--------------------+--------------------+--------------------+\n",
      "only showing top 5 rows\n",
      "\n"
     ]
    }
   ],
   "source": [
    "def is_not_digit(rec):\n",
    "    list1 = []\n",
    "    for i in rec:\n",
    "        if i.isdigit():\n",
    "            continue;\n",
    "        else:\n",
    "            list1.append(i)\n",
    "    return list1\n",
    "            \n",
    "stopword_without_numbers = stopword_tokenized_withnum.rdd.map(lambda x: [x[0],x[1],x[2],x[3],x[4],is_not_digit(x[5])])#, x[2], x[3]])\n",
    "stopword_tokenized= sqlContext.createDataFrame(stopword_without_numbers,['movie_id','movie_name','plot','genre','plot_terms','filtered'])\n",
    "stopword_tokenized.show(5)"
   ]
  },
  {
   "cell_type": "code",
   "execution_count": 23,
   "metadata": {},
   "outputs": [
    {
     "name": "stdout",
     "output_type": "stream",
     "text": [
      "+--------------------------------------------------------------------------------------------------------------------------------------------------------------------------------------------------------------------------------------------------------------------------------------------------------------------------------------------------------------------------------------------------------------------------------------------------------------------------------------------------------------------------------------------------------------------------------------------------------------------------------------------------------------------------------------------------------------------------------------------------------------------------------------------------------------------------------------------------------------------------------------------------------------------------------------------------------------------------------------------------------------------------------------------------------------------------------------------------------------------------------------------------------------------------------------------------------------------------------------------------------------------------------------------------------------------------------------------------------------------------------------------------------------------------------------------------------------------------------------------------------------------------------------------------------------------------------------------------------------------------------------------------------------------------------------------------------------------------------------------------------------------------------------------------------------------------------------------------------------------------------------------------------------------------------------------------------------------------------------------------------------------------------------------------------------------------------------------------------------------------------------------------------------------------------------------------------------------------------------------------------------------------------------------------------------------------------------------------------------------------------------------------------------------------------------------------------------------------------------------------------------------------------------------------------------------------------------------------------------------------------------------------------------------------------------------------------------------------------------------------------------------------------------------------------------------------------------------------------------------------------------------------------------------------------------------------------------------------------------------------------------------------------------------------------------------------------------------------------------------------------------------------------------------------------------------------------------------------------------------------------------------------------------------------------------------------------------------------------------------------------------------------------------------------------------------------------------------------------------------------------------------------------------------------------------------------------------------------------------------------------------------------------------------------------------------------+\n",
      "|filtered                                                                                                                                                                                                                                                                                                                                                                                                                                                                                                                                                                                                                                                                                                                                                                                                                                                                                                                                                                                                                                                                                                                                                                                                                                                                                                                                                                                                                                                                                                                                                                                                                                                                                                                                                                                                                                                                                                                                                                                                                                                                                                                                                                                                                                                                                                                                                                                                                                                                                                                                                                                                                                                                                                                                                                                                                                                                                                                                                                                                                                                                                                                                                                                                                                                                                                                                                                                                                                                                                                                                                                                                                                                                                          |\n",
      "+--------------------------------------------------------------------------------------------------------------------------------------------------------------------------------------------------------------------------------------------------------------------------------------------------------------------------------------------------------------------------------------------------------------------------------------------------------------------------------------------------------------------------------------------------------------------------------------------------------------------------------------------------------------------------------------------------------------------------------------------------------------------------------------------------------------------------------------------------------------------------------------------------------------------------------------------------------------------------------------------------------------------------------------------------------------------------------------------------------------------------------------------------------------------------------------------------------------------------------------------------------------------------------------------------------------------------------------------------------------------------------------------------------------------------------------------------------------------------------------------------------------------------------------------------------------------------------------------------------------------------------------------------------------------------------------------------------------------------------------------------------------------------------------------------------------------------------------------------------------------------------------------------------------------------------------------------------------------------------------------------------------------------------------------------------------------------------------------------------------------------------------------------------------------------------------------------------------------------------------------------------------------------------------------------------------------------------------------------------------------------------------------------------------------------------------------------------------------------------------------------------------------------------------------------------------------------------------------------------------------------------------------------------------------------------------------------------------------------------------------------------------------------------------------------------------------------------------------------------------------------------------------------------------------------------------------------------------------------------------------------------------------------------------------------------------------------------------------------------------------------------------------------------------------------------------------------------------------------------------------------------------------------------------------------------------------------------------------------------------------------------------------------------------------------------------------------------------------------------------------------------------------------------------------------------------------------------------------------------------------------------------------------------------------------------------------------+\n",
      "|[shlykov, hard, working, taxi, driver, lyosha, saxophonist, develop, bizarre, love, hate, relationship, despite, prejudices, realize, aren, different]                                                                                                                                                                                                                                                                                                                                                                                                                                                                                                                                                                                                                                                                                                                                                                                                                                                                                                                                                                                                                                                                                                                                                                                                                                                                                                                                                                                                                                                                                                                                                                                                                                                                                                                                                                                                                                                                                                                                                                                                                                                                                                                                                                                                                                                                                                                                                                                                                                                                                                                                                                                                                                                                                                                                                                                                                                                                                                                                                                                                                                                                                                                                                                                                                                                                                                                                                                                                                                                                                                                                            |\n",
      "|[nation, panem, consists, wealthy, capitol, twelve, poorer, districts, punishment, past, rebellion, district, must, provide, boy, girl, ages, selected, lottery, annual, hunger, games, tributes, must, fight, death, arena, sole, survivor, rewarded, fame, wealth, first, reaping, year, old, primrose, everdeen, chosen, district, older, sister, katniss, volunteers, take, place, peeta, mellark, baker, son, gave, katniss, bread, starving, district, tribute, katniss, peeta, taken, capitol, accompanied, frequently, drunk, mentor, past, victor, haymitch, abernathy, warns, career, tributes, train, intensively, special, academies, almost, always, win, tv, interview, caesar, flickerman, peeta, unexpectedly, reveals, love, katniss, outraged, believing, ploy, gain, audience, support, sponsors, may, provide, games, gifts, food, medicine, tools, however, discovers, peeta, meant, said, televised, games, begin, half, tributes, killed, first, minutes, katniss, barely, survives, ignoring, haymitch, advice, run, away, melee, tempting, supplies, weapons, strewn, front, structure, called, cornucopia, peeta, forms, uneasy, alliance, four, careers, later, find, katniss, corner, tree, rue, hiding, nearby, tree, draws, attention, poisonous, tracker, jacker, nest, hanging, branch, katniss, drops, sleeping, besiegers, scatter, except, glimmer, killed, insects, hallucinating, due, tracker, jacker, venom, katniss, warned, run, away, peeta, rue, cares, katniss, couple, days, recovers, meanwhile, alliance, gathered, supplies, pile, katniss, rue, draw, destroys, stockpile, setting, mines, planted, around, furious, cato, kills, boy, assigned, guard, katniss, runs, scene, hears, rue, calling, name, finds, rue, trapped, releases, marvel, tribute, district, throws, spear, katniss, dodges, spear, causing, stab, rue, stomach, instead, katniss, shoots, dead, arrow, comforts, dying, rue, song, afterward, gathers, arranges, flowers, around, rue, body, televised, sparks, riot, rue, district, president, snow, summons, seneca, crane, gamemaker, express, displeasure, way, games, turning, since, katniss, peeta, presented, public, star, crossed, lovers, haymitch, able, convince, crane, make, rule, change, avoid, inciting, riots, announced, tributes, district, win, pair, upon, hearing, katniss, searches, peeta, finds, infected, sword, wound, leg, portrays, deeply, love, gains, sponsor, gift, soup, announcer, proclaims, feast, thing, survivor, needs, provided, peeta, begs, risk, getting, medicine, katniss, promises, go, falls, asleep, heads, feast, clove, ambushes, pins, clove, gloats, thresh, district, tribute, kills, clove, overhearing, tormenting, katniss, killing, rue, spares, katniss, time, rue, medicine, works, keeping, peeta, mobile, foxface, girl, district, dies, eating, nightlock, berries, stole, peeta, neither, knew, highly, poisonous, crane, changes, time, day, arena, late, night, unleashes, pack, hound, like, creatures, speed, things, kill, thresh, force, katniss, peeta, flee, roof, cornucopia, encounter, cato, battle, katniss, wounds, cato, arrow, peeta, hurls, creatures, katniss, shoots, cato, spare, prolonged, death, peeta, katniss, apparently, victorious, rule, change, allowing, two, winners, suddenly, revoked, peeta, tells, katniss, shoot, instead, gives, half, nightlock, however, commit, suicide, hastily, proclaimed, victors, 74th, hunger, games, haymitch, warns, katniss, made, powerful, enemies, display, defiance, peeta, return, district, crane, locked, room, bowl, nightlock, berries, president, snow, considers, situation]|\n",
      "+--------------------------------------------------------------------------------------------------------------------------------------------------------------------------------------------------------------------------------------------------------------------------------------------------------------------------------------------------------------------------------------------------------------------------------------------------------------------------------------------------------------------------------------------------------------------------------------------------------------------------------------------------------------------------------------------------------------------------------------------------------------------------------------------------------------------------------------------------------------------------------------------------------------------------------------------------------------------------------------------------------------------------------------------------------------------------------------------------------------------------------------------------------------------------------------------------------------------------------------------------------------------------------------------------------------------------------------------------------------------------------------------------------------------------------------------------------------------------------------------------------------------------------------------------------------------------------------------------------------------------------------------------------------------------------------------------------------------------------------------------------------------------------------------------------------------------------------------------------------------------------------------------------------------------------------------------------------------------------------------------------------------------------------------------------------------------------------------------------------------------------------------------------------------------------------------------------------------------------------------------------------------------------------------------------------------------------------------------------------------------------------------------------------------------------------------------------------------------------------------------------------------------------------------------------------------------------------------------------------------------------------------------------------------------------------------------------------------------------------------------------------------------------------------------------------------------------------------------------------------------------------------------------------------------------------------------------------------------------------------------------------------------------------------------------------------------------------------------------------------------------------------------------------------------------------------------------------------------------------------------------------------------------------------------------------------------------------------------------------------------------------------------------------------------------------------------------------------------------------------------------------------------------------------------------------------------------------------------------------------------------------------------------------------------------------------------+\n",
      "only showing top 2 rows\n",
      "\n"
     ]
    }
   ],
   "source": [
    "stopword_tokenized.select('filtered').show(2, truncate=False)"
   ]
  },
  {
   "cell_type": "code",
   "execution_count": 26,
   "metadata": {},
   "outputs": [],
   "source": [
    "from pyspark.ml.feature import Word2Vec"
   ]
  },
  {
   "cell_type": "code",
   "execution_count": 27,
   "metadata": {},
   "outputs": [],
   "source": [
    "w2v = Word2Vec(vectorSize=350, minCount=5, inputCol=\"filtered\", outputCol=\"rawfeatures\")"
   ]
  },
  {
   "cell_type": "code",
   "execution_count": 28,
   "metadata": {},
   "outputs": [],
   "source": [
    "doc2vec_model = w2v.fit(stopword_tokenized)\n",
    "cv_df = doc2vec_model.transform(stopword_tokenized)"
   ]
  },
  {
   "cell_type": "markdown",
   "metadata": {},
   "source": [
    "#### THIS IS FOR CREATING TF USING HASHINGTF or COUNTVECTORIZER"
   ]
  },
  {
   "cell_type": "code",
   "execution_count": 27,
   "metadata": {},
   "outputs": [],
   "source": [
    " #from pyspark.ml.feature import HashingTF, IDF, Tokenizer"
   ]
  },
  {
   "cell_type": "code",
   "execution_count": 28,
   "metadata": {},
   "outputs": [],
   "source": [
    " #hashing_tf = HashingTF(inputCol = 'rawfeatures', outputCol = 'features')"
   ]
  },
  {
   "cell_type": "code",
   "execution_count": 29,
   "metadata": {},
   "outputs": [],
   "source": [
    "#USES HASHING TO CALCULATE TF. A BETTER APPROACH BUT CONFUSING.\n",
    "# featurized_df = hashing_tf.transform(stopword_tokenized)\n",
    "# featurized_df.show(2)"
   ]
  },
  {
   "cell_type": "code",
   "execution_count": 30,
   "metadata": {},
   "outputs": [],
   "source": [
    "# featurized_df.show(2)"
   ]
  },
  {
   "cell_type": "code",
   "execution_count": 31,
   "metadata": {},
   "outputs": [],
   "source": [
    "#from pyspark.ml.feature import CountVectorizer,IDF"
   ]
  },
  {
   "cell_type": "code",
   "execution_count": 32,
   "metadata": {},
   "outputs": [],
   "source": [
    "#cv = CountVectorizer(inputCol = 'filtered', vocabSize = 10000, minDF = 5.0, outputCol = 'raw_features')"
   ]
  },
  {
   "cell_type": "code",
   "execution_count": 33,
   "metadata": {},
   "outputs": [],
   "source": [
    "#cv_model = cv.fit(stopword_tokenized)\n",
    "#cv_df = cv_model.transform(stopword_tokenized)"
   ]
  },
  {
   "cell_type": "code",
   "execution_count": 34,
   "metadata": {
    "scrolled": true
   },
   "outputs": [],
   "source": [
    "#cv_df.select(\"raw_features\").show(2, truncate = False)"
   ]
  },
  {
   "cell_type": "code",
   "execution_count": 35,
   "metadata": {
    "scrolled": true
   },
   "outputs": [],
   "source": [
    "#cv_df.take(1)"
   ]
  },
  {
   "cell_type": "code",
   "execution_count": 36,
   "metadata": {},
   "outputs": [],
   "source": [
    "#idf = IDF(inputCol = 'raw_features', outputCol = 'features')\n",
    "#idf_model = idf.fit(cv_df)\n",
    "#final_features = idf_model.transform(cv_df)\n",
    "#final_features = final_features.select(\"genre\",\"features\")\n",
    "\n",
    "#final_features = cv_df.select(\"genre\", \"features\")"
   ]
  },
  {
   "cell_type": "code",
   "execution_count": 29,
   "metadata": {},
   "outputs": [
    {
     "name": "stdout",
     "output_type": "stream",
     "text": [
      "+--------------------+--------------------+\n",
      "|               genre|            features|\n",
      "+--------------------+--------------------+\n",
      "|['World cinema', ...|[-0.0050093183458...|\n",
      "|['Action/Adventur...|[0.00205552355450...|\n",
      "|['Musical', 'Acti...|[0.00542103223440...|\n",
      "|          ['Comedy']|[-2.4456956043942...|\n",
      "|['Crime Fiction',...|[-0.0159982558594...|\n",
      "|['Action/Adventur...|[-0.0444203289753...|\n",
      "|['Thriller', 'Dra...|[-0.0241131160476...|\n",
      "|           ['Drama']|[-0.0371631226276...|\n",
      "|['Black-and-white...|[-0.0205838167644...|\n",
      "|['Animation', 'Sh...|[-0.0116436669437...|\n",
      "|          ['Comedy']|[-0.0257132552618...|\n",
      "|['Crime Fiction',...|[-0.0026438752506...|\n",
      "|          ['Comedy']|[-0.0410785525968...|\n",
      "|          ['Comedy']|[-0.0248786258935...|\n",
      "|          ['Horror']|[-0.0306048169959...|\n",
      "|['Crime Fiction',...|[-0.0024029585144...|\n",
      "|           ['Drama']|[-0.0267404576595...|\n",
      "|['Crime Fiction',...|[-0.0197751616995...|\n",
      "|  ['Indie', 'Drama']|[-0.0164763600469...|\n",
      "|           ['Drama']|[-0.0199839865155...|\n",
      "+--------------------+--------------------+\n",
      "only showing top 20 rows\n",
      "\n"
     ]
    }
   ],
   "source": [
    "final_features = cv_df.select(\"genre\", \"rawfeatures\").withColumnRenamed('rawfeatures','features')\n",
    "final_features.show()"
   ]
  },
  {
   "cell_type": "code",
   "execution_count": 30,
   "metadata": {},
   "outputs": [],
   "source": [
    "from pyspark.ml.feature import StringIndexer\n",
    "from pyspark.ml import Pipeline"
   ]
  },
  {
   "cell_type": "code",
   "execution_count": 31,
   "metadata": {},
   "outputs": [],
   "source": [
    "label_stringIdx = StringIndexer(inputCol = 'genre', outputCol = 'label')"
   ]
  },
  {
   "cell_type": "code",
   "execution_count": 32,
   "metadata": {},
   "outputs": [],
   "source": [
    "pipeline = Pipeline(stages=[label_stringIdx])"
   ]
  },
  {
   "cell_type": "code",
   "execution_count": 33,
   "metadata": {},
   "outputs": [
    {
     "name": "stdout",
     "output_type": "stream",
     "text": [
      "+--------------------+--------------------+------+\n",
      "|               genre|            features| label|\n",
      "+--------------------+--------------------+------+\n",
      "|['World cinema', ...|[-0.0050093183458...|   4.0|\n",
      "|['Action/Adventur...|[0.00205552355450...|1603.0|\n",
      "|['Musical', 'Acti...|[0.00542103223440...| 316.0|\n",
      "|          ['Comedy']|[-2.4456956043942...|   1.0|\n",
      "|['Crime Fiction',...|[-0.0159982558594...| 113.0|\n",
      "+--------------------+--------------------+------+\n",
      "only showing top 5 rows\n",
      "\n"
     ]
    }
   ],
   "source": [
    "# pipelineFit = pipeline.fit(final_features)\n",
    "dataset = pipeline.fit(final_features).transform(final_features)\n",
    "dataset.show(5)"
   ]
  },
  {
   "cell_type": "code",
   "execution_count": 34,
   "metadata": {},
   "outputs": [],
   "source": [
    "test = final_features\n"
   ]
  },
  {
   "cell_type": "code",
   "execution_count": 35,
   "metadata": {},
   "outputs": [
    {
     "name": "stdout",
     "output_type": "stream",
     "text": [
      "+--------------------+--------------------+\n",
      "|               genre|            features|\n",
      "+--------------------+--------------------+\n",
      "| World cinema, Drama|[-0.0050093183458...|\n",
      "|Action/Adventure,...|[0.00205552355450...|\n",
      "|Musical, Action, ...|[0.00542103223440...|\n",
      "|              Comedy|[-2.4456956043942...|\n",
      "|Crime Fiction, Wo...|[-0.0159982558594...|\n",
      "+--------------------+--------------------+\n",
      "only showing top 5 rows\n",
      "\n"
     ]
    }
   ],
   "source": [
    "def splitter(rec):\n",
    "    rec = rec.replace('[','')\n",
    "    rec = rec.replace(']','')\n",
    "    rec = rec.replace('\\'','')\n",
    "#     rec = [item.replace(\"[\", \"\") for item in rec]\n",
    "#     rec = [item.replace(\"]\", \"\") for item in rec]\n",
    "#     rec = [item.replace(\"\\'\", \"\") for item in rec]\n",
    "    return rec\n",
    "test1 = test.rdd.map(lambda x: [splitter(x[0]), x[1]])#, x[2], x[3]])\n",
    "test2= sqlContext.createDataFrame(test1,['genre','features'])\n",
    "test2.show(5)"
   ]
  },
  {
   "cell_type": "code",
   "execution_count": 36,
   "metadata": {},
   "outputs": [
    {
     "name": "stdout",
     "output_type": "stream",
     "text": [
      "+--------------------+--------------------+---+------------+\n",
      "|            features|               genre|pos|string_label|\n",
      "+--------------------+--------------------+---+------------+\n",
      "|[-0.0050093183458...|[World cinema,  D...|  0|World cinema|\n",
      "|[-0.0050093183458...|[World cinema,  D...|  1|       Drama|\n",
      "+--------------------+--------------------+---+------------+\n",
      "only showing top 2 rows\n",
      "\n"
     ]
    }
   ],
   "source": [
    "import pyspark.sql.functions as f\n",
    "test3 = test2.select(\"features\", f.split('genre',',').alias(\"genre\"), f.posexplode(f.split(\"genre\",\",\")).alias(\"pos\", \"string_label\"))\n",
    "test3.show(2)"
   ]
  },
  {
   "cell_type": "code",
   "execution_count": 35,
   "metadata": {},
   "outputs": [],
   "source": [
    "#dataset = test3.select(\"features\", f.concat(f.lit(\"genre\"),f.col('pos').cast(\"string\")).alias(\"name\"),f.expr(\"genre[pos]\").alias(\"string_label\")).groupBy(\"features\").pivot(\"name\").agg(f.first(\"string_label\"))\n"
   ]
  },
  {
   "cell_type": "code",
   "execution_count": 36,
   "metadata": {},
   "outputs": [],
   "source": [
    "#dataset.show(1, truncate=False)\n",
    "#dataset.show(1)"
   ]
  },
  {
   "cell_type": "code",
   "execution_count": 37,
   "metadata": {},
   "outputs": [],
   "source": [
    "final_dataset = test3.select(\"features\", \"string_label\")"
   ]
  },
  {
   "cell_type": "code",
   "execution_count": 38,
   "metadata": {},
   "outputs": [
    {
     "name": "stdout",
     "output_type": "stream",
     "text": [
      "+--------------------+----------------+\n",
      "|            features|    string_label|\n",
      "+--------------------+----------------+\n",
      "|[-0.0050093183458...|    World cinema|\n",
      "|[-0.0050093183458...|           Drama|\n",
      "|[0.00205552355450...|Action/Adventure|\n",
      "|[0.00205552355450...|          Action|\n",
      "+--------------------+----------------+\n",
      "only showing top 4 rows\n",
      "\n"
     ]
    }
   ],
   "source": [
    "final_dataset.show(4)"
   ]
  },
  {
   "cell_type": "code",
   "execution_count": 39,
   "metadata": {},
   "outputs": [],
   "source": [
    "label_stringIdx = StringIndexer(inputCol = 'string_label', outputCol = 'label')"
   ]
  },
  {
   "cell_type": "code",
   "execution_count": 40,
   "metadata": {},
   "outputs": [],
   "source": [
    "# final_dataset1 = label_stringIdx.fit(fd2).transform(fd2)\n",
    "# final_dataset1.show(5)"
   ]
  },
  {
   "cell_type": "code",
   "execution_count": 40,
   "metadata": {},
   "outputs": [
    {
     "name": "stdout",
     "output_type": "stream",
     "text": [
      "+--------------------+----------------+\n",
      "|            features|    string_label|\n",
      "+--------------------+----------------+\n",
      "|[-0.0050093183458...|    World cinema|\n",
      "|[-0.0050093183458...|           Drama|\n",
      "|[0.00205552355450...|Action/Adventure|\n",
      "|[0.00205552355450...|          Action|\n",
      "|[0.00205552355450...| Science Fiction|\n",
      "+--------------------+----------------+\n",
      "only showing top 5 rows\n",
      "\n"
     ]
    }
   ],
   "source": [
    "def label_mod(rec):\n",
    "    rec = rec.strip()\n",
    "    return rec\n",
    "fd1_rdd = final_dataset.rdd.map(lambda x: [x[0],label_mod(x[1])])#, x[2], x[3]])\n",
    "fd2= sqlContext.createDataFrame(fd1_rdd,['features','string_label'])\n",
    "fd2.show(5)"
   ]
  },
  {
   "cell_type": "code",
   "execution_count": 41,
   "metadata": {},
   "outputs": [
    {
     "name": "stdout",
     "output_type": "stream",
     "text": [
      "+--------------------+----------------+-----+\n",
      "|            features|    string_label|label|\n",
      "+--------------------+----------------+-----+\n",
      "|[-0.0050093183458...|    World cinema|  5.0|\n",
      "|[-0.0050093183458...|           Drama|  0.0|\n",
      "|[0.00205552355450...|Action/Adventure| 10.0|\n",
      "|[0.00205552355450...|          Action|  4.0|\n",
      "|[0.00205552355450...| Science Fiction| 17.0|\n",
      "+--------------------+----------------+-----+\n",
      "only showing top 5 rows\n",
      "\n"
     ]
    }
   ],
   "source": [
    "final_dataset2 = label_stringIdx.fit(fd2).transform(fd2)\n",
    "final_dataset2.show(5)"
   ]
  },
  {
   "cell_type": "code",
   "execution_count": 42,
   "metadata": {},
   "outputs": [],
   "source": [
    "pivotDF = final_dataset2.groupBy(\"features\").pivot(\"string_label\").sum('label')\n",
    "#pivotDF.show(10)"
   ]
  },
  {
   "cell_type": "code",
   "execution_count": 43,
   "metadata": {},
   "outputs": [],
   "source": [
    "from pyspark.sql.functions import when\n",
    "cols = pivotDF.columns[1:]\n",
    "#cols\n",
    "\n",
    "for col in cols:\n",
    "    pivotDF = pivotDF.withColumn(col, when(pivotDF[col]>=0,1).otherwise(0))"
   ]
  },
  {
   "cell_type": "code",
   "execution_count": 45,
   "metadata": {
    "scrolled": true
   },
   "outputs": [],
   "source": [
    "#pivotDF.show(10)"
   ]
  },
  {
   "cell_type": "code",
   "execution_count": 45,
   "metadata": {},
   "outputs": [],
   "source": [
    "from pyspark.ml.classification import LogisticRegression\n",
    "lr = LogisticRegression(labelCol='label',featuresCol='features', maxIter = 100)"
   ]
  },
  {
   "cell_type": "code",
   "execution_count": 46,
   "metadata": {},
   "outputs": [],
   "source": [
    "train = pivotDF"
   ]
  },
  {
   "cell_type": "code",
   "execution_count": 47,
   "metadata": {},
   "outputs": [],
   "source": [
    "train_1 = train.select('features','Drama').withColumnRenamed(\"Drama\",\"label\") \n",
    "lr_model_1 = lr.fit(train_1)\n",
    "#train_test_1 = train_test.select('features','Drama').withColumnRenamed(\"Drama\",\"label\") \n",
    "#predictions_1 = lr_model_1.transform(train_test_1)"
   ]
  },
  {
   "cell_type": "code",
   "execution_count": 47,
   "metadata": {},
   "outputs": [],
   "source": [
    "#train_test_1.show()"
   ]
  },
  {
   "cell_type": "code",
   "execution_count": 48,
   "metadata": {},
   "outputs": [],
   "source": [
    "#predictions_1.show(3)"
   ]
  },
  {
   "cell_type": "code",
   "execution_count": 47,
   "metadata": {},
   "outputs": [
    {
     "name": "stdout",
     "output_type": "stream",
     "text": [
      "Test Accuracy: 0.7890092774232162\n"
     ]
    }
   ],
   "source": [
    "from pyspark.ml.evaluation import BinaryClassificationEvaluator\n",
    "\n",
    "#evaluator = BinaryClassificationEvaluator(rawPredictionCol = \"rawPrediction\")\n",
    "#print(\"Test Accuracy: \" + str(evaluator.evaluate(predictions_1)))"
   ]
  },
  {
   "cell_type": "code",
   "execution_count": 50,
   "metadata": {},
   "outputs": [],
   "source": [
    "#### Model- 2 - Comedy"
   ]
  },
  {
   "cell_type": "code",
   "execution_count": 48,
   "metadata": {},
   "outputs": [],
   "source": [
    "train_2 = train.select('features','Comedy').withColumnRenamed(\"Comedy\",\"label\") \n",
    "lr_model_2 = lr.fit(train_2)\n",
    "#train_test_2 = train_test.select('features','Comedy').withColumnRenamed(\"Comedy\",\"label\") \n",
    "#predictions_2 = lr_model_2.transform(train_test_2)"
   ]
  },
  {
   "cell_type": "code",
   "execution_count": 56,
   "metadata": {},
   "outputs": [
    {
     "name": "stdout",
     "output_type": "stream",
     "text": [
      "Test Accuracy: 0.7527455608626785\n"
     ]
    }
   ],
   "source": [
    "#evaluator = BinaryClassificationEvaluator(rawPredictionCol = \"rawPrediction\")\n",
    "#print(\"Test Accuracy: \" + str(evaluator.evaluate(predictions_2)))"
   ]
  },
  {
   "cell_type": "code",
   "execution_count": 65,
   "metadata": {},
   "outputs": [],
   "source": [
    "#### Model -3 - Romance Film"
   ]
  },
  {
   "cell_type": "code",
   "execution_count": 49,
   "metadata": {},
   "outputs": [],
   "source": [
    "train_3 = train.select('features','Romance Film').withColumnRenamed(\"Romance Film\",\"label\") \n",
    "lr_model_3 = lr.fit(train_3)\n",
    "#train_test_3 = train_test.select('features','Romance Film').withColumnRenamed(\"Romance Film\",\"label\") \n",
    "#predictions_3 = lr_model_3.transform(train_test_3)"
   ]
  },
  {
   "cell_type": "code",
   "execution_count": 67,
   "metadata": {},
   "outputs": [],
   "source": [
    "#evaluator = BinaryClassificationEvaluator(rawPredictionCol = \"rawPrediction\")\n",
    "#print(\"Test Accuracy: \" + str(evaluator.evaluate(predictions_3)))"
   ]
  },
  {
   "cell_type": "code",
   "execution_count": 68,
   "metadata": {},
   "outputs": [],
   "source": [
    "#### Model -4 - Thriller"
   ]
  },
  {
   "cell_type": "code",
   "execution_count": 50,
   "metadata": {},
   "outputs": [],
   "source": [
    "train_4 = train.select('features','Thriller').withColumnRenamed(\"Thriller\",\"label\") \n",
    "lr_model_4 = lr.fit(train_4)\n",
    "#train_test_4 = train_test.select('features','Thriller').withColumnRenamed(\"Thriller\",\"label\") \n",
    "#predictions_4 = lr_model_4.transform(train_test_4)"
   ]
  },
  {
   "cell_type": "code",
   "execution_count": 70,
   "metadata": {},
   "outputs": [],
   "source": [
    "#evaluator = BinaryClassificationEvaluator(rawPredictionCol = \"rawPrediction\")\n",
    "#print(\"Test Accuracy: \" + str(evaluator.evaluate(predictions_4)))"
   ]
  },
  {
   "cell_type": "code",
   "execution_count": 71,
   "metadata": {},
   "outputs": [],
   "source": [
    "#### Model -5 - Action"
   ]
  },
  {
   "cell_type": "code",
   "execution_count": 51,
   "metadata": {},
   "outputs": [],
   "source": [
    "train_5 = train.select('features','Action').withColumnRenamed(\"Action\",\"label\") \n",
    "lr_model_5 = lr.fit(train_5)\n",
    "#train_test_5 = train_test.select('features','Action').withColumnRenamed(\"Action\",\"label\") \n",
    "#predictions_5 = lr_model_5.transform(train_test_5)"
   ]
  },
  {
   "cell_type": "code",
   "execution_count": 73,
   "metadata": {},
   "outputs": [],
   "source": [
    "#### Model -6 - World cinema"
   ]
  },
  {
   "cell_type": "code",
   "execution_count": 52,
   "metadata": {},
   "outputs": [],
   "source": [
    "train_6 = train.select('features','World cinema').withColumnRenamed(\"World cinema\",\"label\") \n",
    "lr_model_6 = lr.fit(train_6)\n",
    "#train_test_6 = train_test.select('features','World cinema').withColumnRenamed(\"World cinema\",\"label\") \n",
    "#predictions_6 = lr_model_6.transform(train_test_6)"
   ]
  },
  {
   "cell_type": "code",
   "execution_count": 75,
   "metadata": {},
   "outputs": [],
   "source": [
    "#### Model -7 - Crime Fiction"
   ]
  },
  {
   "cell_type": "code",
   "execution_count": 53,
   "metadata": {},
   "outputs": [],
   "source": [
    "train_7 = train.select('features','Crime Fiction').withColumnRenamed(\"Crime Fiction\",\"label\") \n",
    "lr_model_7 = lr.fit(train_7)\n",
    "#train_test_7 = train_test.select('features','Crime Fiction').withColumnRenamed(\"Crime Fiction\",\"label\") \n",
    "#predictions_7 = lr_model_7.transform(train_test_7)"
   ]
  },
  {
   "cell_type": "code",
   "execution_count": 77,
   "metadata": {},
   "outputs": [],
   "source": [
    "#### Model -8 - Horror"
   ]
  },
  {
   "cell_type": "code",
   "execution_count": 54,
   "metadata": {},
   "outputs": [],
   "source": [
    "train_8 = train.select('features','Horror').withColumnRenamed(\"Horror\",\"label\") \n",
    "lr_model_8 = lr.fit(train_8)\n",
    "#train_test_8 = train_test.select('features','Horror').withColumnRenamed(\"Horror\",\"label\") \n",
    "#predictions_8 = lr_model_8.transform(train_test_8)"
   ]
  },
  {
   "cell_type": "code",
   "execution_count": 79,
   "metadata": {},
   "outputs": [],
   "source": [
    "#### Model -9 - Black-and-white"
   ]
  },
  {
   "cell_type": "code",
   "execution_count": 55,
   "metadata": {},
   "outputs": [],
   "source": [
    "train_9 = train.select('features','Black-and-white').withColumnRenamed(\"Black-and-white\",\"label\") \n",
    "lr_model_9 = lr.fit(train_9)"
   ]
  },
  {
   "cell_type": "code",
   "execution_count": 81,
   "metadata": {},
   "outputs": [],
   "source": [
    "#### Model - 10 -Indie"
   ]
  },
  {
   "cell_type": "code",
   "execution_count": 56,
   "metadata": {},
   "outputs": [],
   "source": [
    "train_10 = train.select('features','Indie').withColumnRenamed(\"Indie\",\"label\") \n",
    "lr_model_10 = lr.fit(train_10)"
   ]
  },
  {
   "cell_type": "code",
   "execution_count": 83,
   "metadata": {},
   "outputs": [],
   "source": [
    "#### Model - 11 -Action/Adventure"
   ]
  },
  {
   "cell_type": "code",
   "execution_count": 57,
   "metadata": {},
   "outputs": [],
   "source": [
    "train_11 = train.select('features','Action/Adventure').withColumnRenamed(\"Action/Adventure\",\"label\") \n",
    "lr_model_11 = lr.fit(train_11)"
   ]
  },
  {
   "cell_type": "code",
   "execution_count": 85,
   "metadata": {},
   "outputs": [],
   "source": [
    "#### Model - 12 -Adventure"
   ]
  },
  {
   "cell_type": "code",
   "execution_count": 58,
   "metadata": {},
   "outputs": [],
   "source": [
    "train_12 = train.select('features','Adventure').withColumnRenamed(\"Adventure\",\"label\") \n",
    "lr_model_12 = lr.fit(train_12)"
   ]
  },
  {
   "cell_type": "code",
   "execution_count": 87,
   "metadata": {},
   "outputs": [],
   "source": [
    "#### Model - 13 - Family Film"
   ]
  },
  {
   "cell_type": "code",
   "execution_count": 59,
   "metadata": {},
   "outputs": [],
   "source": [
    "train_13 = train.select('features','Family Film').withColumnRenamed(\"Family Film\",\"label\") \n",
    "lr_model_13 = lr.fit(train_13)"
   ]
  },
  {
   "cell_type": "code",
   "execution_count": 89,
   "metadata": {},
   "outputs": [],
   "source": [
    "#### Model - 14 -Short Film"
   ]
  },
  {
   "cell_type": "code",
   "execution_count": 60,
   "metadata": {},
   "outputs": [],
   "source": [
    "train_14 = train.select('features','Short Film').withColumnRenamed(\"Short Film\",\"label\") \n",
    "lr_model_14 = lr.fit(train_14)"
   ]
  },
  {
   "cell_type": "code",
   "execution_count": 91,
   "metadata": {},
   "outputs": [],
   "source": [
    "#### Model -15 - Romantic drama"
   ]
  },
  {
   "cell_type": "code",
   "execution_count": 61,
   "metadata": {},
   "outputs": [],
   "source": [
    "train_15 = train.select('features','Romantic drama').withColumnRenamed(\"Romantic drama\",\"label\") \n",
    "lr_model_15 = lr.fit(train_15)"
   ]
  },
  {
   "cell_type": "code",
   "execution_count": 93,
   "metadata": {},
   "outputs": [],
   "source": [
    "#### Model -16 - Animation"
   ]
  },
  {
   "cell_type": "code",
   "execution_count": 62,
   "metadata": {},
   "outputs": [],
   "source": [
    "train_16 = train.select('features','Animation').withColumnRenamed(\"Animation\",\"label\") \n",
    "lr_model_16 = lr.fit(train_16)"
   ]
  },
  {
   "cell_type": "code",
   "execution_count": 95,
   "metadata": {},
   "outputs": [],
   "source": [
    "#### Model -17 - Musical"
   ]
  },
  {
   "cell_type": "code",
   "execution_count": 63,
   "metadata": {},
   "outputs": [],
   "source": [
    "train_17 = train.select('features','Musical').withColumnRenamed(\"Musical\",\"label\") \n",
    "lr_model_17 = lr.fit(train_17)"
   ]
  },
  {
   "cell_type": "code",
   "execution_count": 97,
   "metadata": {},
   "outputs": [],
   "source": [
    "#### Model -18 -Science Fiction"
   ]
  },
  {
   "cell_type": "code",
   "execution_count": 64,
   "metadata": {},
   "outputs": [],
   "source": [
    "train_18 = train.select('features','Science Fiction').withColumnRenamed(\"Science Fiction\",\"label\") \n",
    "lr_model_18 = lr.fit(train_18)"
   ]
  },
  {
   "cell_type": "code",
   "execution_count": 99,
   "metadata": {},
   "outputs": [],
   "source": [
    "#### Model -19 -Mystery"
   ]
  },
  {
   "cell_type": "code",
   "execution_count": 66,
   "metadata": {},
   "outputs": [],
   "source": [
    "train_19 = train.select('features','Mystery').withColumnRenamed(\"Mystery\",\"label\") \n",
    "lr_model_19 = lr.fit(train_19)"
   ]
  },
  {
   "cell_type": "code",
   "execution_count": 67,
   "metadata": {},
   "outputs": [],
   "source": [
    "#### Model -20 -Romantic comedy"
   ]
  },
  {
   "cell_type": "code",
   "execution_count": 68,
   "metadata": {},
   "outputs": [],
   "source": [
    "train_20 = train.select('features','Romantic comedy').withColumnRenamed(\"Romantic comedy\",\"label\") \n",
    "lr_model_20 = lr.fit(train_20)"
   ]
  },
  {
   "cell_type": "markdown",
   "metadata": {},
   "source": [
    "# Test Data"
   ]
  },
  {
   "cell_type": "code",
   "execution_count": 69,
   "metadata": {},
   "outputs": [],
   "source": [
    "test_pandas_df = pd.read_csv(\"test.csv\")"
   ]
  },
  {
   "cell_type": "code",
   "execution_count": 70,
   "metadata": {},
   "outputs": [],
   "source": [
    "test_spark_df = sqlContext.createDataFrame(test_pandas_df)\n",
    "test_rdd_df = test_spark_df.rdd"
   ]
  },
  {
   "cell_type": "code",
   "execution_count": 71,
   "metadata": {},
   "outputs": [
    {
     "name": "stdout",
     "output_type": "stream",
     "text": [
      "+--------+--------------------+--------------------+\n",
      "|movie_id|          movie_name|                plot|\n",
      "+--------+--------------------+--------------------+\n",
      "| 1335380|              Exodus|The film is based...|\n",
      "|29062594|A la salida nos v...|A group of teenag...|\n",
      "| 9252321|   Come Back, Africa|This story of a Z...|\n",
      "+--------+--------------------+--------------------+\n",
      "only showing top 3 rows\n",
      "\n"
     ]
    }
   ],
   "source": [
    "test_spark_df.show(3)"
   ]
  },
  {
   "cell_type": "code",
   "execution_count": 72,
   "metadata": {},
   "outputs": [],
   "source": [
    "test_regex_tokenized = regex_tokenizer.transform(test_spark_df)"
   ]
  },
  {
   "cell_type": "code",
   "execution_count": 73,
   "metadata": {},
   "outputs": [],
   "source": [
    "test_stopword_tokenized_withnum = remover.transform(test_regex_tokenized)"
   ]
  },
  {
   "cell_type": "code",
   "execution_count": 74,
   "metadata": {},
   "outputs": [
    {
     "name": "stdout",
     "output_type": "stream",
     "text": [
      "+--------+--------------------+--------------------+--------------------+--------------------+\n",
      "|movie_id|          movie_name|                plot|          plot_terms|            filtered|\n",
      "+--------+--------------------+--------------------+--------------------+--------------------+\n",
      "| 1335380|              Exodus|The film is based...|[the, film, is, b...|[film, based, eve...|\n",
      "|29062594|A la salida nos v...|A group of teenag...|[a, group, of, te...|[group, teenagers...|\n",
      "| 9252321|   Come Back, Africa|This story of a Z...|[this, story, of,...|[story, zulu, fam...|\n",
      "|13455076|       A Merry Mixup|The Stooges play ...|[the, stooges, pl...|[stooges, play, t...|\n",
      "|24165951|        Getting Even|A soldier-of-fort...|[a, soldier, of, ...|[soldier, fortune...|\n",
      "| 1925869|  River of No Return|Set in the Northw...|[set, in, the, no...|[set, northwester...|\n",
      "|10799612|          Amici miei|Like in many othe...|[like, in, many, ...|[like, many, moni...|\n",
      "|28238240|Mickey's Big Game...|Mickey and the Sc...|[mickey, and, the...|[mickey, scorpion...|\n",
      "|17124781|The Good, the Bad...|In the desert wil...|[in, the, desert,...|[desert, wilderne...|\n",
      "|28207941|    The Dancing Fool|Bimbo and Koko ar...|[bimbo, and, koko...|[bimbo, koko, sig...|\n",
      "|19174305|              Tahaan|Tahaan  lives wit...|[tahaan, lives, w...|[tahaan, lives, g...|\n",
      "|18392317|     Mysterious Mose|Betty is startled...|[betty, is, start...|[betty, startled,...|\n",
      "|34420857|Kelviyum Naane Pa...|Nirmal ([[Karthik...|[nirmal, karthik,...|[nirmal, karthik,...|\n",
      "| 4039635|   First on the Moon|A group of journa...|[a, group, of, jo...|[group, journalis...|\n",
      "| 8034072|  Journey of a Woman|Vaibhavari Sahay,...|[vaibhavari, saha...|[vaibhavari, saha...|\n",
      "| 4016437|     Sophie's Choice|In 1947, the movi...|[in, 1947, the, m...|[1947, movie, nar...|\n",
      "| 1520023|  Ninja Resurrection|Ninja Resurrectio...|[ninja, resurrect...|[ninja, resurrect...|\n",
      "|24589422|      Maria’s Lovers|In the spring of ...|[in, the, spring,...|[spring, 1946, iv...|\n",
      "|35068740|           Chinnavar|Muthu ([[Prabhu  ...|[muthu, prabhu, a...|[muthu, prabhu, v...|\n",
      "|21132951|              Aparan|Vishwanathan , an...|[vishwanathan, an...|[vishwanathan, in...|\n",
      "+--------+--------------------+--------------------+--------------------+--------------------+\n",
      "only showing top 20 rows\n",
      "\n"
     ]
    }
   ],
   "source": [
    "test_stopword_tokenized_withnum.show()"
   ]
  },
  {
   "cell_type": "code",
   "execution_count": 75,
   "metadata": {},
   "outputs": [
    {
     "name": "stdout",
     "output_type": "stream",
     "text": [
      "+--------+--------------------+--------------------+--------------------+--------------------+\n",
      "|movie_id|          movie_name|                plot|          plot_terms|            filtered|\n",
      "+--------+--------------------+--------------------+--------------------+--------------------+\n",
      "| 1335380|              Exodus|The film is based...|[the, film, is, b...|[film, based, eve...|\n",
      "|29062594|A la salida nos v...|A group of teenag...|[a, group, of, te...|[group, teenagers...|\n",
      "| 9252321|   Come Back, Africa|This story of a Z...|[this, story, of,...|[story, zulu, fam...|\n",
      "|13455076|       A Merry Mixup|The Stooges play ...|[the, stooges, pl...|[stooges, play, t...|\n",
      "|24165951|        Getting Even|A soldier-of-fort...|[a, soldier, of, ...|[soldier, fortune...|\n",
      "+--------+--------------------+--------------------+--------------------+--------------------+\n",
      "only showing top 5 rows\n",
      "\n"
     ]
    }
   ],
   "source": [
    "def is_not_digit(rec):\n",
    "    list1 = []\n",
    "    for i in rec:\n",
    "        if i.isdigit():\n",
    "            continue;\n",
    "        else:\n",
    "            list1.append(i)\n",
    "    return list1\n",
    "            \n",
    "test_stopword_without_numbers = test_stopword_tokenized_withnum.rdd.map(lambda x: [x[0],x[1],x[2],x[3],is_not_digit(x[4])])#, x[2], x[3]])\n",
    "test_stopword_tokenized= sqlContext.createDataFrame(test_stopword_without_numbers,['movie_id','movie_name','plot','plot_terms','filtered'])\n",
    "test_stopword_tokenized.show(5)"
   ]
  },
  {
   "cell_type": "code",
   "execution_count": 110,
   "metadata": {},
   "outputs": [],
   "source": [
    "#test_cv = CountVectorizer(inputCol = 'filtered', vocabSize = 10000, minDF = 5.0, outputCol = 'raw_features')"
   ]
  },
  {
   "cell_type": "code",
   "execution_count": 111,
   "metadata": {},
   "outputs": [],
   "source": [
    "#test_cv_model = test_cv.fit(test_stopword_tokenized)\n",
    "#test_cv_df = test_cv_model.transform(test_stopword_tokenized)"
   ]
  },
  {
   "cell_type": "code",
   "execution_count": 112,
   "metadata": {},
   "outputs": [],
   "source": [
    "#test_w2v = Word2Vec(vectorSize=300, minCount=5, inputCol=\"filtered\", outputCol=\"features\""
   ]
  },
  {
   "cell_type": "code",
   "execution_count": 76,
   "metadata": {},
   "outputs": [],
   "source": [
    "#test_doc2vec_model = w2v.fit(test_stopword_tokenized)\n",
    "test_cv_df = doc2vec_model.transform(test_stopword_tokenized)"
   ]
  },
  {
   "cell_type": "code",
   "execution_count": 114,
   "metadata": {},
   "outputs": [],
   "source": [
    "#test_idf = IDF(inputCol = 'raw_features', outputCol = 'features')\n",
    "#test_idf_model = test_idf.fit(test_cv_df)\n",
    "#test_final_features_all = idf_model.transform(test_cv_df)"
   ]
  },
  {
   "cell_type": "code",
   "execution_count": 79,
   "metadata": {},
   "outputs": [],
   "source": [
    "test_final_features = test_cv_df.select(\"rawfeatures\").withColumnRenamed('rawfeatures','features')"
   ]
  },
  {
   "cell_type": "code",
   "execution_count": null,
   "metadata": {},
   "outputs": [],
   "source": []
  },
  {
   "cell_type": "code",
   "execution_count": 80,
   "metadata": {},
   "outputs": [
    {
     "name": "stdout",
     "output_type": "stream",
     "text": [
      "+--------------------+\n",
      "|            features|\n",
      "+--------------------+\n",
      "|[4.60732558957860...|\n",
      "|[-0.0281006262745...|\n",
      "|[-0.0033151158445...|\n",
      "|[-0.0251178558541...|\n",
      "|[0.02676017268095...|\n",
      "|[-0.0044664675048...|\n",
      "|[-0.0247545663940...|\n",
      "|[-0.0110064580637...|\n",
      "|[0.00185911922366...|\n",
      "|[-0.0681458557373...|\n",
      "|[-0.0167336908851...|\n",
      "|[-0.0555674358471...|\n",
      "|[2.16267181163893...|\n",
      "|[-0.0185805701486...|\n",
      "|[-0.0038303944157...|\n",
      "|[-0.0099951453892...|\n",
      "|[-0.0030056643691...|\n",
      "|[-0.0152017962006...|\n",
      "|[0.03550026840631...|\n",
      "|[-0.0036234850048...|\n",
      "+--------------------+\n",
      "only showing top 20 rows\n",
      "\n"
     ]
    }
   ],
   "source": [
    "test_final_features.show()"
   ]
  },
  {
   "cell_type": "code",
   "execution_count": 81,
   "metadata": {},
   "outputs": [
    {
     "name": "stdout",
     "output_type": "stream",
     "text": [
      "+--------------------+-----+\n",
      "|            features|label|\n",
      "+--------------------+-----+\n",
      "|[4.60732558957860...|    0|\n",
      "|[-0.0281006262745...|    0|\n",
      "|[-0.0033151158445...|    0|\n",
      "|[-0.0251178558541...|    0|\n",
      "|[0.02676017268095...|    0|\n",
      "|[-0.0044664675048...|    0|\n",
      "|[-0.0247545663940...|    0|\n",
      "|[-0.0110064580637...|    0|\n",
      "|[0.00185911922366...|    0|\n",
      "|[-0.0681458557373...|    0|\n",
      "|[-0.0167336908851...|    0|\n",
      "|[-0.0555674358471...|    0|\n",
      "|[2.16267181163893...|    0|\n",
      "|[-0.0185805701486...|    0|\n",
      "|[-0.0038303944157...|    0|\n",
      "|[-0.0099951453892...|    0|\n",
      "|[-0.0030056643691...|    0|\n",
      "|[-0.0152017962006...|    0|\n",
      "|[0.03550026840631...|    0|\n",
      "|[-0.0036234850048...|    0|\n",
      "+--------------------+-----+\n",
      "only showing top 20 rows\n",
      "\n"
     ]
    }
   ],
   "source": [
    "\n",
    "test_final_1 = test_final_features.withColumn('label',f.lit(0))\n",
    "test_final_1.show()"
   ]
  },
  {
   "cell_type": "code",
   "execution_count": 148,
   "metadata": {},
   "outputs": [],
   "source": [
    "test_predictions_1 = lr_model_1.transform(test_final_1)\n"
   ]
  },
  {
   "cell_type": "code",
   "execution_count": 83,
   "metadata": {},
   "outputs": [
    {
     "name": "stdout",
     "output_type": "stream",
     "text": [
      "+--------------------+--------+-----+\n",
      "|            features|column_1|label|\n",
      "+--------------------+--------+-----+\n",
      "|[4.60732558957860...|       1|    0|\n",
      "|[-0.0281006262745...|       1|    0|\n",
      "|[-0.0033151158445...|       1|    0|\n",
      "|[-0.0251178558541...|       0|    0|\n",
      "|[0.02676017268095...|       0|    0|\n",
      "|[-0.0044664675048...|       1|    0|\n",
      "|[-0.0247545663940...|       1|    0|\n",
      "|[-0.0110064580637...|       0|    0|\n",
      "|[0.00185911922366...|       0|    0|\n",
      "|[-0.0681458557373...|       0|    0|\n",
      "|[-0.0167336908851...|       1|    0|\n",
      "|[-0.0555674358471...|       0|    0|\n",
      "|[2.16267181163893...|       1|    0|\n",
      "|[-0.0185805701486...|       0|    0|\n",
      "|[-0.0038303944157...|       1|    0|\n",
      "|[-0.0099951453892...|       1|    0|\n",
      "|[-0.0030056643691...|       0|    0|\n",
      "|[-0.0152017962006...|       1|    0|\n",
      "|[0.03550026840631...|       1|    0|\n",
      "|[-0.0036234850048...|       1|    0|\n",
      "+--------------------+--------+-----+\n",
      "only showing top 20 rows\n",
      "\n"
     ]
    }
   ],
   "source": [
    "test_predictions_1 = test_predictions_1.select('features','prediction','label').withColumnRenamed('prediction','column')\n",
    "test_predictions_1 = test_predictions_1.withColumn(\"column_1\",test_predictions_1[\"column\"].cast('int'))\n",
    "test_predictions_1 = test_predictions_1.select('features', 'column_1','label')\n",
    "test_predictions_1.show()"
   ]
  },
  {
   "cell_type": "code",
   "execution_count": 84,
   "metadata": {},
   "outputs": [],
   "source": [
    "test_final_2 = test_predictions_1"
   ]
  },
  {
   "cell_type": "code",
   "execution_count": 85,
   "metadata": {},
   "outputs": [],
   "source": [
    "test_predictions_2 = lr_model_2.transform(test_final_2)"
   ]
  },
  {
   "cell_type": "code",
   "execution_count": 86,
   "metadata": {},
   "outputs": [
    {
     "name": "stdout",
     "output_type": "stream",
     "text": [
      "+--------------------+--------+--------+-----+\n",
      "|            features|column_1|column_2|label|\n",
      "+--------------------+--------+--------+-----+\n",
      "|[4.60732558957860...|       1|       0|    0|\n",
      "|[-0.0281006262745...|       1|       1|    0|\n",
      "|[-0.0033151158445...|       1|       0|    0|\n",
      "|[-0.0251178558541...|       0|       1|    0|\n",
      "|[0.02676017268095...|       0|       0|    0|\n",
      "|[-0.0044664675048...|       1|       0|    0|\n",
      "|[-0.0247545663940...|       1|       0|    0|\n",
      "|[-0.0110064580637...|       0|       1|    0|\n",
      "|[0.00185911922366...|       0|       0|    0|\n",
      "|[-0.0681458557373...|       0|       0|    0|\n",
      "|[-0.0167336908851...|       1|       0|    0|\n",
      "|[-0.0555674358471...|       0|       0|    0|\n",
      "|[2.16267181163893...|       1|       0|    0|\n",
      "|[-0.0185805701486...|       0|       0|    0|\n",
      "|[-0.0038303944157...|       1|       0|    0|\n",
      "|[-0.0099951453892...|       1|       0|    0|\n",
      "|[-0.0030056643691...|       0|       0|    0|\n",
      "|[-0.0152017962006...|       1|       0|    0|\n",
      "|[0.03550026840631...|       1|       0|    0|\n",
      "|[-0.0036234850048...|       1|       0|    0|\n",
      "+--------------------+--------+--------+-----+\n",
      "only showing top 20 rows\n",
      "\n"
     ]
    }
   ],
   "source": [
    "test_predictions_2 = test_predictions_2.select('features','column_1','prediction','label').withColumnRenamed('prediction','column')\n",
    "test_predictions_2 = test_predictions_2.withColumn(\"column_2\",test_predictions_2[\"column\"].cast('int'))\n",
    "test_predictions_2 = test_predictions_2.select('features', 'column_1','column_2','label')\n",
    "test_predictions_2.show()"
   ]
  },
  {
   "cell_type": "code",
   "execution_count": 87,
   "metadata": {},
   "outputs": [],
   "source": [
    "test_final_3 = test_predictions_2"
   ]
  },
  {
   "cell_type": "code",
   "execution_count": 88,
   "metadata": {},
   "outputs": [],
   "source": [
    "test_predictions_3 = lr_model_3.transform(test_final_3)"
   ]
  },
  {
   "cell_type": "code",
   "execution_count": 89,
   "metadata": {},
   "outputs": [
    {
     "name": "stdout",
     "output_type": "stream",
     "text": [
      "+--------------------+--------+--------+--------+-----+\n",
      "|            features|column_1|column_2|column_3|label|\n",
      "+--------------------+--------+--------+--------+-----+\n",
      "|[4.60732558957860...|       1|       0|       0|    0|\n",
      "|[-0.0281006262745...|       1|       1|       0|    0|\n",
      "|[-0.0033151158445...|       1|       0|       0|    0|\n",
      "|[-0.0251178558541...|       0|       1|       0|    0|\n",
      "|[0.02676017268095...|       0|       0|       0|    0|\n",
      "|[-0.0044664675048...|       1|       0|       0|    0|\n",
      "|[-0.0247545663940...|       1|       0|       0|    0|\n",
      "|[-0.0110064580637...|       0|       1|       0|    0|\n",
      "|[0.00185911922366...|       0|       0|       0|    0|\n",
      "|[-0.0681458557373...|       0|       0|       0|    0|\n",
      "|[-0.0167336908851...|       1|       0|       0|    0|\n",
      "|[-0.0555674358471...|       0|       0|       0|    0|\n",
      "|[2.16267181163893...|       1|       0|       0|    0|\n",
      "|[-0.0185805701486...|       0|       0|       0|    0|\n",
      "|[-0.0038303944157...|       1|       0|       0|    0|\n",
      "|[-0.0099951453892...|       1|       0|       0|    0|\n",
      "|[-0.0030056643691...|       0|       0|       0|    0|\n",
      "|[-0.0152017962006...|       1|       0|       1|    0|\n",
      "|[0.03550026840631...|       1|       0|       1|    0|\n",
      "|[-0.0036234850048...|       1|       0|       0|    0|\n",
      "+--------------------+--------+--------+--------+-----+\n",
      "only showing top 20 rows\n",
      "\n"
     ]
    }
   ],
   "source": [
    "test_predictions_3 = test_predictions_3.select('features','column_1','column_2','prediction','label').withColumnRenamed('prediction','column')\n",
    "test_predictions_3 = test_predictions_3.withColumn(\"column_3\",test_predictions_3[\"column\"].cast('int'))\n",
    "test_predictions_3 = test_predictions_3.select('features', 'column_1','column_2','column_3','label')\n",
    "test_predictions_3.show()"
   ]
  },
  {
   "cell_type": "code",
   "execution_count": 90,
   "metadata": {},
   "outputs": [],
   "source": [
    "test_final_4 = test_predictions_3\n",
    "test_predictions_4 = lr_model_4.transform(test_final_4)"
   ]
  },
  {
   "cell_type": "code",
   "execution_count": 91,
   "metadata": {},
   "outputs": [],
   "source": [
    "test_predictions_4 = test_predictions_4.select('features','column_1','column_2','column_3','prediction','label').withColumnRenamed('prediction','column')\n",
    "test_predictions_4 = test_predictions_4.withColumn(\"column_4\",test_predictions_4[\"column\"].cast('int'))\n",
    "test_predictions_4 = test_predictions_4.select('features', 'column_1','column_2','column_3','column_4','label')\n",
    "#test_predictions_4.show()"
   ]
  },
  {
   "cell_type": "code",
   "execution_count": 92,
   "metadata": {},
   "outputs": [],
   "source": [
    "test_final_5 = test_predictions_4\n",
    "test_predictions_5 = lr_model_5.transform(test_final_5)"
   ]
  },
  {
   "cell_type": "code",
   "execution_count": 93,
   "metadata": {},
   "outputs": [],
   "source": [
    "test_predictions_5 = test_predictions_5.select('features','column_1','column_2','column_3','column_4','prediction','label').withColumnRenamed('prediction','column')\n",
    "test_predictions_5 = test_predictions_5.withColumn(\"column_5\",test_predictions_5[\"column\"].cast('int'))\n",
    "test_predictions_5 = test_predictions_5.select('features', 'column_1','column_2','column_3','column_4','column_5','label')"
   ]
  },
  {
   "cell_type": "code",
   "execution_count": 94,
   "metadata": {},
   "outputs": [],
   "source": [
    "test_final_6 = test_predictions_5\n",
    "test_predictions_6 = lr_model_6.transform(test_final_6)"
   ]
  },
  {
   "cell_type": "code",
   "execution_count": 95,
   "metadata": {},
   "outputs": [],
   "source": [
    "test_predictions_6 = test_predictions_6.select('features','column_1','column_2','column_3','column_4','column_5','prediction','label').withColumnRenamed('prediction','column')\n",
    "test_predictions_6 = test_predictions_6.withColumn(\"column_6\",test_predictions_6[\"column\"].cast('int'))\n",
    "test_predictions_6 = test_predictions_6.select('features', 'column_1','column_2','column_3','column_4','column_5','column_6','label')"
   ]
  },
  {
   "cell_type": "code",
   "execution_count": 96,
   "metadata": {},
   "outputs": [],
   "source": [
    "test_final_7 = test_predictions_6\n",
    "test_predictions_7 = lr_model_7.transform(test_final_7)"
   ]
  },
  {
   "cell_type": "code",
   "execution_count": 97,
   "metadata": {},
   "outputs": [],
   "source": [
    "test_predictions_7 = test_predictions_7.select('features','column_1','column_2','column_3','column_4','column_5','column_6','prediction','label').withColumnRenamed('prediction','column')\n",
    "test_predictions_7 = test_predictions_7.withColumn(\"column_7\",test_predictions_7[\"column\"].cast('int'))\n",
    "test_predictions_7 = test_predictions_7.select('features', 'column_1','column_2','column_3','column_4','column_5','column_6','column_7','label')"
   ]
  },
  {
   "cell_type": "code",
   "execution_count": 98,
   "metadata": {},
   "outputs": [],
   "source": [
    "test_final_8 = test_predictions_7\n",
    "test_predictions_8 = lr_model_8.transform(test_final_8)"
   ]
  },
  {
   "cell_type": "code",
   "execution_count": 99,
   "metadata": {},
   "outputs": [],
   "source": [
    "test_predictions_8 = test_predictions_8.select('features','column_1','column_2','column_3','column_4','column_5','column_6','column_7','prediction','label').withColumnRenamed('prediction','column')\n",
    "test_predictions_8 = test_predictions_8.withColumn(\"column_8\",test_predictions_8[\"column\"].cast('int'))\n",
    "test_predictions_8 = test_predictions_8.select('features', 'column_1','column_2','column_3','column_4','column_5','column_6','column_7','column_8','label')"
   ]
  },
  {
   "cell_type": "code",
   "execution_count": 100,
   "metadata": {},
   "outputs": [],
   "source": [
    "test_final_9 = test_predictions_8\n",
    "test_predictions_9 = lr_model_9.transform(test_final_9)"
   ]
  },
  {
   "cell_type": "code",
   "execution_count": 101,
   "metadata": {},
   "outputs": [],
   "source": [
    "test_predictions_9 = test_predictions_9.select('features','column_1','column_2','column_3','column_4','column_5','column_6','column_7','column_8','prediction','label').withColumnRenamed('prediction','column')\n",
    "test_predictions_9 = test_predictions_9.withColumn(\"column_9\",test_predictions_9[\"column\"].cast('int'))\n",
    "test_predictions_9 = test_predictions_9.select('features', 'column_1','column_2','column_3','column_4','column_5','column_6','column_7','column_8','column_9','label')"
   ]
  },
  {
   "cell_type": "code",
   "execution_count": 102,
   "metadata": {},
   "outputs": [],
   "source": [
    "test_final_10 = test_predictions_9\n",
    "test_predictions_10 = lr_model_10.transform(test_final_10)"
   ]
  },
  {
   "cell_type": "code",
   "execution_count": 103,
   "metadata": {},
   "outputs": [],
   "source": [
    "test_predictions_10 = test_predictions_10.select('features','column_1','column_2','column_3','column_4','column_5','column_6','column_7','column_8','column_9','prediction','label').withColumnRenamed('prediction','column')\n",
    "test_predictions_10 = test_predictions_10.withColumn(\"column_10\",test_predictions_10[\"column\"].cast('int'))\n",
    "test_predictions_10 = test_predictions_10.select('features', 'column_1','column_2','column_3','column_4','column_5','column_6','column_7','column_8','column_9','column_10','label')"
   ]
  },
  {
   "cell_type": "code",
   "execution_count": 104,
   "metadata": {},
   "outputs": [],
   "source": [
    "test_final_11 = test_predictions_10\n",
    "test_predictions_11 = lr_model_11.transform(test_final_11)"
   ]
  },
  {
   "cell_type": "code",
   "execution_count": 105,
   "metadata": {},
   "outputs": [],
   "source": [
    "test_predictions_11 = test_predictions_11.select('features','column_1','column_2','column_3','column_4','column_5','column_6','column_7','column_8','column_9','column_10','prediction','label').withColumnRenamed('prediction','column')\n",
    "test_predictions_11 = test_predictions_11.withColumn(\"column_11\",test_predictions_11[\"column\"].cast('int'))\n",
    "test_predictions_11 = test_predictions_11.select('features', 'column_1','column_2','column_3','column_4','column_5','column_6','column_7','column_8','column_9','column_10','column_11','label')"
   ]
  },
  {
   "cell_type": "code",
   "execution_count": 106,
   "metadata": {},
   "outputs": [],
   "source": [
    "test_final_12 = test_predictions_11\n",
    "test_predictions_12 = lr_model_12.transform(test_final_12)"
   ]
  },
  {
   "cell_type": "code",
   "execution_count": 107,
   "metadata": {},
   "outputs": [],
   "source": [
    "test_predictions_12 = test_predictions_12.select('features','column_1','column_2','column_3','column_4','column_5','column_6','column_7','column_8','column_9','column_10','column_11','prediction','label').withColumnRenamed('prediction','column')\n",
    "test_predictions_12 = test_predictions_12.withColumn(\"column_12\",test_predictions_12[\"column\"].cast('int'))\n",
    "test_predictions_12 = test_predictions_12.select('features', 'column_1','column_2','column_3','column_4','column_5','column_6','column_7','column_8','column_9','column_10','column_11','column_12','label')"
   ]
  },
  {
   "cell_type": "code",
   "execution_count": 108,
   "metadata": {},
   "outputs": [],
   "source": [
    "test_final_13 = test_predictions_12\n",
    "test_predictions_13 = lr_model_13.transform(test_final_13)"
   ]
  },
  {
   "cell_type": "code",
   "execution_count": 109,
   "metadata": {},
   "outputs": [],
   "source": [
    "test_predictions_13 = test_predictions_13.select('features','column_1','column_2','column_3','column_4','column_5','column_6','column_7','column_8','column_9','column_10','column_11','column_12','prediction','label').withColumnRenamed('prediction','column')\n",
    "test_predictions_13 = test_predictions_13.withColumn(\"column_13\",test_predictions_13[\"column\"].cast('int'))\n",
    "test_predictions_13 = test_predictions_13.select('features', 'column_1','column_2','column_3','column_4','column_5','column_6','column_7','column_8','column_9','column_10','column_11','column_12','column_13','label')"
   ]
  },
  {
   "cell_type": "code",
   "execution_count": 110,
   "metadata": {},
   "outputs": [],
   "source": [
    "test_final_14 = test_predictions_13\n",
    "test_predictions_14 = lr_model_14.transform(test_final_14)"
   ]
  },
  {
   "cell_type": "code",
   "execution_count": 111,
   "metadata": {},
   "outputs": [],
   "source": [
    "test_predictions_14 = test_predictions_14.select('features','column_1','column_2','column_3','column_4','column_5','column_6','column_7','column_8','column_9','column_10','column_11','column_12','column_13','prediction','label').withColumnRenamed('prediction','column')\n",
    "test_predictions_14 = test_predictions_14.withColumn(\"column_14\",test_predictions_14[\"column\"].cast('int'))\n",
    "test_predictions_14 = test_predictions_14.select('features', 'column_1','column_2','column_3','column_4','column_5','column_6','column_7','column_8','column_9','column_10','column_11','column_12','column_13','column_14','label')"
   ]
  },
  {
   "cell_type": "code",
   "execution_count": 112,
   "metadata": {},
   "outputs": [],
   "source": [
    "test_final_15 = test_predictions_14\n",
    "test_predictions_15 = lr_model_15.transform(test_final_15)"
   ]
  },
  {
   "cell_type": "code",
   "execution_count": 113,
   "metadata": {},
   "outputs": [],
   "source": [
    "test_predictions_15 = test_predictions_15.select('features','column_1','column_2','column_3','column_4','column_5','column_6','column_7','column_8','column_9','column_10','column_11','column_12','column_13','column_14','prediction','label').withColumnRenamed('prediction','column')\n",
    "test_predictions_15 = test_predictions_15.withColumn(\"column_15\",test_predictions_15[\"column\"].cast('int'))\n",
    "test_predictions_15 = test_predictions_15.select('features', 'column_1','column_2','column_3','column_4','column_5','column_6','column_7','column_8','column_9','column_10','column_11','column_12','column_13','column_14','column_15','label')"
   ]
  },
  {
   "cell_type": "code",
   "execution_count": 114,
   "metadata": {},
   "outputs": [],
   "source": [
    "test_final_16 = test_predictions_15\n",
    "test_predictions_16 = lr_model_16.transform(test_final_16)"
   ]
  },
  {
   "cell_type": "code",
   "execution_count": 115,
   "metadata": {},
   "outputs": [],
   "source": [
    "test_predictions_16 = test_predictions_16.select('features','column_1','column_2','column_3','column_4','column_5','column_6','column_7','column_8','column_9','column_10','column_11','column_12','column_13','column_14','column_15','prediction','label').withColumnRenamed('prediction','column')\n",
    "test_predictions_16 = test_predictions_16.withColumn(\"column_16\",test_predictions_16[\"column\"].cast('int'))\n",
    "test_predictions_16 = test_predictions_16.select('features', 'column_1','column_2','column_3','column_4','column_5','column_6','column_7','column_8','column_9','column_10','column_11','column_12','column_13','column_14','column_15','column_16','label')"
   ]
  },
  {
   "cell_type": "code",
   "execution_count": 116,
   "metadata": {},
   "outputs": [],
   "source": [
    "test_final_17 = test_predictions_16\n",
    "test_predictions_17 = lr_model_17.transform(test_final_17)"
   ]
  },
  {
   "cell_type": "code",
   "execution_count": 117,
   "metadata": {},
   "outputs": [],
   "source": [
    "test_predictions_17 = test_predictions_17.select('features','column_1','column_2','column_3','column_4','column_5','column_6','column_7','column_8','column_9','column_10','column_11','column_12','column_13','column_14','column_15','column_16','prediction','label').withColumnRenamed('prediction','column')\n",
    "test_predictions_17 = test_predictions_17.withColumn(\"column_17\",test_predictions_17[\"column\"].cast('int'))\n",
    "test_predictions_17 = test_predictions_17.select('features', 'column_1','column_2','column_3','column_4','column_5','column_6','column_7','column_8','column_9','column_10','column_11','column_12','column_13','column_14','column_15','column_16','column_17','label')"
   ]
  },
  {
   "cell_type": "code",
   "execution_count": 118,
   "metadata": {},
   "outputs": [],
   "source": [
    "test_final_18 = test_predictions_17\n",
    "test_predictions_18 = lr_model_18.transform(test_final_18)"
   ]
  },
  {
   "cell_type": "code",
   "execution_count": 119,
   "metadata": {},
   "outputs": [],
   "source": [
    "test_predictions_18 = test_predictions_18.select('features','column_1','column_2','column_3','column_4','column_5','column_6','column_7','column_8','column_9','column_10','column_11','column_12','column_13','column_14','column_15','column_16','column_17','prediction','label').withColumnRenamed('prediction','column')\n",
    "test_predictions_18 = test_predictions_18.withColumn(\"column_18\",test_predictions_18[\"column\"].cast('int'))\n",
    "test_predictions_18 = test_predictions_18.select('features', 'column_1','column_2','column_3','column_4','column_5','column_6','column_7','column_8','column_9','column_10','column_11','column_12','column_13','column_14','column_15','column_16','column_17','column_18','label')"
   ]
  },
  {
   "cell_type": "code",
   "execution_count": 120,
   "metadata": {},
   "outputs": [],
   "source": [
    "test_final_19 = test_predictions_18\n",
    "test_predictions_19 = lr_model_19.transform(test_final_19)"
   ]
  },
  {
   "cell_type": "code",
   "execution_count": 121,
   "metadata": {},
   "outputs": [],
   "source": [
    "test_predictions_19 = test_predictions_19.select('features','column_1','column_2','column_3','column_4','column_5','column_6','column_7','column_8','column_9','column_10','column_11','column_12','column_13','column_14','column_15','column_16','column_17','column_18','prediction','label').withColumnRenamed('prediction','column')\n",
    "test_predictions_19 = test_predictions_19.withColumn(\"column_19\",test_predictions_19[\"column\"].cast('int'))\n",
    "test_predictions_19 = test_predictions_19.select('features', 'column_1','column_2','column_3','column_4','column_5','column_6','column_7','column_8','column_9','column_10','column_11','column_12','column_13','column_14','column_15','column_16','column_17','column_18','column_19','label')"
   ]
  },
  {
   "cell_type": "code",
   "execution_count": 122,
   "metadata": {},
   "outputs": [],
   "source": [
    "test_final_20 = test_predictions_19\n",
    "test_predictions_20 = lr_model_20.transform(test_final_20)"
   ]
  },
  {
   "cell_type": "code",
   "execution_count": 123,
   "metadata": {},
   "outputs": [],
   "source": [
    "test_predictions_20 = test_predictions_20.select('features','column_1','column_2','column_3','column_4','column_5','column_6','column_7','column_8','column_9','column_10','column_11','column_12','column_13','column_14','column_15','column_16','column_17','column_18','column_19','prediction','label').withColumnRenamed('prediction','column')\n",
    "test_predictions_20 = test_predictions_20.withColumn(\"column_20\",test_predictions_20[\"column\"].cast('int'))\n",
    "test_predictions_20 = test_predictions_20.select('features', 'column_1','column_2','column_3','column_4','column_5','column_6','column_7','column_8','column_9','column_10','column_11','column_12','column_13','column_14','column_15','column_16','column_17','column_18','column_19','column_20','label')"
   ]
  },
  {
   "cell_type": "code",
   "execution_count": 124,
   "metadata": {},
   "outputs": [
    {
     "name": "stdout",
     "output_type": "stream",
     "text": [
      "+--------------------+--------+--------+--------+--------+--------+--------+--------+--------+--------+---------+---------+---------+---------+---------+---------+---------+---------+---------+---------+---------+-----+\n",
      "|            features|column_1|column_2|column_3|column_4|column_5|column_6|column_7|column_8|column_9|column_10|column_11|column_12|column_13|column_14|column_15|column_16|column_17|column_18|column_19|column_20|label|\n",
      "+--------------------+--------+--------+--------+--------+--------+--------+--------+--------+--------+---------+---------+---------+---------+---------+---------+---------+---------+---------+---------+---------+-----+\n",
      "|[4.60732558957860...|       1|       0|       0|       0|       0|       0|       0|       0|       0|        0|        0|        0|        0|        0|        0|        0|        0|        0|        0|        0|    0|\n",
      "|[-0.0281006262745...|       1|       1|       0|       0|       0|       0|       0|       0|       0|        1|        0|        0|        0|        0|        0|        0|        0|        0|        0|        0|    0|\n",
      "|[-0.0033151158445...|       1|       0|       0|       0|       0|       0|       0|       0|       0|        0|        0|        0|        0|        0|        0|        0|        0|        0|        0|        0|    0|\n",
      "|[-0.0251178558541...|       0|       1|       0|       0|       0|       0|       0|       0|       0|        0|        0|        0|        0|        0|        0|        0|        0|        0|        0|        0|    0|\n",
      "|[0.02676017268095...|       0|       0|       0|       0|       0|       0|       0|       0|       0|        0|        0|        0|        0|        0|        0|        0|        0|        0|        0|        0|    0|\n",
      "|[-0.0044664675048...|       1|       0|       0|       0|       0|       0|       0|       0|       0|        0|        0|        0|        0|        0|        0|        0|        0|        0|        0|        0|    0|\n",
      "|[-0.0247545663940...|       1|       0|       0|       0|       0|       0|       0|       0|       0|        0|        0|        0|        0|        0|        0|        0|        0|        0|        0|        0|    0|\n",
      "|[-0.0110064580637...|       0|       1|       0|       0|       0|       0|       0|       0|       0|        0|        0|        1|        1|        0|        0|        1|        0|        0|        0|        0|    0|\n",
      "|[0.00185911922366...|       0|       0|       0|       0|       1|       0|       0|       0|       0|        0|        1|        0|        0|        0|        0|        0|        0|        0|        0|        0|    0|\n",
      "|[-0.0681458557373...|       0|       0|       0|       0|       0|       0|       0|       0|       1|        0|        0|        0|        0|        1|        0|        1|        1|        0|        0|        0|    0|\n",
      "|[-0.0167336908851...|       1|       0|       0|       0|       0|       0|       0|       0|       0|        0|        0|        0|        0|        0|        0|        0|        0|        0|        0|        0|    0|\n",
      "|[-0.0555674358471...|       0|       0|       0|       0|       0|       0|       0|       1|       0|        0|        0|        0|        0|        0|        0|        0|        0|        0|        0|        0|    0|\n",
      "|[2.16267181163893...|       1|       0|       0|       0|       0|       0|       0|       0|       0|        0|        0|        0|        0|        0|        0|        0|        0|        0|        0|        0|    0|\n",
      "|[-0.0185805701486...|       0|       0|       0|       0|       0|       0|       0|       0|       0|        0|        0|        0|        0|        0|        0|        0|        0|        0|        0|        0|    0|\n",
      "|[-0.0038303944157...|       1|       0|       0|       0|       0|       0|       0|       0|       0|        0|        0|        0|        0|        0|        0|        0|        0|        0|        0|        0|    0|\n",
      "|[-0.0099951453892...|       1|       0|       0|       0|       0|       0|       0|       0|       0|        0|        0|        0|        0|        0|        0|        0|        0|        0|        0|        0|    0|\n",
      "|[-0.0030056643691...|       0|       0|       0|       0|       0|       0|       0|       0|       0|        0|        0|        0|        0|        0|        0|        0|        0|        0|        0|        0|    0|\n",
      "|[-0.0152017962006...|       1|       0|       1|       0|       0|       0|       0|       0|       0|        0|        0|        0|        0|        0|        0|        0|        0|        0|        0|        0|    0|\n",
      "|[0.03550026840631...|       1|       0|       1|       0|       0|       1|       0|       0|       0|        0|        0|        0|        0|        0|        0|        0|        0|        0|        0|        0|    0|\n",
      "|[-0.0036234850048...|       1|       0|       0|       0|       0|       0|       0|       0|       0|        0|        0|        0|        0|        0|        0|        0|        0|        0|        0|        0|    0|\n",
      "+--------------------+--------+--------+--------+--------+--------+--------+--------+--------+--------+---------+---------+---------+---------+---------+---------+---------+---------+---------+---------+---------+-----+\n",
      "only showing top 20 rows\n",
      "\n"
     ]
    }
   ],
   "source": [
    "test_predictions_20.show()"
   ]
  },
  {
   "cell_type": "code",
   "execution_count": 135,
   "metadata": {},
   "outputs": [],
   "source": [
    "test_predictions = test_predictions_20.withColumn('predictions',f.concat(f.col('column_1'),f.lit(' '),f.col('column_2'),f.lit(' '),f.col('column_3'),f.lit(' '),f.col('column_4'),f.lit(' '),f.col('column_5'),f.lit(' '),f.col('column_6'),f.lit(' '),f.col('column_7'),f.lit(' '),f.col('column_8'),f.lit(' '),f.col('column_9'),f.lit(' '),f.col('column_10'),f.lit(' '),f.col('column_11'),f.lit(' '),f.col('column_12'),f.lit(' '),f.col('column_13'),f.lit(' '),f.col('column_14'),f.lit(' '),f.col('column_15'),f.lit(' '),f.col('column_16'),f.lit(' '),f.col('column_17'),f.lit(' '),f.col('column_18'),f.lit(' '),f.col('column_19'),f.lit(' '),f.col('column_20')))\n",
    "test_predictions = test_predictions.select('features','predictions')"
   ]
  },
  {
   "cell_type": "code",
   "execution_count": 136,
   "metadata": {},
   "outputs": [
    {
     "name": "stdout",
     "output_type": "stream",
     "text": [
      "+--------------------+--------------------+\n",
      "|            features|         predictions|\n",
      "+--------------------+--------------------+\n",
      "|[4.60732558957860...|1 0 0 0 0 0 0 0 0...|\n",
      "|[-0.0281006262745...|1 1 0 0 0 0 0 0 0...|\n",
      "|[-0.0033151158445...|1 0 0 0 0 0 0 0 0...|\n",
      "|[-0.0251178558541...|0 1 0 0 0 0 0 0 0...|\n",
      "|[0.02676017268095...|0 0 0 0 0 0 0 0 0...|\n",
      "|[-0.0044664675048...|1 0 0 0 0 0 0 0 0...|\n",
      "|[-0.0247545663940...|1 0 0 0 0 0 0 0 0...|\n",
      "|[-0.0110064580637...|0 1 0 0 0 0 0 0 0...|\n",
      "|[0.00185911922366...|0 0 0 0 1 0 0 0 0...|\n",
      "|[-0.0681458557373...|0 0 0 0 0 0 0 0 1...|\n",
      "|[-0.0167336908851...|1 0 0 0 0 0 0 0 0...|\n",
      "|[-0.0555674358471...|0 0 0 0 0 0 0 1 0...|\n",
      "|[2.16267181163893...|1 0 0 0 0 0 0 0 0...|\n",
      "|[-0.0185805701486...|0 0 0 0 0 0 0 0 0...|\n",
      "|[-0.0038303944157...|1 0 0 0 0 0 0 0 0...|\n",
      "|[-0.0099951453892...|1 0 0 0 0 0 0 0 0...|\n",
      "|[-0.0030056643691...|0 0 0 0 0 0 0 0 0...|\n",
      "|[-0.0152017962006...|1 0 1 0 0 0 0 0 0...|\n",
      "|[0.03550026840631...|1 0 1 0 0 1 0 0 0...|\n",
      "|[-0.0036234850048...|1 0 0 0 0 0 0 0 0...|\n",
      "+--------------------+--------------------+\n",
      "only showing top 20 rows\n",
      "\n"
     ]
    }
   ],
   "source": [
    "test_predictions.show()"
   ]
  },
  {
   "cell_type": "code",
   "execution_count": 137,
   "metadata": {
    "scrolled": true
   },
   "outputs": [],
   "source": [
    "#test_predictions.show(truncate = False)\n",
    "#test_cv_df = test_cv_df.alias('df1')\n",
    "#test_predictions = test_predictions.alias('df2')\n",
    "#output_task_1=test_cv_df.join(test_predictions,test_cv_df.features == test_predictions.features).select('df1.movie_id','df2.predictions')\n",
    "test_predictions = test_predictions.select('features','predictions').withColumnRenamed('features','rawfeatures')"
   ]
  },
  {
   "cell_type": "code",
   "execution_count": 138,
   "metadata": {},
   "outputs": [
    {
     "name": "stdout",
     "output_type": "stream",
     "text": [
      "+--------+--------------------+--------------------+--------------------+--------------------+--------------------+\n",
      "|movie_id|          movie_name|                plot|          plot_terms|            filtered|         rawfeatures|\n",
      "+--------+--------------------+--------------------+--------------------+--------------------+--------------------+\n",
      "| 1335380|              Exodus|The film is based...|[the, film, is, b...|[film, based, eve...|[4.60732558957860...|\n",
      "|29062594|A la salida nos v...|A group of teenag...|[a, group, of, te...|[group, teenagers...|[-0.0281006262745...|\n",
      "| 9252321|   Come Back, Africa|This story of a Z...|[this, story, of,...|[story, zulu, fam...|[-0.0033151158445...|\n",
      "|13455076|       A Merry Mixup|The Stooges play ...|[the, stooges, pl...|[stooges, play, t...|[-0.0251178558541...|\n",
      "|24165951|        Getting Even|A soldier-of-fort...|[a, soldier, of, ...|[soldier, fortune...|[0.02676017268095...|\n",
      "| 1925869|  River of No Return|Set in the Northw...|[set, in, the, no...|[set, northwester...|[-0.0044664675048...|\n",
      "|10799612|          Amici miei|Like in many othe...|[like, in, many, ...|[like, many, moni...|[-0.0247545663940...|\n",
      "|28238240|Mickey's Big Game...|Mickey and the Sc...|[mickey, and, the...|[mickey, scorpion...|[-0.0110064580637...|\n",
      "|17124781|The Good, the Bad...|In the desert wil...|[in, the, desert,...|[desert, wilderne...|[0.00185911922366...|\n",
      "|28207941|    The Dancing Fool|Bimbo and Koko ar...|[bimbo, and, koko...|[bimbo, koko, sig...|[-0.0681458557373...|\n",
      "|19174305|              Tahaan|Tahaan  lives wit...|[tahaan, lives, w...|[tahaan, lives, g...|[-0.0167336908851...|\n",
      "|18392317|     Mysterious Mose|Betty is startled...|[betty, is, start...|[betty, startled,...|[-0.0555674358471...|\n",
      "|34420857|Kelviyum Naane Pa...|Nirmal ([[Karthik...|[nirmal, karthik,...|[nirmal, karthik,...|[2.16267181163893...|\n",
      "| 4039635|   First on the Moon|A group of journa...|[a, group, of, jo...|[group, journalis...|[-0.0185805701486...|\n",
      "| 8034072|  Journey of a Woman|Vaibhavari Sahay,...|[vaibhavari, saha...|[vaibhavari, saha...|[-0.0038303944157...|\n",
      "| 4016437|     Sophie's Choice|In 1947, the movi...|[in, 1947, the, m...|[movie, narrator,...|[-0.0099951453892...|\n",
      "| 1520023|  Ninja Resurrection|Ninja Resurrectio...|[ninja, resurrect...|[ninja, resurrect...|[-0.0030056643691...|\n",
      "|24589422|      Maria’s Lovers|In the spring of ...|[in, the, spring,...|[spring, ivan, am...|[-0.0152017962006...|\n",
      "|35068740|           Chinnavar|Muthu ([[Prabhu  ...|[muthu, prabhu, a...|[muthu, prabhu, v...|[0.03550026840631...|\n",
      "|21132951|              Aparan|Vishwanathan , an...|[vishwanathan, an...|[vishwanathan, in...|[-0.0036234850048...|\n",
      "+--------+--------------------+--------------------+--------------------+--------------------+--------------------+\n",
      "only showing top 20 rows\n",
      "\n"
     ]
    }
   ],
   "source": [
    "test_cv_df.show()"
   ]
  },
  {
   "cell_type": "code",
   "execution_count": 139,
   "metadata": {},
   "outputs": [],
   "source": [
    "output_intermediate = test_cv_df.join(test_predictions, on = ['rawfeatures'],how = 'inner')"
   ]
  },
  {
   "cell_type": "code",
   "execution_count": 140,
   "metadata": {},
   "outputs": [
    {
     "name": "stdout",
     "output_type": "stream",
     "text": [
      "+--------------------+--------+--------------------+--------------------+--------------------+--------------------+--------------------+\n",
      "|         rawfeatures|movie_id|          movie_name|                plot|          plot_terms|            filtered|         predictions|\n",
      "+--------------------+--------+--------------------+--------------------+--------------------+--------------------+--------------------+\n",
      "|[-0.0325246172348...|18333832|   The Last Mistress|Ryno de Marigny ,...|[ryno, de, marign...|[ryno, de, marign...|1 0 1 0 0 0 0 0 0...|\n",
      "|[-0.0325076468661...|25714947|           Bolo Raam|Bolo Raam follows...|[bolo, raam, foll...|[bolo, raam, foll...|1 0 0 1 0 0 0 0 0...|\n",
      "|[-0.0264306829225...| 3676302|          Tokyo Fist|The film tells ab...|[the, film, tells...|[film, tells, jap...|1 0 0 0 0 0 0 0 0...|\n",
      "|[-0.0255226221503...| 5217643|            Mugavari|Sridhar  has been...|[sridhar, has, be...|[sridhar, trying,...|1 0 0 0 0 0 0 0 0...|\n",
      "|[-0.0227838564441...|25305145|         Love Affair|Wealthy socialite...|[wealthy, sociali...|[wealthy, sociali...|1 1 0 0 0 0 0 0 1...|\n",
      "|[-0.0218614390952...|27763405|You'll Like My Mo...|In this psycholog...|[in, this, psycho...|[psychological, t...|0 0 0 0 0 0 0 1 0...|\n",
      "|[-0.0202862944341...| 1840870|          Rising Sun|During a party at...|[during, a, party...|[party, united, s...|1 0 0 1 0 0 1 0 0...|\n",
      "|[-0.0202755891899...|  633832| Dirty Pretty Things|Okwe is a Nigeria...|[okwe, is, a, nig...|[okwe, nigerian, ...|1 0 0 0 0 0 0 0 0...|\n",
      "|[-0.0194064002042...|23173019|      Summer's Blood|Summer  has run a...|[summer, has, run...|[summer, run, awa...|0 0 0 0 0 0 0 0 0...|\n",
      "|[-0.0189608708569...| 1659954|  A Clockwork Orange|In futuristic Lon...|[in, futuristic, ...|[futuristic, lond...|1 0 0 0 0 0 0 0 0...|\n",
      "|[-0.0154884699025...| 3932157|             Beneath|On the way home f...|[on, the, way, ho...|[way, home, visit...|0 0 0 1 0 0 0 1 0...|\n",
      "|[-0.0110597053775...| 7028314|      The Little Hut|Sir Philip Ashlow...|[sir, philip, ash...|[sir, philip, ash...|0 0 0 0 0 0 0 0 1...|\n",
      "|[-0.0099043127856...|28176057|Hyppolit, the Butler|Mátyás Schneider ...|[m, ty, s, schnei...|[m, ty, schneider...|0 1 0 0 0 0 0 0 0...|\n",
      "|[-0.0091749822764...| 8359241|Grandma Got Run O...|The show begins b...|[the, show, begin...|[show, begins, in...|0 1 0 0 0 0 0 0 0...|\n",
      "|[-0.0085665718639...|10299953|      Made in Heaven|In a small Pennsy...|[in, a, small, pe...|[small, pennsylva...|0 0 0 0 0 0 0 0 0...|\n",
      "|[-0.0083404562749...| 3296177|               Virus|The Russian space...|[the, russian, sp...|[russian, space, ...|0 0 0 0 0 0 0 0 0...|\n",
      "|[-0.0077229605703...|29294207|          The Sitter|Noah  is a colleg...|[noah, is, a, col...|[noah, college, s...|0 0 0 0 0 0 0 0 0...|\n",
      "|[-0.0045801958423...| 1792743|              Kaante|The movie is narr...|[the, movie, is, ...|[movie, narrated,...|0 0 0 0 0 0 0 0 0...|\n",
      "|[-0.0041244457563...|26338405|Summer of the Sev...|Queensland sugarc...|[queensland, suga...|[queensland, suga...|0 1 0 0 0 0 0 0 0...|\n",
      "|[-0.0027151556310...| 1620219|Popeye the Sailor...| In this short, S...|[in, this, short,...|[short, sindbad, ...|0 0 0 0 0 0 0 0 0...|\n",
      "+--------------------+--------+--------------------+--------------------+--------------------+--------------------+--------------------+\n",
      "only showing top 20 rows\n",
      "\n"
     ]
    }
   ],
   "source": [
    "output_intermediate.show()"
   ]
  },
  {
   "cell_type": "code",
   "execution_count": 142,
   "metadata": {},
   "outputs": [
    {
     "data": {
      "text/plain": [
       "7777"
      ]
     },
     "execution_count": 142,
     "metadata": {},
     "output_type": "execute_result"
    }
   ],
   "source": [
    "output_intermediate = output_intermediate.distinct()\n",
    "output_intermediate.count()"
   ]
  },
  {
   "cell_type": "code",
   "execution_count": 143,
   "metadata": {},
   "outputs": [],
   "source": [
    "output_task_3 = output_intermediate.select('movie_id','predictions')"
   ]
  },
  {
   "cell_type": "code",
   "execution_count": 144,
   "metadata": {},
   "outputs": [],
   "source": [
    "output_task_3.toPandas().to_csv(\"task_3.csv\")"
   ]
  },
  {
   "cell_type": "code",
   "execution_count": null,
   "metadata": {},
   "outputs": [],
   "source": []
  },
  {
   "cell_type": "code",
   "execution_count": null,
   "metadata": {},
   "outputs": [],
   "source": []
  }
 ],
 "metadata": {
  "kernelspec": {
   "display_name": "Python 3",
   "language": "python",
   "name": "python3"
  },
  "language_info": {
   "codemirror_mode": {
    "name": "ipython",
    "version": 3
   },
   "file_extension": ".py",
   "mimetype": "text/x-python",
   "name": "python",
   "nbconvert_exporter": "python",
   "pygments_lexer": "ipython3",
   "version": "3.6.9"
  }
 },
 "nbformat": 4,
 "nbformat_minor": 2
}
