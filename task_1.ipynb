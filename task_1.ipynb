{
 "cells": [
  {
   "cell_type": "markdown",
   "metadata": {},
   "source": [
    "#### IMPORT SPARK"
   ]
  },
  {
   "cell_type": "code",
   "execution_count": 1,
   "metadata": {},
   "outputs": [],
   "source": [
    "import findspark"
   ]
  },
  {
   "cell_type": "code",
   "execution_count": 2,
   "metadata": {},
   "outputs": [],
   "source": [
    "findspark.init('/home/cse587/spark-2.4.0-bin-hadoop2.7')"
   ]
  },
  {
   "cell_type": "code",
   "execution_count": 3,
   "metadata": {},
   "outputs": [],
   "source": [
    "import pyspark\n",
    "from pyspark.sql import SparkSession\n",
    "import csv"
   ]
  },
  {
   "cell_type": "code",
   "execution_count": 4,
   "metadata": {},
   "outputs": [],
   "source": [
    "sc = pyspark.SparkContext()"
   ]
  },
  {
   "cell_type": "code",
   "execution_count": 5,
   "metadata": {},
   "outputs": [
    {
     "data": {
      "text/plain": [
       "<module 'pyspark' from '/home/cse587/spark-2.4.0-bin-hadoop2.7/python/pyspark/__init__.py'>"
      ]
     },
     "execution_count": 5,
     "metadata": {},
     "output_type": "execute_result"
    }
   ],
   "source": [
    "pyspark"
   ]
  },
  {
   "cell_type": "code",
   "execution_count": 6,
   "metadata": {},
   "outputs": [],
   "source": [
    "from pyspark.sql import SQLContext\n",
    "sqlContext = SQLContext(sc)"
   ]
  },
  {
   "cell_type": "markdown",
   "metadata": {},
   "source": [
    "#### INPUT DATA PROCESSING"
   ]
  },
  {
   "cell_type": "code",
   "execution_count": 7,
   "metadata": {},
   "outputs": [],
   "source": [
    "import pandas as pd\n",
    "pandas_df = pd.read_csv(\"train.csv\")\n",
    "#RDD = sc.textFile(\"train.csv\")"
   ]
  },
  {
   "cell_type": "code",
   "execution_count": 8,
   "metadata": {},
   "outputs": [],
   "source": [
    "spark_df = sqlContext.createDataFrame(pandas_df)\n",
    "rdd_df = spark_df.rdd"
   ]
  },
  {
   "cell_type": "code",
   "execution_count": 9,
   "metadata": {},
   "outputs": [
    {
     "name": "stdout",
     "output_type": "stream",
     "text": [
      "+--------+----------------+--------------------+--------------------+\n",
      "|movie_id|      movie_name|                plot|               genre|\n",
      "+--------+----------------+--------------------+--------------------+\n",
      "|23890098|      Taxi Blues|Shlykov, a hard-w...|['World cinema', ...|\n",
      "|31186339|The Hunger Games|The nation of Pan...|['Action/Adventur...|\n",
      "|20663735|      Narasimham|Poovalli Induchoo...|['Musical', 'Acti...|\n",
      "+--------+----------------+--------------------+--------------------+\n",
      "only showing top 3 rows\n",
      "\n"
     ]
    }
   ],
   "source": [
    "spark_df.show(3)"
   ]
  },
  {
   "cell_type": "code",
   "execution_count": 10,
   "metadata": {},
   "outputs": [],
   "source": [
    "from pyspark.ml.feature import Tokenizer, RegexTokenizer\n",
    "from pyspark.sql.functions import col, udf\n",
    "from pyspark.sql.types import IntegerType"
   ]
  },
  {
   "cell_type": "code",
   "execution_count": 11,
   "metadata": {},
   "outputs": [],
   "source": [
    "tokenizer = Tokenizer(inputCol = 'plot', outputCol = 'plot_terms')"
   ]
  },
  {
   "cell_type": "code",
   "execution_count": 12,
   "metadata": {},
   "outputs": [],
   "source": [
    "regex_tokenizer = RegexTokenizer(inputCol = 'plot', outputCol = 'plot_terms', pattern = '\\\\W')"
   ]
  },
  {
   "cell_type": "code",
   "execution_count": 13,
   "metadata": {},
   "outputs": [],
   "source": [
    "count_tokens = udf(lambda plot_terms: len(plot_terms), IntegerType())"
   ]
  },
  {
   "cell_type": "code",
   "execution_count": 14,
   "metadata": {},
   "outputs": [],
   "source": [
    "tokenized = tokenizer.transform(spark_df)"
   ]
  },
  {
   "cell_type": "code",
   "execution_count": 15,
   "metadata": {},
   "outputs": [
    {
     "name": "stdout",
     "output_type": "stream",
     "text": [
      "+--------------------+\n",
      "|          plot_terms|\n",
      "+--------------------+\n",
      "|[shlykov,, a, har...|\n",
      "|[the, nation, of,...|\n",
      "+--------------------+\n",
      "only showing top 2 rows\n",
      "\n"
     ]
    }
   ],
   "source": [
    "#tokenized.show(1)\n",
    "tokenized.select(\"plot_terms\").show(2)"
   ]
  },
  {
   "cell_type": "code",
   "execution_count": 16,
   "metadata": {},
   "outputs": [
    {
     "name": "stdout",
     "output_type": "stream",
     "text": [
      "+--------+----------------+--------------------+--------------------+--------------------+\n",
      "|movie_id|      movie_name|                plot|               genre|          plot_terms|\n",
      "+--------+----------------+--------------------+--------------------+--------------------+\n",
      "|23890098|      Taxi Blues|Shlykov, a hard-w...|['World cinema', ...|[shlykov, a, hard...|\n",
      "|31186339|The Hunger Games|The nation of Pan...|['Action/Adventur...|[the, nation, of,...|\n",
      "+--------+----------------+--------------------+--------------------+--------------------+\n",
      "only showing top 2 rows\n",
      "\n"
     ]
    }
   ],
   "source": [
    "regex_tokenized = regex_tokenizer.transform(spark_df)\n",
    "regex_tokenized.show(2)"
   ]
  },
  {
   "cell_type": "code",
   "execution_count": 17,
   "metadata": {},
   "outputs": [],
   "source": [
    "from pyspark.ml.feature import StopWordsRemover"
   ]
  },
  {
   "cell_type": "code",
   "execution_count": 18,
   "metadata": {},
   "outputs": [],
   "source": [
    "remover = StopWordsRemover(inputCol = 'plot_terms', outputCol = 'filtered')"
   ]
  },
  {
   "cell_type": "code",
   "execution_count": 19,
   "metadata": {},
   "outputs": [],
   "source": [
    "stopword_tokenized_withnum = remover.transform(regex_tokenized)"
   ]
  },
  {
   "cell_type": "code",
   "execution_count": 20,
   "metadata": {},
   "outputs": [
    {
     "name": "stdout",
     "output_type": "stream",
     "text": [
      "+--------+----------------+--------------------+--------------------+--------------------+--------------------+\n",
      "|movie_id|      movie_name|                plot|               genre|          plot_terms|            filtered|\n",
      "+--------+----------------+--------------------+--------------------+--------------------+--------------------+\n",
      "|23890098|      Taxi Blues|Shlykov, a hard-w...|['World cinema', ...|[shlykov, a, hard...|[shlykov, hard, w...|\n",
      "|31186339|The Hunger Games|The nation of Pan...|['Action/Adventur...|[the, nation, of,...|[nation, panem, c...|\n",
      "+--------+----------------+--------------------+--------------------+--------------------+--------------------+\n",
      "only showing top 2 rows\n",
      "\n"
     ]
    }
   ],
   "source": [
    "stopword_tokenized_withnum.show(2)"
   ]
  },
  {
   "cell_type": "code",
   "execution_count": null,
   "metadata": {},
   "outputs": [],
   "source": [
    "def is_not_digit(rec):\n",
    "    list1 = []\n",
    "    for i in rec:\n",
    "        if i.isdigit():\n",
    "            continue;\n",
    "        else:\n",
    "            list1.append(i)\n",
    "    return list1\n",
    "            \n",
    "stopword_without_numbers = stopword_tokenized_withnum.rdd.map(lambda x: [x[0],x[1],x[2],x[3],x[4],is_not_digit(x[5])])#, x[2], x[3]])\n",
    "stopword_tokenized= sqlContext.createDataFrame(stopword_without_numbers,['movie_id','movie_name','plot','genre','plot_terms','filtered'])\n",
    "stopword_tokenized.show(5)"
   ]
  },
  {
   "cell_type": "code",
   "execution_count": null,
   "metadata": {},
   "outputs": [],
   "source": [
    "#from pyspark.ml.feature import CountVectorizer,IDF"
   ]
  },
  {
   "cell_type": "code",
   "execution_count": null,
   "metadata": {},
   "outputs": [],
   "source": [
    "#cv = CountVectorizer(inputCol = 'filtered', vocabSize = 10000, minDF = 5.0, outputCol = 'features')"
   ]
  },
  {
   "cell_type": "code",
   "execution_count": null,
   "metadata": {},
   "outputs": [],
   "source": [
    "#cv_model = cv.fit(stopword_tokenized)\n",
    "#cv_df = cv_model.transform(stopword_tokenized)"
   ]
  },
  {
   "cell_type": "code",
   "execution_count": null,
   "metadata": {},
   "outputs": [],
   "source": [
    "#cv_df.select(\"features\").show(2, truncate = False)"
   ]
  },
  {
   "cell_type": "code",
   "execution_count": null,
   "metadata": {},
   "outputs": [],
   "source": [
    "#cv_df.take(1)"
   ]
  },
  {
   "cell_type": "markdown",
   "metadata": {},
   "source": [
    "#### THIS IS FOR CREATING TF USING HASHINGTF or COUNTVECTORIZER"
   ]
  },
  {
   "cell_type": "code",
   "execution_count": 21,
   "metadata": {},
   "outputs": [],
   "source": [
    "# from pyspark.ml.feature import HashingTF, IDF, Tokenizer"
   ]
  },
  {
   "cell_type": "code",
   "execution_count": 22,
   "metadata": {},
   "outputs": [],
   "source": [
    "# hashing_tf = HashingTF(inputCol = 'filtered', outputCol = 'rawFeatures')"
   ]
  },
  {
   "cell_type": "code",
   "execution_count": 23,
   "metadata": {},
   "outputs": [],
   "source": [
    "#USES HASHING TO CALCULATE TF. A BETTER APPROACH BUT CONFUSING.\n",
    "# featurized_df = hashing_tf.transform(stopword_tokenized)\n",
    "# featurized_df.show(2)"
   ]
  },
  {
   "cell_type": "code",
   "execution_count": 24,
   "metadata": {},
   "outputs": [],
   "source": [
    "# featurized_df.show(2)"
   ]
  },
  {
   "cell_type": "code",
   "execution_count": 21,
   "metadata": {},
   "outputs": [],
   "source": [
    "from pyspark.ml.feature import CountVectorizer"
   ]
  },
  {
   "cell_type": "code",
   "execution_count": 22,
   "metadata": {},
   "outputs": [],
   "source": [
    "cv = CountVectorizer(inputCol = 'filtered', vocabSize = 10000, minDF = 5.0, outputCol = 'features')"
   ]
  },
  {
   "cell_type": "code",
   "execution_count": 23,
   "metadata": {},
   "outputs": [],
   "source": [
    "cv_model = cv.fit(stopword_tokenized)\n",
    "cv_df = cv_model.transform(stopword_tokenized)"
   ]
  },
  {
   "cell_type": "code",
   "execution_count": 24,
   "metadata": {
    "scrolled": true
   },
   "outputs": [
    {
     "name": "stdout",
     "output_type": "stream",
     "text": [
      "+---------------------------------------------------------------------------------------------------------------------------------------------------------------------------------------------------------------------------------------------------------------------------------------------------------------------------------------------------------------------------------------------------------------------------------------------------------------------------------------------------------------------------------------------------------------------------------------------------------------------------------------------------------------------------------------------------------------------------------------------------------------------------------------------------------------------------------------------------------------------------------------------------------------------------------------------------------------------------------------------------------------------------------------------------------------------------------------------------------------------------------------------------------------------------------------------------------------------------------------------------------------------------------------------------------------------------------------------------------------------------------------------------------------------------------------------------------------------------------------------------------------------------------------------------------------------------------------------------------------------------------------------------------------------------------------------------------------------------------------------------------------------------------------------------------------------------------------------------------------------------------------------------------------------------------------------------------------------------------------------------------------------------------------------------------------------------------------------------------------------------------------------------------------------------------------------------------------------------------------------------------------------------------------------------------------------------------------------------------+\n",
      "|features                                                                                                                                                                                                                                                                                                                                                                                                                                                                                                                                                                                                                                                                                                                                                                                                                                                                                                                                                                                                                                                                                                                                                                                                                                                                                                                                                                                                                                                                                                                                                                                                                                                                                                                                                                                                                                                                                                                                                                                                                                                                                                                                                                                                                                                                                                                                                 |\n",
      "+---------------------------------------------------------------------------------------------------------------------------------------------------------------------------------------------------------------------------------------------------------------------------------------------------------------------------------------------------------------------------------------------------------------------------------------------------------------------------------------------------------------------------------------------------------------------------------------------------------------------------------------------------------------------------------------------------------------------------------------------------------------------------------------------------------------------------------------------------------------------------------------------------------------------------------------------------------------------------------------------------------------------------------------------------------------------------------------------------------------------------------------------------------------------------------------------------------------------------------------------------------------------------------------------------------------------------------------------------------------------------------------------------------------------------------------------------------------------------------------------------------------------------------------------------------------------------------------------------------------------------------------------------------------------------------------------------------------------------------------------------------------------------------------------------------------------------------------------------------------------------------------------------------------------------------------------------------------------------------------------------------------------------------------------------------------------------------------------------------------------------------------------------------------------------------------------------------------------------------------------------------------------------------------------------------------------------------------------------------+\n",
      "|(10000,[10,129,186,209,520,535,554,669,1906,2167,3237,3764,5406],[1.0,1.0,1.0,1.0,1.0,1.0,1.0,1.0,1.0,1.0,1.0,1.0,1.0])                                                                                                                                                                                                                                                                                                                                                                                                                                                                                                                                                                                                                                                                                                                                                                                                                                                                                                                                                                                                                                                                                                                                                                                                                                                                                                                                                                                                                                                                                                                                                                                                                                                                                                                                                                                                                                                                                                                                                                                                                                                                                                                                                                                                                                  |\n",
      "|(10000,[2,6,7,10,15,17,18,19,21,23,26,29,30,32,35,36,38,40,44,47,59,61,63,75,77,79,84,90,98,99,102,106,110,111,112,116,121,123,124,132,137,139,143,153,156,161,162,176,187,189,197,201,214,218,220,224,228,241,248,250,258,270,282,288,299,301,312,315,318,341,350,384,430,450,458,469,487,489,496,506,516,519,526,532,533,549,557,576,579,592,598,610,628,648,664,677,686,687,702,704,718,722,724,759,760,761,773,793,842,847,865,920,927,930,936,996,1035,1068,1089,1120,1128,1140,1142,1153,1183,1194,1213,1238,1241,1244,1254,1284,1354,1364,1372,1374,1410,1420,1430,1445,1449,1466,1504,1509,1525,1530,1540,1588,1615,1623,1657,1743,1815,1819,1862,1870,1877,1913,1940,1954,2035,2054,2111,2117,2130,2139,2160,2168,2178,2202,2212,2248,2264,2278,2328,2342,2382,2391,2439,2480,2500,2507,2554,2592,2647,2675,2731,2787,2813,2868,2884,2897,2995,3089,3139,3174,3178,3275,3292,3355,3390,3467,3476,3586,3594,3701,3799,3848,3859,3865,3907,3978,4003,4054,4057,4147,4151,4181,4232,4252,4315,4346,4352,4440,4466,4537,4579,4631,4702,4710,5004,5071,5177,5241,5245,5376,5395,5485,5970,6046,6499,6514,6791,6805,6811,6909,7049,7355,7452,7734,7956,8003,8033,8069,8087,8164,8307,8471,8481,8666,8904,8934,9115,9123,9220,9598,9906],[1.0,1.0,2.0,2.0,1.0,2.0,2.0,1.0,1.0,1.0,2.0,1.0,2.0,1.0,1.0,1.0,1.0,2.0,2.0,1.0,2.0,1.0,1.0,1.0,1.0,1.0,1.0,1.0,2.0,1.0,1.0,1.0,1.0,2.0,1.0,1.0,1.0,1.0,1.0,2.0,1.0,2.0,1.0,2.0,1.0,1.0,2.0,1.0,1.0,1.0,1.0,1.0,1.0,1.0,1.0,1.0,1.0,2.0,1.0,1.0,1.0,1.0,2.0,1.0,1.0,1.0,1.0,1.0,1.0,1.0,1.0,1.0,1.0,1.0,1.0,1.0,1.0,2.0,1.0,1.0,2.0,1.0,1.0,1.0,1.0,1.0,1.0,2.0,2.0,1.0,2.0,1.0,1.0,1.0,1.0,1.0,1.0,1.0,1.0,1.0,1.0,1.0,1.0,1.0,1.0,1.0,1.0,1.0,2.0,1.0,1.0,1.0,1.0,1.0,1.0,1.0,1.0,1.0,1.0,1.0,1.0,1.0,1.0,1.0,2.0,1.0,1.0,1.0,1.0,1.0,1.0,1.0,1.0,1.0,1.0,1.0,1.0,1.0,1.0,1.0,1.0,1.0,1.0,1.0,1.0,1.0,1.0,1.0,1.0,1.0,1.0,1.0,2.0,1.0,1.0,2.0,1.0,1.0,1.0,5.0,1.0,1.0,1.0,9.0,1.0,1.0,1.0,1.0,1.0,1.0,1.0,1.0,1.0,2.0,1.0,1.0,1.0,5.0,1.0,1.0,1.0,2.0,1.0,1.0,1.0,2.0,1.0,1.0,3.0,1.0,1.0,1.0,1.0,1.0,1.0,1.0,2.0,1.0,1.0,1.0,1.0,1.0,1.0,1.0,1.0,1.0,1.0,1.0,1.0,1.0,2.0,1.0,1.0,1.0,1.0,1.0,1.0,1.0,1.0,2.0,1.0,1.0,1.0,1.0,1.0,1.0,2.0,1.0,1.0,1.0,1.0,4.0,1.0,1.0,1.0,1.0,2.0,1.0,2.0,1.0,1.0,1.0,1.0,1.0,1.0,1.0,1.0,2.0,1.0,1.0,1.0,1.0,2.0,1.0,3.0,1.0,1.0,1.0,1.0,1.0,1.0,1.0,1.0,1.0,1.0,1.0,1.0])|\n",
      "+---------------------------------------------------------------------------------------------------------------------------------------------------------------------------------------------------------------------------------------------------------------------------------------------------------------------------------------------------------------------------------------------------------------------------------------------------------------------------------------------------------------------------------------------------------------------------------------------------------------------------------------------------------------------------------------------------------------------------------------------------------------------------------------------------------------------------------------------------------------------------------------------------------------------------------------------------------------------------------------------------------------------------------------------------------------------------------------------------------------------------------------------------------------------------------------------------------------------------------------------------------------------------------------------------------------------------------------------------------------------------------------------------------------------------------------------------------------------------------------------------------------------------------------------------------------------------------------------------------------------------------------------------------------------------------------------------------------------------------------------------------------------------------------------------------------------------------------------------------------------------------------------------------------------------------------------------------------------------------------------------------------------------------------------------------------------------------------------------------------------------------------------------------------------------------------------------------------------------------------------------------------------------------------------------------------------------------------------------------+\n",
      "only showing top 2 rows\n",
      "\n"
     ]
    }
   ],
   "source": [
    "cv_df.select(\"features\").show(2, truncate = False)"
   ]
  },
  {
   "cell_type": "code",
   "execution_count": 24,
   "metadata": {
    "scrolled": true
   },
   "outputs": [
    {
     "data": {
      "text/plain": [
       "[Row(movie_id=23890098, movie_name='Taxi Blues', plot=\"Shlykov, a hard-working taxi driver and Lyosha, a saxophonist, develop a bizarre love-hate relationship, and despite their prejudices, realize they aren't so different after all.\", genre=\"['World cinema', 'Drama']\", plot_terms=['shlykov', 'a', 'hard', 'working', 'taxi', 'driver', 'and', 'lyosha', 'a', 'saxophonist', 'develop', 'a', 'bizarre', 'love', 'hate', 'relationship', 'and', 'despite', 'their', 'prejudices', 'realize', 'they', 'aren', 't', 'so', 'different', 'after', 'all'], filtered=['shlykov', 'hard', 'working', 'taxi', 'driver', 'lyosha', 'saxophonist', 'develop', 'bizarre', 'love', 'hate', 'relationship', 'despite', 'prejudices', 'realize', 'aren', 'different'], features=SparseVector(30000, {10: 1.0, 129: 1.0, 186: 1.0, 209: 1.0, 520: 1.0, 535: 1.0, 555: 1.0, 669: 1.0, 1909: 1.0, 2164: 1.0, 3236: 1.0, 3770: 1.0, 5401: 1.0, 13749: 1.0, 23607: 1.0}))]"
      ]
     },
     "execution_count": 24,
     "metadata": {},
     "output_type": "execute_result"
    }
   ],
   "source": [
    "cv_df.take(1)"
   ]
  },
  {
   "cell_type": "code",
   "execution_count": 25,
   "metadata": {},
   "outputs": [],
   "source": [
    "final_features = cv_df.select(\"genre\", \"features\")"
   ]
  },
  {
   "cell_type": "code",
   "execution_count": 26,
   "metadata": {},
   "outputs": [
    {
     "name": "stdout",
     "output_type": "stream",
     "text": [
      "+--------------------+--------------------+\n",
      "|               genre|            features|\n",
      "+--------------------+--------------------+\n",
      "|['World cinema', ...|(10000,[10,129,18...|\n",
      "|['Action/Adventur...|(10000,[2,6,7,10,...|\n",
      "|['Musical', 'Acti...|(10000,[1,3,8,10,...|\n",
      "|          ['Comedy']|(10000,[7,9,12,15...|\n",
      "|['Crime Fiction',...|(10000,[2,8,9,14,...|\n",
      "|['Action/Adventur...|(10000,[2,4,5,12,...|\n",
      "|['Thriller', 'Dra...|(10000,[0,1,2,3,4...|\n",
      "|           ['Drama']|(10000,[0,1,2,5,7...|\n",
      "|['Black-and-white...|(10000,[0,4,9,17,...|\n",
      "|['Animation', 'Sh...|(10000,[11,31,38,...|\n",
      "|          ['Comedy']|(10000,[1,3,4,7,9...|\n",
      "|['Crime Fiction',...|(10000,[0,2,14,32...|\n",
      "|          ['Comedy']|(10000,[4,5,15,17...|\n",
      "|          ['Comedy']|(10000,[0,1,2,3,6...|\n",
      "|          ['Horror']|(10000,[0,8,54,71...|\n",
      "|['Crime Fiction',...|(10000,[5,14,61,8...|\n",
      "|           ['Drama']|(10000,[2,7,21,25...|\n",
      "|['Crime Fiction',...|(10000,[0,2,4,8,1...|\n",
      "|  ['Indie', 'Drama']|(10000,[1,2,4,10,...|\n",
      "|           ['Drama']|(10000,[0,9,10,43...|\n",
      "+--------------------+--------------------+\n",
      "only showing top 20 rows\n",
      "\n"
     ]
    }
   ],
   "source": [
    "final_features.show()"
   ]
  },
  {
   "cell_type": "code",
   "execution_count": 27,
   "metadata": {},
   "outputs": [],
   "source": [
    "from pyspark.ml.feature import StringIndexer\n",
    "from pyspark.ml import Pipeline"
   ]
  },
  {
   "cell_type": "code",
   "execution_count": 28,
   "metadata": {},
   "outputs": [],
   "source": [
    "label_stringIdx = StringIndexer(inputCol = 'genre', outputCol = 'label')"
   ]
  },
  {
   "cell_type": "code",
   "execution_count": 29,
   "metadata": {},
   "outputs": [],
   "source": [
    "pipeline = Pipeline(stages=[label_stringIdx])"
   ]
  },
  {
   "cell_type": "code",
   "execution_count": 30,
   "metadata": {},
   "outputs": [
    {
     "name": "stdout",
     "output_type": "stream",
     "text": [
      "+--------------------+--------------------+------+\n",
      "|               genre|            features| label|\n",
      "+--------------------+--------------------+------+\n",
      "|['World cinema', ...|(10000,[10,129,18...|   4.0|\n",
      "|['Action/Adventur...|(10000,[2,6,7,10,...|1603.0|\n",
      "|['Musical', 'Acti...|(10000,[1,3,8,10,...| 316.0|\n",
      "|          ['Comedy']|(10000,[7,9,12,15...|   1.0|\n",
      "|['Crime Fiction',...|(10000,[2,8,9,14,...| 113.0|\n",
      "+--------------------+--------------------+------+\n",
      "only showing top 5 rows\n",
      "\n"
     ]
    }
   ],
   "source": [
    "# pipelineFit = pipeline.fit(final_features)\n",
    "dataset = pipeline.fit(final_features).transform(final_features)\n",
    "dataset.show(5)"
   ]
  },
  {
   "cell_type": "code",
   "execution_count": 31,
   "metadata": {},
   "outputs": [],
   "source": [
    "test = final_features\n"
   ]
  },
  {
   "cell_type": "code",
   "execution_count": 32,
   "metadata": {},
   "outputs": [
    {
     "name": "stdout",
     "output_type": "stream",
     "text": [
      "+--------------------+--------------------+\n",
      "|               genre|            features|\n",
      "+--------------------+--------------------+\n",
      "| World cinema, Drama|(10000,[10,129,18...|\n",
      "|Action/Adventure,...|(10000,[2,6,7,10,...|\n",
      "|Musical, Action, ...|(10000,[1,3,8,10,...|\n",
      "|              Comedy|(10000,[7,9,12,15...|\n",
      "|Crime Fiction, Wo...|(10000,[2,8,9,14,...|\n",
      "+--------------------+--------------------+\n",
      "only showing top 5 rows\n",
      "\n"
     ]
    }
   ],
   "source": [
    "def splitter(rec):\n",
    "    rec = rec.replace('[','')\n",
    "    rec = rec.replace(']','')\n",
    "    rec = rec.replace('\\'','')\n",
    "#     rec = [item.replace(\"[\", \"\") for item in rec]\n",
    "#     rec = [item.replace(\"]\", \"\") for item in rec]\n",
    "#     rec = [item.replace(\"\\'\", \"\") for item in rec]\n",
    "    return rec\n",
    "test1 = test.rdd.map(lambda x: [splitter(x[0]), x[1]])#, x[2], x[3]])\n",
    "test2= sqlContext.createDataFrame(test1,['genre','features'])\n",
    "test2.show(5)"
   ]
  },
  {
   "cell_type": "code",
   "execution_count": 33,
   "metadata": {},
   "outputs": [
    {
     "name": "stdout",
     "output_type": "stream",
     "text": [
      "+--------------------+--------------------+---+------------+\n",
      "|            features|               genre|pos|string_label|\n",
      "+--------------------+--------------------+---+------------+\n",
      "|(10000,[10,129,18...|[World cinema,  D...|  0|World cinema|\n",
      "|(10000,[10,129,18...|[World cinema,  D...|  1|       Drama|\n",
      "+--------------------+--------------------+---+------------+\n",
      "only showing top 2 rows\n",
      "\n"
     ]
    }
   ],
   "source": [
    "import pyspark.sql.functions as f\n",
    "test3 = test2.select(\"features\", f.split('genre',',').alias(\"genre\"), f.posexplode(f.split(\"genre\",\",\")).alias(\"pos\", \"string_label\"))\n",
    "test3.show(2)"
   ]
  },
  {
   "cell_type": "code",
   "execution_count": 39,
   "metadata": {},
   "outputs": [],
   "source": [
    "dataset = test3.select(\"features\", f.concat(f.lit(\"genre\"),f.col('pos').cast(\"string\")).alias(\"name\"),f.expr(\"genre[pos]\").alias(\"string_label\")).groupBy(\"features\").pivot(\"name\").agg(f.first(\"string_label\"))\n"
   ]
  },
  {
   "cell_type": "code",
   "execution_count": 40,
   "metadata": {},
   "outputs": [
    {
     "name": "stdout",
     "output_type": "stream",
     "text": [
      "+--------------------+------------+------+------+------+------+------+------+------+------+------+\n",
      "|            features|      genre0|genre1|genre2|genre3|genre4|genre5|genre6|genre7|genre8|genre9|\n",
      "+--------------------+------------+------+------+------+------+------+------+------+------+------+\n",
      "|(30000,[0,1,2,3,4...|World cinema| Drama|  null|  null|  null|  null|  null|  null|  null|  null|\n",
      "+--------------------+------------+------+------+------+------+------+------+------+------+------+\n",
      "only showing top 1 row\n",
      "\n"
     ]
    }
   ],
   "source": [
    "#dataset.show(1, truncate=False)\n",
    "dataset.show(1)"
   ]
  },
  {
   "cell_type": "code",
   "execution_count": 34,
   "metadata": {},
   "outputs": [],
   "source": [
    "final_dataset = test3.select(\"features\", \"string_label\")"
   ]
  },
  {
   "cell_type": "code",
   "execution_count": 35,
   "metadata": {},
   "outputs": [
    {
     "name": "stdout",
     "output_type": "stream",
     "text": [
      "+--------------------+----------------+\n",
      "|            features|    string_label|\n",
      "+--------------------+----------------+\n",
      "|(10000,[10,129,18...|    World cinema|\n",
      "|(10000,[10,129,18...|           Drama|\n",
      "|(10000,[2,6,7,10,...|Action/Adventure|\n",
      "|(10000,[2,6,7,10,...|          Action|\n",
      "+--------------------+----------------+\n",
      "only showing top 4 rows\n",
      "\n"
     ]
    }
   ],
   "source": [
    "final_dataset.show(4)"
   ]
  },
  {
   "cell_type": "code",
   "execution_count": 36,
   "metadata": {},
   "outputs": [],
   "source": [
    "label_stringIdx = StringIndexer(inputCol = 'string_label', outputCol = 'label')"
   ]
  },
  {
   "cell_type": "code",
   "execution_count": 44,
   "metadata": {},
   "outputs": [],
   "source": [
    "# final_dataset1 = label_stringIdx.fit(fd2).transform(fd2)\n",
    "# final_dataset1.show(5)"
   ]
  },
  {
   "cell_type": "code",
   "execution_count": 37,
   "metadata": {},
   "outputs": [
    {
     "name": "stdout",
     "output_type": "stream",
     "text": [
      "+--------------------+----------------+\n",
      "|            features|    string_label|\n",
      "+--------------------+----------------+\n",
      "|(10000,[10,129,18...|    World cinema|\n",
      "|(10000,[10,129,18...|           Drama|\n",
      "|(10000,[2,6,7,10,...|Action/Adventure|\n",
      "|(10000,[2,6,7,10,...|          Action|\n",
      "|(10000,[2,6,7,10,...| Science Fiction|\n",
      "+--------------------+----------------+\n",
      "only showing top 5 rows\n",
      "\n"
     ]
    }
   ],
   "source": [
    "def label_mod(rec):\n",
    "    rec = rec.strip()\n",
    "    return rec\n",
    "fd1_rdd = final_dataset.rdd.map(lambda x: [x[0],label_mod(x[1])])#, x[2], x[3]])\n",
    "fd2= sqlContext.createDataFrame(fd1_rdd,['features','string_label'])\n",
    "fd2.show(5)"
   ]
  },
  {
   "cell_type": "code",
   "execution_count": 38,
   "metadata": {},
   "outputs": [
    {
     "name": "stdout",
     "output_type": "stream",
     "text": [
      "+--------------------+----------------+-----+\n",
      "|            features|    string_label|label|\n",
      "+--------------------+----------------+-----+\n",
      "|(10000,[10,129,18...|    World cinema|  5.0|\n",
      "|(10000,[10,129,18...|           Drama|  0.0|\n",
      "|(10000,[2,6,7,10,...|Action/Adventure| 10.0|\n",
      "|(10000,[2,6,7,10,...|          Action|  4.0|\n",
      "|(10000,[2,6,7,10,...| Science Fiction| 17.0|\n",
      "+--------------------+----------------+-----+\n",
      "only showing top 5 rows\n",
      "\n"
     ]
    }
   ],
   "source": [
    "final_dataset2 = label_stringIdx.fit(fd2).transform(fd2)\n",
    "final_dataset2.show(5)"
   ]
  },
  {
   "cell_type": "code",
   "execution_count": 39,
   "metadata": {},
   "outputs": [
    {
     "name": "stdout",
     "output_type": "stream",
     "text": [
      "+--------------------+------+----------------+---------+---------+---------------+------+-------------+-----+-----------+------+-----+-------+-------+------------+---------------+--------------+---------------+----------+--------+------------+\n",
      "|            features|Action|Action/Adventure|Adventure|Animation|Black-and-white|Comedy|Crime Fiction|Drama|Family Film|Horror|Indie|Musical|Mystery|Romance Film|Romantic comedy|Romantic drama|Science Fiction|Short Film|Thriller|World cinema|\n",
      "+--------------------+------+----------------+---------+---------+---------------+------+-------------+-----+-----------+------+-----+-------+-------+------------+---------------+--------------+---------------+----------+--------+------------+\n",
      "|(10000,[0,23,25,2...|  null|            null|     null|     null|           null|  null|         null| null|       null|  null| null|   null|   19.0|        null|           null|          null|           null|      null|     3.0|        null|\n",
      "|(10000,[41,45,86,...|  null|            null|     null|     null|           null|  null|         null|  0.0|       null|  null| null|   null|   null|        null|           null|          null|           null|      null|    null|        null|\n",
      "|(10000,[1,2,6,9,1...|   4.0|            10.0|     12.0|     null|           null|  null|          6.0|  0.0|       null|  null| null|   null|   null|        null|           null|          null|           null|      null|     3.0|        null|\n",
      "|(10000,[1,5,11,13...|  null|            null|     null|     15.0|           null|  null|         null| null|       null|  null| null|   null|   null|        null|           null|          null|           null|      null|    null|        null|\n",
      "|(10000,[3,10,33,4...|  null|            null|     null|     null|           null|  null|         null|  0.0|       null|  null| null|   null|   null|         2.0|           null|          14.0|           null|      null|    null|         5.0|\n",
      "|(10000,[0,1,2,7,1...|  null|            10.0|     12.0|     null|           null|  null|         null| null|       null|  null| null|   null|   null|        null|           null|          null|           null|      null|    null|         5.0|\n",
      "|(10000,[0,1,2,3,4...|  null|            null|     null|     null|           null|  null|          6.0|  0.0|       null|  null| null|   null|   19.0|        null|           null|          null|           null|      null|     3.0|        null|\n",
      "|(10000,[5,9,11,25...|  null|            null|     null|     null|           null|   1.0|         null|  0.0|       null|  null| null|   null|   null|         2.0|           18.0|          null|           null|      null|    null|        null|\n",
      "|(10000,[0,2,5,7,9...|  null|            null|     null|     null|           null|  null|          6.0|  0.0|       null|  null| null|   null|   null|        null|           null|          null|           null|      null|    null|        null|\n",
      "|(10000,[7,10,13,1...|  null|            null|     null|     null|           null|   1.0|         null| null|       null|  null| null|   16.0|   null|        null|           null|          null|           null|      null|    null|         5.0|\n",
      "+--------------------+------+----------------+---------+---------+---------------+------+-------------+-----+-----------+------+-----+-------+-------+------------+---------------+--------------+---------------+----------+--------+------------+\n",
      "only showing top 10 rows\n",
      "\n"
     ]
    }
   ],
   "source": [
    "pivotDF = final_dataset2.groupBy(\"features\").pivot(\"string_label\").sum('label')\n",
    "pivotDF.show(10)"
   ]
  },
  {
   "cell_type": "code",
   "execution_count": 40,
   "metadata": {},
   "outputs": [],
   "source": [
    "from pyspark.sql.functions import when\n",
    "cols = pivotDF.columns[1:]\n",
    "#cols\n",
    "\n",
    "for col in cols:\n",
    "    pivotDF = pivotDF.withColumn(col, when(pivotDF[col]>=0,1).otherwise(0))"
   ]
  },
  {
   "cell_type": "code",
   "execution_count": 41,
   "metadata": {
    "scrolled": true
   },
   "outputs": [
    {
     "name": "stdout",
     "output_type": "stream",
     "text": [
      "+--------------------+------+----------------+---------+---------+---------------+------+-------------+-----+-----------+------+-----+-------+-------+------------+---------------+--------------+---------------+----------+--------+------------+\n",
      "|            features|Action|Action/Adventure|Adventure|Animation|Black-and-white|Comedy|Crime Fiction|Drama|Family Film|Horror|Indie|Musical|Mystery|Romance Film|Romantic comedy|Romantic drama|Science Fiction|Short Film|Thriller|World cinema|\n",
      "+--------------------+------+----------------+---------+---------+---------------+------+-------------+-----+-----------+------+-----+-------+-------+------------+---------------+--------------+---------------+----------+--------+------------+\n",
      "|(10000,[0,23,25,2...|     0|               0|        0|        0|              0|     0|            0|    0|          0|     0|    0|      0|      1|           0|              0|             0|              0|         0|       1|           0|\n",
      "|(10000,[41,45,86,...|     0|               0|        0|        0|              0|     0|            0|    1|          0|     0|    0|      0|      0|           0|              0|             0|              0|         0|       0|           0|\n",
      "|(10000,[1,2,6,9,1...|     1|               1|        1|        0|              0|     0|            1|    1|          0|     0|    0|      0|      0|           0|              0|             0|              0|         0|       1|           0|\n",
      "|(10000,[1,5,11,13...|     0|               0|        0|        1|              0|     0|            0|    0|          0|     0|    0|      0|      0|           0|              0|             0|              0|         0|       0|           0|\n",
      "|(10000,[3,10,33,4...|     0|               0|        0|        0|              0|     0|            0|    1|          0|     0|    0|      0|      0|           1|              0|             1|              0|         0|       0|           1|\n",
      "|(10000,[0,1,2,7,1...|     0|               1|        1|        0|              0|     0|            0|    0|          0|     0|    0|      0|      0|           0|              0|             0|              0|         0|       0|           1|\n",
      "|(10000,[0,1,2,3,4...|     0|               0|        0|        0|              0|     0|            1|    1|          0|     0|    0|      0|      1|           0|              0|             0|              0|         0|       1|           0|\n",
      "|(10000,[5,9,11,25...|     0|               0|        0|        0|              0|     1|            0|    1|          0|     0|    0|      0|      0|           1|              1|             0|              0|         0|       0|           0|\n",
      "|(10000,[0,2,5,7,9...|     0|               0|        0|        0|              0|     0|            1|    1|          0|     0|    0|      0|      0|           0|              0|             0|              0|         0|       0|           0|\n",
      "|(10000,[7,10,13,1...|     0|               0|        0|        0|              0|     1|            0|    0|          0|     0|    0|      1|      0|           0|              0|             0|              0|         0|       0|           1|\n",
      "+--------------------+------+----------------+---------+---------+---------------+------+-------------+-----+-----------+------+-----+-------+-------+------------+---------------+--------------+---------------+----------+--------+------------+\n",
      "only showing top 10 rows\n",
      "\n"
     ]
    }
   ],
   "source": [
    "pivotDF.show(10)"
   ]
  },
  {
   "cell_type": "code",
   "execution_count": 42,
   "metadata": {},
   "outputs": [],
   "source": [
    "from pyspark.ml.classification import LogisticRegression\n",
    "lr = LogisticRegression(labelCol='label',featuresCol='features',maxIter = 100)"
   ]
  },
  {
   "cell_type": "code",
   "execution_count": 43,
   "metadata": {},
   "outputs": [],
   "source": [
    "train = pivotDF"
   ]
  },
  {
   "cell_type": "code",
   "execution_count": 44,
   "metadata": {},
   "outputs": [],
   "source": [
    "train_1 = train.select('features','Drama').withColumnRenamed(\"Drama\",\"label\") \n",
    "lr_model_1 = lr.fit(train_1)\n",
    "#train_test_1 = train_test.select('features','Drama').withColumnRenamed(\"Drama\",\"label\") \n",
    "#predictions_1 = lr_model_1.transform(train_test_1)"
   ]
  },
  {
   "cell_type": "code",
   "execution_count": 45,
   "metadata": {},
   "outputs": [
    {
     "name": "stdout",
     "output_type": "stream",
     "text": [
      "+--------------------+-----+\n",
      "|            features|label|\n",
      "+--------------------+-----+\n",
      "|(10000,[0,1,2,5,6...|    1|\n",
      "|(10000,[0,3,5,8,9...|    1|\n",
      "|(10000,[0,3,6,7,1...|    1|\n",
      "|(10000,[0,4,5,8,1...|    0|\n",
      "|(10000,[0,4,7,25,...|    1|\n",
      "|(10000,[0,4,16,21...|    0|\n",
      "|(10000,[1,2,5,8,9...|    1|\n",
      "|(10000,[1,9,14,16...|    1|\n",
      "|(10000,[2,3,6,10,...|    1|\n",
      "|(10000,[3,5,15,28...|    1|\n",
      "|(10000,[3,6,12,22...|    1|\n",
      "|(10000,[41,45,86,...|    1|\n",
      "|(10000,[96,130,14...|    0|\n",
      "|(10000,[0,1,2,4,5...|    1|\n",
      "|(10000,[0,1,2,4,5...|    0|\n",
      "|(10000,[0,1,3,6,1...|    0|\n",
      "|(10000,[0,1,4,7,9...|    0|\n",
      "|(10000,[0,1,7,12,...|    0|\n",
      "|(10000,[0,3,5,8,1...|    0|\n",
      "|(10000,[0,4,5,6,7...|    0|\n",
      "+--------------------+-----+\n",
      "only showing top 20 rows\n",
      "\n"
     ]
    }
   ],
   "source": [
    "#train_test_1.show()"
   ]
  },
  {
   "cell_type": "code",
   "execution_count": 46,
   "metadata": {},
   "outputs": [
    {
     "name": "stdout",
     "output_type": "stream",
     "text": [
      "+--------------------+-----+--------------------+--------------------+----------+\n",
      "|            features|label|       rawPrediction|         probability|prediction|\n",
      "+--------------------+-----+--------------------+--------------------+----------+\n",
      "|(10000,[0,1,2,5,6...|    1|[-8.9237036186193...|[1.33176291987699...|       1.0|\n",
      "|(10000,[0,3,5,8,9...|    1|[4.19568553079100...|[0.98516303627966...|       0.0|\n",
      "|(10000,[0,3,6,7,1...|    1|[-0.9850253577807...|[0.27189578166377...|       1.0|\n",
      "+--------------------+-----+--------------------+--------------------+----------+\n",
      "only showing top 3 rows\n",
      "\n"
     ]
    }
   ],
   "source": [
    "#predictions_1.show(3)"
   ]
  },
  {
   "cell_type": "code",
   "execution_count": 45,
   "metadata": {},
   "outputs": [],
   "source": [
    "from pyspark.ml.evaluation import BinaryClassificationEvaluator\n",
    "\n",
    "#evaluator = BinaryClassificationEvaluator(rawPredictionCol = \"rawPrediction\")\n",
    "#print(\"Test Accuracy: \" + str(evaluator.evaluate(predictions_1)))"
   ]
  },
  {
   "cell_type": "code",
   "execution_count": null,
   "metadata": {},
   "outputs": [],
   "source": [
    "#### Model- 2 - Comedy"
   ]
  },
  {
   "cell_type": "code",
   "execution_count": 46,
   "metadata": {},
   "outputs": [],
   "source": [
    "train_2 = train.select('features','Comedy').withColumnRenamed(\"Comedy\",\"label\") \n",
    "lr_model_2 = lr.fit(train_2)\n",
    "#train_test_2 = train_test.select('features','Comedy').withColumnRenamed(\"Comedy\",\"label\") \n",
    "#predictions_2 = lr_model_2.transform(train_test_2)"
   ]
  },
  {
   "cell_type": "code",
   "execution_count": 50,
   "metadata": {},
   "outputs": [
    {
     "name": "stdout",
     "output_type": "stream",
     "text": [
      "Test Accuracy: 0.75282879024135\n"
     ]
    }
   ],
   "source": [
    "#evaluator = BinaryClassificationEvaluator(rawPredictionCol = \"rawPrediction\")\n",
    "#print(\"Test Accuracy: \" + str(evaluator.evaluate(predictions_2)))"
   ]
  },
  {
   "cell_type": "code",
   "execution_count": null,
   "metadata": {},
   "outputs": [],
   "source": [
    "#### Model -3 - Romance Film"
   ]
  },
  {
   "cell_type": "code",
   "execution_count": 47,
   "metadata": {},
   "outputs": [],
   "source": [
    "train_3 = train.select('features','Romance Film').withColumnRenamed(\"Romance Film\",\"label\") \n",
    "lr_model_3 = lr.fit(train_3)\n",
    "#train_test_3 = train_test.select('features','Romance Film').withColumnRenamed(\"Romance Film\",\"label\") \n",
    "#predictions_3 = lr_model_3.transform(train_test_3)"
   ]
  },
  {
   "cell_type": "code",
   "execution_count": 52,
   "metadata": {},
   "outputs": [
    {
     "name": "stdout",
     "output_type": "stream",
     "text": [
      "Test Accuracy: 0.7458964311807046\n"
     ]
    }
   ],
   "source": [
    "#evaluator = BinaryClassificationEvaluator(rawPredictionCol = \"rawPrediction\")\n",
    "#print(\"Test Accuracy: \" + str(evaluator.evaluate(predictions_3)))"
   ]
  },
  {
   "cell_type": "code",
   "execution_count": null,
   "metadata": {},
   "outputs": [],
   "source": [
    "#### Model -4 - Thriller"
   ]
  },
  {
   "cell_type": "code",
   "execution_count": 48,
   "metadata": {},
   "outputs": [],
   "source": [
    "train_4 = train.select('features','Thriller').withColumnRenamed(\"Thriller\",\"label\") \n",
    "lr_model_4 = lr.fit(train_4)\n",
    "#train_test_4 = train_test.select('features','Thriller').withColumnRenamed(\"Thriller\",\"label\") \n",
    "#predictions_4 = lr_model_4.transform(train_test_4)"
   ]
  },
  {
   "cell_type": "code",
   "execution_count": 54,
   "metadata": {},
   "outputs": [
    {
     "name": "stdout",
     "output_type": "stream",
     "text": [
      "Test Accuracy: 0.7593121222277439\n"
     ]
    }
   ],
   "source": [
    "#evaluator = BinaryClassificationEvaluator(rawPredictionCol = \"rawPrediction\")\n",
    "#print(\"Test Accuracy: \" + str(evaluator.evaluate(predictions_4)))"
   ]
  },
  {
   "cell_type": "code",
   "execution_count": null,
   "metadata": {},
   "outputs": [],
   "source": [
    "#### Model -5 - Action"
   ]
  },
  {
   "cell_type": "code",
   "execution_count": 49,
   "metadata": {},
   "outputs": [],
   "source": [
    "train_5 = train.select('features','Action').withColumnRenamed(\"Action\",\"label\") \n",
    "lr_model_5 = lr.fit(train_5)\n",
    "#train_test_5 = train_test.select('features','Action').withColumnRenamed(\"Action\",\"label\") \n",
    "#predictions_5 = lr_model_5.transform(train_test_5)"
   ]
  },
  {
   "cell_type": "code",
   "execution_count": null,
   "metadata": {},
   "outputs": [],
   "source": [
    "#### Model -6 - World cinema"
   ]
  },
  {
   "cell_type": "code",
   "execution_count": 50,
   "metadata": {},
   "outputs": [],
   "source": [
    "train_6 = train.select('features','World cinema').withColumnRenamed(\"World cinema\",\"label\") \n",
    "lr_model_6 = lr.fit(train_6)\n",
    "#train_test_6 = train_test.select('features','World cinema').withColumnRenamed(\"World cinema\",\"label\") \n",
    "#predictions_6 = lr_model_6.transform(train_test_6)"
   ]
  },
  {
   "cell_type": "code",
   "execution_count": null,
   "metadata": {},
   "outputs": [],
   "source": [
    "#### Model -7 - Crime Fiction"
   ]
  },
  {
   "cell_type": "code",
   "execution_count": 51,
   "metadata": {},
   "outputs": [],
   "source": [
    "train_7 = train.select('features','Crime Fiction').withColumnRenamed(\"Crime Fiction\",\"label\") \n",
    "lr_model_7 = lr.fit(train_7)\n",
    "#train_test_7 = train_test.select('features','Crime Fiction').withColumnRenamed(\"Crime Fiction\",\"label\") \n",
    "#predictions_7 = lr_model_7.transform(train_test_7)"
   ]
  },
  {
   "cell_type": "code",
   "execution_count": null,
   "metadata": {},
   "outputs": [],
   "source": [
    "#### Model -8 - Horror"
   ]
  },
  {
   "cell_type": "code",
   "execution_count": 52,
   "metadata": {},
   "outputs": [],
   "source": [
    "train_8 = train.select('features','Horror').withColumnRenamed(\"Horror\",\"label\") \n",
    "lr_model_8 = lr.fit(train_8)\n",
    "#train_test_8 = train_test.select('features','Horror').withColumnRenamed(\"Horror\",\"label\") \n",
    "#predictions_8 = lr_model_8.transform(train_test_8)"
   ]
  },
  {
   "cell_type": "code",
   "execution_count": null,
   "metadata": {},
   "outputs": [],
   "source": [
    "#### Model -9 - Black-and-white"
   ]
  },
  {
   "cell_type": "code",
   "execution_count": 53,
   "metadata": {},
   "outputs": [],
   "source": [
    "train_9 = train.select('features','Black-and-white').withColumnRenamed(\"Black-and-white\",\"label\") \n",
    "lr_model_9 = lr.fit(train_9)"
   ]
  },
  {
   "cell_type": "code",
   "execution_count": null,
   "metadata": {},
   "outputs": [],
   "source": [
    "#### Model - 10 -Indie"
   ]
  },
  {
   "cell_type": "code",
   "execution_count": 54,
   "metadata": {},
   "outputs": [],
   "source": [
    "train_10 = train.select('features','Indie').withColumnRenamed(\"Indie\",\"label\") \n",
    "lr_model_10 = lr.fit(train_10)"
   ]
  },
  {
   "cell_type": "code",
   "execution_count": null,
   "metadata": {},
   "outputs": [],
   "source": [
    "#### Model - 11 -Action/Adventure"
   ]
  },
  {
   "cell_type": "code",
   "execution_count": 55,
   "metadata": {},
   "outputs": [],
   "source": [
    "train_11 = train.select('features','Action/Adventure').withColumnRenamed(\"Action/Adventure\",\"label\") \n",
    "lr_model_11 = lr.fit(train_11)"
   ]
  },
  {
   "cell_type": "code",
   "execution_count": null,
   "metadata": {},
   "outputs": [],
   "source": [
    "#### Model - 12 -Adventure"
   ]
  },
  {
   "cell_type": "code",
   "execution_count": 56,
   "metadata": {},
   "outputs": [],
   "source": [
    "train_12 = train.select('features','Adventure').withColumnRenamed(\"Adventure\",\"label\") \n",
    "lr_model_12 = lr.fit(train_12)"
   ]
  },
  {
   "cell_type": "code",
   "execution_count": null,
   "metadata": {},
   "outputs": [],
   "source": [
    "#### Model - 13 - Family Film"
   ]
  },
  {
   "cell_type": "code",
   "execution_count": 57,
   "metadata": {},
   "outputs": [],
   "source": [
    "train_13 = train.select('features','Family Film').withColumnRenamed(\"Family Film\",\"label\") \n",
    "lr_model_13 = lr.fit(train_13)"
   ]
  },
  {
   "cell_type": "code",
   "execution_count": null,
   "metadata": {},
   "outputs": [],
   "source": [
    "#### Model - 14 -Short Film"
   ]
  },
  {
   "cell_type": "code",
   "execution_count": 58,
   "metadata": {},
   "outputs": [],
   "source": [
    "train_14 = train.select('features','Short Film').withColumnRenamed(\"Short Film\",\"label\") \n",
    "lr_model_14 = lr.fit(train_14)"
   ]
  },
  {
   "cell_type": "code",
   "execution_count": null,
   "metadata": {},
   "outputs": [],
   "source": [
    "#### Model -15 - Romantic drama"
   ]
  },
  {
   "cell_type": "code",
   "execution_count": 59,
   "metadata": {},
   "outputs": [],
   "source": [
    "train_15 = train.select('features','Romantic drama').withColumnRenamed(\"Romantic drama\",\"label\") \n",
    "lr_model_15 = lr.fit(train_15)"
   ]
  },
  {
   "cell_type": "code",
   "execution_count": null,
   "metadata": {},
   "outputs": [],
   "source": [
    "#### Model -16 - Animation"
   ]
  },
  {
   "cell_type": "code",
   "execution_count": 60,
   "metadata": {},
   "outputs": [],
   "source": [
    "train_16 = train.select('features','Animation').withColumnRenamed(\"Animation\",\"label\") \n",
    "lr_model_16 = lr.fit(train_16)"
   ]
  },
  {
   "cell_type": "code",
   "execution_count": null,
   "metadata": {},
   "outputs": [],
   "source": [
    "#### Model -17 - Musical"
   ]
  },
  {
   "cell_type": "code",
   "execution_count": 61,
   "metadata": {},
   "outputs": [],
   "source": [
    "train_17 = train.select('features','Musical').withColumnRenamed(\"Musical\",\"label\") \n",
    "lr_model_17 = lr.fit(train_17)"
   ]
  },
  {
   "cell_type": "code",
   "execution_count": 68,
   "metadata": {},
   "outputs": [],
   "source": [
    "#### Model -18 -Science Fiction"
   ]
  },
  {
   "cell_type": "code",
   "execution_count": 62,
   "metadata": {},
   "outputs": [],
   "source": [
    "train_18 = train.select('features','Science Fiction').withColumnRenamed(\"Science Fiction\",\"label\") \n",
    "lr_model_18 = lr.fit(train_18)"
   ]
  },
  {
   "cell_type": "code",
   "execution_count": null,
   "metadata": {},
   "outputs": [],
   "source": [
    "#### Model -19 -Mystery"
   ]
  },
  {
   "cell_type": "code",
   "execution_count": 63,
   "metadata": {},
   "outputs": [],
   "source": [
    "train_19 = train.select('features','Mystery').withColumnRenamed(\"Mystery\",\"label\") \n",
    "lr_model_19 = lr.fit(train_19)"
   ]
  },
  {
   "cell_type": "code",
   "execution_count": null,
   "metadata": {},
   "outputs": [],
   "source": [
    "#### Model -20 -Romantic comedy"
   ]
  },
  {
   "cell_type": "code",
   "execution_count": 64,
   "metadata": {},
   "outputs": [],
   "source": [
    "train_20 = train.select('features','Romantic comedy').withColumnRenamed(\"Romantic comedy\",\"label\") \n",
    "lr_model_20 = lr.fit(train_20)"
   ]
  },
  {
   "cell_type": "markdown",
   "metadata": {},
   "source": [
    "# Test Data"
   ]
  },
  {
   "cell_type": "code",
   "execution_count": 65,
   "metadata": {},
   "outputs": [],
   "source": [
    "test_pandas_df = pd.read_csv(\"test.csv\")"
   ]
  },
  {
   "cell_type": "code",
   "execution_count": 66,
   "metadata": {},
   "outputs": [],
   "source": [
    "test_spark_df = sqlContext.createDataFrame(test_pandas_df)\n",
    "test_rdd_df = test_spark_df.rdd"
   ]
  },
  {
   "cell_type": "code",
   "execution_count": 67,
   "metadata": {},
   "outputs": [
    {
     "name": "stdout",
     "output_type": "stream",
     "text": [
      "+--------+--------------------+--------------------+\n",
      "|movie_id|          movie_name|                plot|\n",
      "+--------+--------------------+--------------------+\n",
      "| 1335380|              Exodus|The film is based...|\n",
      "|29062594|A la salida nos v...|A group of teenag...|\n",
      "| 9252321|   Come Back, Africa|This story of a Z...|\n",
      "+--------+--------------------+--------------------+\n",
      "only showing top 3 rows\n",
      "\n"
     ]
    }
   ],
   "source": [
    "test_spark_df.show(3)"
   ]
  },
  {
   "cell_type": "code",
   "execution_count": 68,
   "metadata": {},
   "outputs": [],
   "source": [
    "test_regex_tokenized = regex_tokenizer.transform(test_spark_df)"
   ]
  },
  {
   "cell_type": "code",
   "execution_count": 69,
   "metadata": {},
   "outputs": [],
   "source": [
    "test_stopword_tokenized_withnum = remover.transform(test_regex_tokenized)"
   ]
  },
  {
   "cell_type": "code",
   "execution_count": null,
   "metadata": {},
   "outputs": [],
   "source": [
    "def is_not_digit(rec):\n",
    "    list1 = []\n",
    "    for i in rec:\n",
    "        if i.isdigit():\n",
    "            continue;\n",
    "        else:\n",
    "            list1.append(i)\n",
    "    return list1\n",
    "            \n",
    "test_stopword_without_numbers = test_stopword_tokenized_withnum.rdd.map(lambda x: [x[0],x[1],x[2],x[3],is_not_digit(x[4])])#, x[2], x[3]])\n",
    "test_stopword_tokenized= sqlContext.createDataFrame(test_stopword_without_numbers,['movie_id','movie_name','plot','plot_terms','filtered'])\n",
    "test_stopword_tokenized.show(5)"
   ]
  },
  {
   "cell_type": "code",
   "execution_count": 70,
   "metadata": {},
   "outputs": [],
   "source": [
    "test_cv = CountVectorizer(inputCol = 'filtered', vocabSize = 10000, minDF = 5.0, outputCol = 'features')"
   ]
  },
  {
   "cell_type": "code",
   "execution_count": 71,
   "metadata": {},
   "outputs": [],
   "source": [
    "test_cv_model = test_cv.fit(test_stopword_tokenized)\n",
    "test_cv_df = test_cv_model.transform(test_stopword_tokenized)"
   ]
  },
  {
   "cell_type": "code",
   "execution_count": 72,
   "metadata": {},
   "outputs": [],
   "source": [
    "test_final_features = test_cv_df.select(\"features\")"
   ]
  },
  {
   "cell_type": "code",
   "execution_count": 73,
   "metadata": {},
   "outputs": [
    {
     "name": "stdout",
     "output_type": "stream",
     "text": [
      "+--------------------+\n",
      "|            features|\n",
      "+--------------------+\n",
      "|(10000,[0,3,6,7,8...|\n",
      "|(10000,[7,12,56,6...|\n",
      "|(10000,[4,7,8,10,...|\n",
      "|(10000,[0,76,77,7...|\n",
      "|(10000,[19,392,43...|\n",
      "|(10000,[0,1,2,3,4...|\n",
      "|(10000,[0,5,6,9,1...|\n",
      "|(10000,[13,21,191...|\n",
      "|(10000,[4,8,11,13...|\n",
      "|(10000,[55,56,222...|\n",
      "|(10000,[1,3,4,7,8...|\n",
      "|(10000,[6,7,16,20...|\n",
      "|(10000,[3,5,8,9,1...|\n",
      "|(10000,[0,1,6,16,...|\n",
      "|(10000,[2,3,9,10,...|\n",
      "|(10000,[0,2,3,5,9...|\n",
      "|(10000,[0,1,2,3,4...|\n",
      "|(10000,[0,1,3,5,7...|\n",
      "|(10000,[9,18,26,3...|\n",
      "|(10000,[0,3,4,9,1...|\n",
      "+--------------------+\n",
      "only showing top 20 rows\n",
      "\n"
     ]
    }
   ],
   "source": [
    "test_final_features.show()"
   ]
  },
  {
   "cell_type": "code",
   "execution_count": 74,
   "metadata": {},
   "outputs": [
    {
     "name": "stdout",
     "output_type": "stream",
     "text": [
      "+--------------------+-----+\n",
      "|            features|label|\n",
      "+--------------------+-----+\n",
      "|(10000,[0,3,6,7,8...|    0|\n",
      "|(10000,[7,12,56,6...|    0|\n",
      "|(10000,[4,7,8,10,...|    0|\n",
      "|(10000,[0,76,77,7...|    0|\n",
      "|(10000,[19,392,43...|    0|\n",
      "|(10000,[0,1,2,3,4...|    0|\n",
      "|(10000,[0,5,6,9,1...|    0|\n",
      "|(10000,[13,21,191...|    0|\n",
      "|(10000,[4,8,11,13...|    0|\n",
      "|(10000,[55,56,222...|    0|\n",
      "|(10000,[1,3,4,7,8...|    0|\n",
      "|(10000,[6,7,16,20...|    0|\n",
      "|(10000,[3,5,8,9,1...|    0|\n",
      "|(10000,[0,1,6,16,...|    0|\n",
      "|(10000,[2,3,9,10,...|    0|\n",
      "|(10000,[0,2,3,5,9...|    0|\n",
      "|(10000,[0,1,2,3,4...|    0|\n",
      "|(10000,[0,1,3,5,7...|    0|\n",
      "|(10000,[9,18,26,3...|    0|\n",
      "|(10000,[0,3,4,9,1...|    0|\n",
      "+--------------------+-----+\n",
      "only showing top 20 rows\n",
      "\n"
     ]
    }
   ],
   "source": [
    "\n",
    "test_final_1 = test_final_features.withColumn('label',f.lit(0))\n",
    "test_final_1.show()"
   ]
  },
  {
   "cell_type": "code",
   "execution_count": 75,
   "metadata": {},
   "outputs": [],
   "source": [
    "test_predictions_1 = lr_model_1.transform(test_final_1)\n"
   ]
  },
  {
   "cell_type": "code",
   "execution_count": 76,
   "metadata": {},
   "outputs": [
    {
     "name": "stdout",
     "output_type": "stream",
     "text": [
      "+--------------------+--------+-----+\n",
      "|            features|column_1|label|\n",
      "+--------------------+--------+-----+\n",
      "|(10000,[0,3,6,7,8...|       0|    0|\n",
      "|(10000,[7,12,56,6...|       0|    0|\n",
      "|(10000,[4,7,8,10,...|       0|    0|\n",
      "|(10000,[0,76,77,7...|       0|    0|\n",
      "|(10000,[19,392,43...|       1|    0|\n",
      "|(10000,[0,1,2,3,4...|       0|    0|\n",
      "|(10000,[0,5,6,9,1...|       1|    0|\n",
      "|(10000,[13,21,191...|       1|    0|\n",
      "|(10000,[4,8,11,13...|       1|    0|\n",
      "|(10000,[55,56,222...|       0|    0|\n",
      "|(10000,[1,3,4,7,8...|       0|    0|\n",
      "|(10000,[6,7,16,20...|       1|    0|\n",
      "|(10000,[3,5,8,9,1...|       0|    0|\n",
      "|(10000,[0,1,6,16,...|       0|    0|\n",
      "|(10000,[2,3,9,10,...|       1|    0|\n",
      "|(10000,[0,2,3,5,9...|       1|    0|\n",
      "|(10000,[0,1,2,3,4...|       0|    0|\n",
      "|(10000,[0,1,3,5,7...|       0|    0|\n",
      "|(10000,[9,18,26,3...|       0|    0|\n",
      "|(10000,[0,3,4,9,1...|       1|    0|\n",
      "+--------------------+--------+-----+\n",
      "only showing top 20 rows\n",
      "\n"
     ]
    }
   ],
   "source": [
    "test_predictions_1 = test_predictions_1.select('features','prediction','label').withColumnRenamed('prediction','column')\n",
    "test_predictions_1 = test_predictions_1.withColumn(\"column_1\",test_predictions_1[\"column\"].cast('int'))\n",
    "test_predictions_1 = test_predictions_1.select('features', 'column_1','label')\n",
    "test_predictions_1.show()"
   ]
  },
  {
   "cell_type": "code",
   "execution_count": 77,
   "metadata": {},
   "outputs": [],
   "source": [
    "test_final_2 = test_predictions_1"
   ]
  },
  {
   "cell_type": "code",
   "execution_count": 78,
   "metadata": {},
   "outputs": [],
   "source": [
    "test_predictions_2 = lr_model_2.transform(test_final_2)"
   ]
  },
  {
   "cell_type": "code",
   "execution_count": 79,
   "metadata": {},
   "outputs": [
    {
     "name": "stdout",
     "output_type": "stream",
     "text": [
      "+--------------------+--------+--------+-----+\n",
      "|            features|column_1|column_2|label|\n",
      "+--------------------+--------+--------+-----+\n",
      "|(10000,[0,3,6,7,8...|       0|       0|    0|\n",
      "|(10000,[7,12,56,6...|       0|       0|    0|\n",
      "|(10000,[4,7,8,10,...|       0|       0|    0|\n",
      "|(10000,[0,76,77,7...|       0|       1|    0|\n",
      "|(10000,[19,392,43...|       1|       0|    0|\n",
      "|(10000,[0,1,2,3,4...|       0|       1|    0|\n",
      "|(10000,[0,5,6,9,1...|       1|       0|    0|\n",
      "|(10000,[13,21,191...|       1|       0|    0|\n",
      "|(10000,[4,8,11,13...|       1|       0|    0|\n",
      "|(10000,[55,56,222...|       0|       0|    0|\n",
      "|(10000,[1,3,4,7,8...|       0|       0|    0|\n",
      "|(10000,[6,7,16,20...|       1|       0|    0|\n",
      "|(10000,[3,5,8,9,1...|       0|       1|    0|\n",
      "|(10000,[0,1,6,16,...|       0|       0|    0|\n",
      "|(10000,[2,3,9,10,...|       1|       0|    0|\n",
      "|(10000,[0,2,3,5,9...|       1|       1|    0|\n",
      "|(10000,[0,1,2,3,4...|       0|       0|    0|\n",
      "|(10000,[0,1,3,5,7...|       0|       0|    0|\n",
      "|(10000,[9,18,26,3...|       0|       0|    0|\n",
      "|(10000,[0,3,4,9,1...|       1|       0|    0|\n",
      "+--------------------+--------+--------+-----+\n",
      "only showing top 20 rows\n",
      "\n"
     ]
    }
   ],
   "source": [
    "test_predictions_2 = test_predictions_2.select('features','column_1','prediction','label').withColumnRenamed('prediction','column')\n",
    "test_predictions_2 = test_predictions_2.withColumn(\"column_2\",test_predictions_2[\"column\"].cast('int'))\n",
    "test_predictions_2 = test_predictions_2.select('features', 'column_1','column_2','label')\n",
    "test_predictions_2.show()"
   ]
  },
  {
   "cell_type": "code",
   "execution_count": 80,
   "metadata": {},
   "outputs": [],
   "source": [
    "test_final_3 = test_predictions_2"
   ]
  },
  {
   "cell_type": "code",
   "execution_count": 81,
   "metadata": {},
   "outputs": [],
   "source": [
    "test_predictions_3 = lr_model_3.transform(test_final_3)"
   ]
  },
  {
   "cell_type": "code",
   "execution_count": 82,
   "metadata": {},
   "outputs": [
    {
     "name": "stdout",
     "output_type": "stream",
     "text": [
      "+--------------------+--------+--------+--------+-----+\n",
      "|            features|column_1|column_2|column_3|label|\n",
      "+--------------------+--------+--------+--------+-----+\n",
      "|(10000,[0,3,6,7,8...|       0|       0|       0|    0|\n",
      "|(10000,[7,12,56,6...|       0|       0|       0|    0|\n",
      "|(10000,[4,7,8,10,...|       0|       0|       0|    0|\n",
      "|(10000,[0,76,77,7...|       0|       1|       0|    0|\n",
      "|(10000,[19,392,43...|       1|       0|       0|    0|\n",
      "|(10000,[0,1,2,3,4...|       0|       1|       0|    0|\n",
      "|(10000,[0,5,6,9,1...|       1|       0|       0|    0|\n",
      "|(10000,[13,21,191...|       1|       0|       0|    0|\n",
      "|(10000,[4,8,11,13...|       1|       0|       1|    0|\n",
      "|(10000,[55,56,222...|       0|       0|       0|    0|\n",
      "|(10000,[1,3,4,7,8...|       0|       0|       0|    0|\n",
      "|(10000,[6,7,16,20...|       1|       0|       0|    0|\n",
      "|(10000,[3,5,8,9,1...|       0|       1|       0|    0|\n",
      "|(10000,[0,1,6,16,...|       0|       0|       0|    0|\n",
      "|(10000,[2,3,9,10,...|       1|       0|       0|    0|\n",
      "|(10000,[0,2,3,5,9...|       1|       1|       1|    0|\n",
      "|(10000,[0,1,2,3,4...|       0|       0|       0|    0|\n",
      "|(10000,[0,1,3,5,7...|       0|       0|       0|    0|\n",
      "|(10000,[9,18,26,3...|       0|       0|       1|    0|\n",
      "|(10000,[0,3,4,9,1...|       1|       0|       0|    0|\n",
      "+--------------------+--------+--------+--------+-----+\n",
      "only showing top 20 rows\n",
      "\n"
     ]
    }
   ],
   "source": [
    "test_predictions_3 = test_predictions_3.select('features','column_1','column_2','prediction','label').withColumnRenamed('prediction','column')\n",
    "test_predictions_3 = test_predictions_3.withColumn(\"column_3\",test_predictions_3[\"column\"].cast('int'))\n",
    "test_predictions_3 = test_predictions_3.select('features', 'column_1','column_2','column_3','label')\n",
    "test_predictions_3.show()"
   ]
  },
  {
   "cell_type": "code",
   "execution_count": 83,
   "metadata": {},
   "outputs": [],
   "source": [
    "test_final_4 = test_predictions_3\n",
    "test_predictions_4 = lr_model_4.transform(test_final_4)"
   ]
  },
  {
   "cell_type": "code",
   "execution_count": 84,
   "metadata": {},
   "outputs": [],
   "source": [
    "test_predictions_4 = test_predictions_4.select('features','column_1','column_2','column_3','prediction','label').withColumnRenamed('prediction','column')\n",
    "test_predictions_4 = test_predictions_4.withColumn(\"column_4\",test_predictions_4[\"column\"].cast('int'))\n",
    "test_predictions_4 = test_predictions_4.select('features', 'column_1','column_2','column_3','column_4','label')\n",
    "#test_predictions_4.show()"
   ]
  },
  {
   "cell_type": "code",
   "execution_count": 85,
   "metadata": {},
   "outputs": [],
   "source": [
    "test_final_5 = test_predictions_4\n",
    "test_predictions_5 = lr_model_5.transform(test_final_5)"
   ]
  },
  {
   "cell_type": "code",
   "execution_count": 86,
   "metadata": {},
   "outputs": [],
   "source": [
    "test_predictions_5 = test_predictions_5.select('features','column_1','column_2','column_3','column_4','prediction','label').withColumnRenamed('prediction','column')\n",
    "test_predictions_5 = test_predictions_5.withColumn(\"column_5\",test_predictions_5[\"column\"].cast('int'))\n",
    "test_predictions_5 = test_predictions_5.select('features', 'column_1','column_2','column_3','column_4','column_5','label')"
   ]
  },
  {
   "cell_type": "code",
   "execution_count": 87,
   "metadata": {},
   "outputs": [],
   "source": [
    "test_final_6 = test_predictions_5\n",
    "test_predictions_6 = lr_model_6.transform(test_final_6)"
   ]
  },
  {
   "cell_type": "code",
   "execution_count": 88,
   "metadata": {},
   "outputs": [],
   "source": [
    "test_predictions_6 = test_predictions_6.select('features','column_1','column_2','column_3','column_4','column_5','prediction','label').withColumnRenamed('prediction','column')\n",
    "test_predictions_6 = test_predictions_6.withColumn(\"column_6\",test_predictions_6[\"column\"].cast('int'))\n",
    "test_predictions_6 = test_predictions_6.select('features', 'column_1','column_2','column_3','column_4','column_5','column_6','label')"
   ]
  },
  {
   "cell_type": "code",
   "execution_count": 89,
   "metadata": {},
   "outputs": [],
   "source": [
    "test_final_7 = test_predictions_6\n",
    "test_predictions_7 = lr_model_7.transform(test_final_7)"
   ]
  },
  {
   "cell_type": "code",
   "execution_count": 90,
   "metadata": {},
   "outputs": [],
   "source": [
    "test_predictions_7 = test_predictions_7.select('features','column_1','column_2','column_3','column_4','column_5','column_6','prediction','label').withColumnRenamed('prediction','column')\n",
    "test_predictions_7 = test_predictions_7.withColumn(\"column_7\",test_predictions_7[\"column\"].cast('int'))\n",
    "test_predictions_7 = test_predictions_7.select('features', 'column_1','column_2','column_3','column_4','column_5','column_6','column_7','label')"
   ]
  },
  {
   "cell_type": "code",
   "execution_count": 91,
   "metadata": {},
   "outputs": [],
   "source": [
    "test_final_8 = test_predictions_7\n",
    "test_predictions_8 = lr_model_8.transform(test_final_8)"
   ]
  },
  {
   "cell_type": "code",
   "execution_count": 92,
   "metadata": {},
   "outputs": [],
   "source": [
    "test_predictions_8 = test_predictions_8.select('features','column_1','column_2','column_3','column_4','column_5','column_6','column_7','prediction','label').withColumnRenamed('prediction','column')\n",
    "test_predictions_8 = test_predictions_8.withColumn(\"column_8\",test_predictions_8[\"column\"].cast('int'))\n",
    "test_predictions_8 = test_predictions_8.select('features', 'column_1','column_2','column_3','column_4','column_5','column_6','column_7','column_8','label')"
   ]
  },
  {
   "cell_type": "code",
   "execution_count": 93,
   "metadata": {},
   "outputs": [],
   "source": [
    "test_final_9 = test_predictions_8\n",
    "test_predictions_9 = lr_model_9.transform(test_final_9)"
   ]
  },
  {
   "cell_type": "code",
   "execution_count": 94,
   "metadata": {},
   "outputs": [],
   "source": [
    "test_predictions_9 = test_predictions_9.select('features','column_1','column_2','column_3','column_4','column_5','column_6','column_7','column_8','prediction','label').withColumnRenamed('prediction','column')\n",
    "test_predictions_9 = test_predictions_9.withColumn(\"column_9\",test_predictions_9[\"column\"].cast('int'))\n",
    "test_predictions_9 = test_predictions_9.select('features', 'column_1','column_2','column_3','column_4','column_5','column_6','column_7','column_8','column_9','label')"
   ]
  },
  {
   "cell_type": "code",
   "execution_count": 95,
   "metadata": {},
   "outputs": [],
   "source": [
    "test_final_10 = test_predictions_9\n",
    "test_predictions_10 = lr_model_10.transform(test_final_10)"
   ]
  },
  {
   "cell_type": "code",
   "execution_count": 96,
   "metadata": {},
   "outputs": [],
   "source": [
    "test_predictions_10 = test_predictions_10.select('features','column_1','column_2','column_3','column_4','column_5','column_6','column_7','column_8','column_9','prediction','label').withColumnRenamed('prediction','column')\n",
    "test_predictions_10 = test_predictions_10.withColumn(\"column_10\",test_predictions_10[\"column\"].cast('int'))\n",
    "test_predictions_10 = test_predictions_10.select('features', 'column_1','column_2','column_3','column_4','column_5','column_6','column_7','column_8','column_9','column_10','label')"
   ]
  },
  {
   "cell_type": "code",
   "execution_count": 97,
   "metadata": {},
   "outputs": [],
   "source": [
    "test_final_11 = test_predictions_10\n",
    "test_predictions_11 = lr_model_11.transform(test_final_11)"
   ]
  },
  {
   "cell_type": "code",
   "execution_count": 98,
   "metadata": {},
   "outputs": [],
   "source": [
    "test_predictions_11 = test_predictions_11.select('features','column_1','column_2','column_3','column_4','column_5','column_6','column_7','column_8','column_9','column_10','prediction','label').withColumnRenamed('prediction','column')\n",
    "test_predictions_11 = test_predictions_11.withColumn(\"column_11\",test_predictions_11[\"column\"].cast('int'))\n",
    "test_predictions_11 = test_predictions_11.select('features', 'column_1','column_2','column_3','column_4','column_5','column_6','column_7','column_8','column_9','column_10','column_11','label')"
   ]
  },
  {
   "cell_type": "code",
   "execution_count": 99,
   "metadata": {},
   "outputs": [],
   "source": [
    "test_final_12 = test_predictions_11\n",
    "test_predictions_12 = lr_model_12.transform(test_final_12)"
   ]
  },
  {
   "cell_type": "code",
   "execution_count": 100,
   "metadata": {},
   "outputs": [],
   "source": [
    "test_predictions_12 = test_predictions_12.select('features','column_1','column_2','column_3','column_4','column_5','column_6','column_7','column_8','column_9','column_10','column_11','prediction','label').withColumnRenamed('prediction','column')\n",
    "test_predictions_12 = test_predictions_12.withColumn(\"column_12\",test_predictions_12[\"column\"].cast('int'))\n",
    "test_predictions_12 = test_predictions_12.select('features', 'column_1','column_2','column_3','column_4','column_5','column_6','column_7','column_8','column_9','column_10','column_11','column_12','label')"
   ]
  },
  {
   "cell_type": "code",
   "execution_count": 101,
   "metadata": {},
   "outputs": [],
   "source": [
    "test_final_13 = test_predictions_12\n",
    "test_predictions_13 = lr_model_13.transform(test_final_13)"
   ]
  },
  {
   "cell_type": "code",
   "execution_count": 102,
   "metadata": {},
   "outputs": [],
   "source": [
    "test_predictions_13 = test_predictions_13.select('features','column_1','column_2','column_3','column_4','column_5','column_6','column_7','column_8','column_9','column_10','column_11','column_12','prediction','label').withColumnRenamed('prediction','column')\n",
    "test_predictions_13 = test_predictions_13.withColumn(\"column_13\",test_predictions_13[\"column\"].cast('int'))\n",
    "test_predictions_13 = test_predictions_13.select('features', 'column_1','column_2','column_3','column_4','column_5','column_6','column_7','column_8','column_9','column_10','column_11','column_12','column_13','label')"
   ]
  },
  {
   "cell_type": "code",
   "execution_count": 103,
   "metadata": {},
   "outputs": [],
   "source": [
    "test_final_14 = test_predictions_13\n",
    "test_predictions_14 = lr_model_14.transform(test_final_14)"
   ]
  },
  {
   "cell_type": "code",
   "execution_count": 104,
   "metadata": {},
   "outputs": [],
   "source": [
    "test_predictions_14 = test_predictions_14.select('features','column_1','column_2','column_3','column_4','column_5','column_6','column_7','column_8','column_9','column_10','column_11','column_12','column_13','prediction','label').withColumnRenamed('prediction','column')\n",
    "test_predictions_14 = test_predictions_14.withColumn(\"column_14\",test_predictions_14[\"column\"].cast('int'))\n",
    "test_predictions_14 = test_predictions_14.select('features', 'column_1','column_2','column_3','column_4','column_5','column_6','column_7','column_8','column_9','column_10','column_11','column_12','column_13','column_14','label')"
   ]
  },
  {
   "cell_type": "code",
   "execution_count": 105,
   "metadata": {},
   "outputs": [],
   "source": [
    "test_final_15 = test_predictions_14\n",
    "test_predictions_15 = lr_model_15.transform(test_final_15)"
   ]
  },
  {
   "cell_type": "code",
   "execution_count": 106,
   "metadata": {},
   "outputs": [],
   "source": [
    "test_predictions_15 = test_predictions_15.select('features','column_1','column_2','column_3','column_4','column_5','column_6','column_7','column_8','column_9','column_10','column_11','column_12','column_13','column_14','prediction','label').withColumnRenamed('prediction','column')\n",
    "test_predictions_15 = test_predictions_15.withColumn(\"column_15\",test_predictions_15[\"column\"].cast('int'))\n",
    "test_predictions_15 = test_predictions_15.select('features', 'column_1','column_2','column_3','column_4','column_5','column_6','column_7','column_8','column_9','column_10','column_11','column_12','column_13','column_14','column_15','label')"
   ]
  },
  {
   "cell_type": "code",
   "execution_count": 107,
   "metadata": {},
   "outputs": [],
   "source": [
    "test_final_16 = test_predictions_15\n",
    "test_predictions_16 = lr_model_16.transform(test_final_16)"
   ]
  },
  {
   "cell_type": "code",
   "execution_count": 108,
   "metadata": {},
   "outputs": [],
   "source": [
    "test_predictions_16 = test_predictions_16.select('features','column_1','column_2','column_3','column_4','column_5','column_6','column_7','column_8','column_9','column_10','column_11','column_12','column_13','column_14','column_15','prediction','label').withColumnRenamed('prediction','column')\n",
    "test_predictions_16 = test_predictions_16.withColumn(\"column_16\",test_predictions_16[\"column\"].cast('int'))\n",
    "test_predictions_16 = test_predictions_16.select('features', 'column_1','column_2','column_3','column_4','column_5','column_6','column_7','column_8','column_9','column_10','column_11','column_12','column_13','column_14','column_15','column_16','label')"
   ]
  },
  {
   "cell_type": "code",
   "execution_count": 109,
   "metadata": {},
   "outputs": [],
   "source": [
    "test_final_17 = test_predictions_16\n",
    "test_predictions_17 = lr_model_17.transform(test_final_17)"
   ]
  },
  {
   "cell_type": "code",
   "execution_count": 110,
   "metadata": {},
   "outputs": [],
   "source": [
    "test_predictions_17 = test_predictions_17.select('features','column_1','column_2','column_3','column_4','column_5','column_6','column_7','column_8','column_9','column_10','column_11','column_12','column_13','column_14','column_15','column_16','prediction','label').withColumnRenamed('prediction','column')\n",
    "test_predictions_17 = test_predictions_17.withColumn(\"column_17\",test_predictions_17[\"column\"].cast('int'))\n",
    "test_predictions_17 = test_predictions_17.select('features', 'column_1','column_2','column_3','column_4','column_5','column_6','column_7','column_8','column_9','column_10','column_11','column_12','column_13','column_14','column_15','column_16','column_17','label')"
   ]
  },
  {
   "cell_type": "code",
   "execution_count": 111,
   "metadata": {},
   "outputs": [],
   "source": [
    "test_final_18 = test_predictions_17\n",
    "test_predictions_18 = lr_model_18.transform(test_final_18)"
   ]
  },
  {
   "cell_type": "code",
   "execution_count": 112,
   "metadata": {},
   "outputs": [],
   "source": [
    "test_predictions_18 = test_predictions_18.select('features','column_1','column_2','column_3','column_4','column_5','column_6','column_7','column_8','column_9','column_10','column_11','column_12','column_13','column_14','column_15','column_16','column_17','prediction','label').withColumnRenamed('prediction','column')\n",
    "test_predictions_18 = test_predictions_18.withColumn(\"column_18\",test_predictions_18[\"column\"].cast('int'))\n",
    "test_predictions_18 = test_predictions_18.select('features', 'column_1','column_2','column_3','column_4','column_5','column_6','column_7','column_8','column_9','column_10','column_11','column_12','column_13','column_14','column_15','column_16','column_17','column_18','label')"
   ]
  },
  {
   "cell_type": "code",
   "execution_count": 113,
   "metadata": {},
   "outputs": [],
   "source": [
    "test_final_19 = test_predictions_18\n",
    "test_predictions_19 = lr_model_19.transform(test_final_19)"
   ]
  },
  {
   "cell_type": "code",
   "execution_count": 114,
   "metadata": {},
   "outputs": [],
   "source": [
    "test_predictions_19 = test_predictions_19.select('features','column_1','column_2','column_3','column_4','column_5','column_6','column_7','column_8','column_9','column_10','column_11','column_12','column_13','column_14','column_15','column_16','column_17','column_18','prediction','label').withColumnRenamed('prediction','column')\n",
    "test_predictions_19 = test_predictions_19.withColumn(\"column_19\",test_predictions_19[\"column\"].cast('int'))\n",
    "test_predictions_19 = test_predictions_19.select('features', 'column_1','column_2','column_3','column_4','column_5','column_6','column_7','column_8','column_9','column_10','column_11','column_12','column_13','column_14','column_15','column_16','column_17','column_18','column_19','label')"
   ]
  },
  {
   "cell_type": "code",
   "execution_count": 115,
   "metadata": {},
   "outputs": [],
   "source": [
    "test_final_20 = test_predictions_19\n",
    "test_predictions_20 = lr_model_20.transform(test_final_20)"
   ]
  },
  {
   "cell_type": "code",
   "execution_count": 116,
   "metadata": {},
   "outputs": [],
   "source": [
    "test_predictions_20 = test_predictions_20.select('features','column_1','column_2','column_3','column_4','column_5','column_6','column_7','column_8','column_9','column_10','column_11','column_12','column_13','column_14','column_15','column_16','column_17','column_18','column_19','prediction','label').withColumnRenamed('prediction','column')\n",
    "test_predictions_20 = test_predictions_20.withColumn(\"column_20\",test_predictions_20[\"column\"].cast('int'))\n",
    "test_predictions_20 = test_predictions_20.select('features', 'column_1','column_2','column_3','column_4','column_5','column_6','column_7','column_8','column_9','column_10','column_11','column_12','column_13','column_14','column_15','column_16','column_17','column_18','column_19','column_20','label')"
   ]
  },
  {
   "cell_type": "code",
   "execution_count": 117,
   "metadata": {},
   "outputs": [
    {
     "name": "stdout",
     "output_type": "stream",
     "text": [
      "+--------------------+--------+--------+--------+--------+--------+--------+--------+--------+--------+---------+---------+---------+---------+---------+---------+---------+---------+---------+---------+---------+-----+\n",
      "|            features|column_1|column_2|column_3|column_4|column_5|column_6|column_7|column_8|column_9|column_10|column_11|column_12|column_13|column_14|column_15|column_16|column_17|column_18|column_19|column_20|label|\n",
      "+--------------------+--------+--------+--------+--------+--------+--------+--------+--------+--------+---------+---------+---------+---------+---------+---------+---------+---------+---------+---------+---------+-----+\n",
      "|(10000,[0,3,6,7,8...|       0|       0|       0|       0|       0|       0|       0|       0|       0|        0|        0|        0|        0|        0|        0|        0|        0|        0|        0|        0|    0|\n",
      "|(10000,[7,12,56,6...|       0|       0|       0|       0|       0|       0|       0|       0|       0|        0|        0|        0|        0|        0|        0|        0|        0|        0|        0|        0|    0|\n",
      "|(10000,[4,7,8,10,...|       0|       0|       0|       0|       0|       1|       0|       0|       0|        0|        0|        0|        0|        0|        1|        0|        1|        0|        0|        0|    0|\n",
      "|(10000,[0,76,77,7...|       0|       1|       0|       0|       0|       0|       0|       0|       0|        0|        0|        0|        0|        0|        0|        0|        0|        0|        0|        0|    0|\n",
      "|(10000,[19,392,43...|       1|       0|       0|       0|       0|       0|       0|       0|       0|        0|        0|        0|        0|        0|        0|        0|        0|        0|        0|        0|    0|\n",
      "|(10000,[0,1,2,3,4...|       0|       1|       0|       0|       0|       0|       0|       0|       0|        0|        0|        0|        0|        0|        0|        0|        1|        0|        0|        0|    0|\n",
      "|(10000,[0,5,6,9,1...|       1|       0|       0|       0|       0|       0|       1|       0|       0|        0|        0|        0|        0|        0|        0|        0|        0|        0|        0|        0|    0|\n",
      "|(10000,[13,21,191...|       1|       0|       0|       0|       0|       0|       0|       0|       0|        0|        0|        0|        0|        0|        0|        0|        0|        0|        0|        0|    0|\n",
      "|(10000,[4,8,11,13...|       1|       0|       1|       0|       0|       1|       0|       0|       0|        0|        0|        0|        0|        0|        0|        0|        0|        0|        1|        0|    0|\n",
      "|(10000,[55,56,222...|       0|       0|       0|       0|       0|       0|       0|       0|       0|        0|        0|        0|        0|        0|        0|        0|        0|        0|        0|        0|    0|\n",
      "|(10000,[1,3,4,7,8...|       0|       0|       0|       0|       0|       0|       0|       0|       0|        0|        0|        0|        0|        0|        0|        0|        0|        1|        0|        0|    0|\n",
      "|(10000,[6,7,16,20...|       1|       0|       0|       0|       0|       0|       0|       0|       0|        0|        0|        0|        0|        0|        0|        0|        0|        0|        0|        0|    0|\n",
      "|(10000,[3,5,8,9,1...|       0|       1|       0|       0|       0|       0|       0|       0|       0|        1|        0|        0|        0|        0|        1|        0|        1|        0|        0|        0|    0|\n",
      "|(10000,[0,1,6,16,...|       0|       0|       0|       0|       0|       0|       0|       0|       0|        0|        0|        0|        0|        0|        0|        0|        0|        0|        0|        0|    0|\n",
      "|(10000,[2,3,9,10,...|       1|       0|       0|       0|       0|       0|       0|       0|       0|        0|        0|        0|        0|        0|        0|        0|        0|        0|        0|        0|    0|\n",
      "|(10000,[0,2,3,5,9...|       1|       1|       1|       0|       0|       0|       1|       1|       0|        0|        0|        0|        0|        0|        0|        0|        0|        0|        0|        0|    0|\n",
      "|(10000,[0,1,2,3,4...|       0|       0|       0|       0|       0|       0|       0|       0|       0|        0|        0|        0|        0|        0|        0|        0|        0|        0|        0|        0|    0|\n",
      "|(10000,[0,1,3,5,7...|       0|       0|       0|       0|       0|       0|       1|       0|       0|        0|        0|        0|        0|        0|        0|        0|        0|        0|        0|        0|    0|\n",
      "|(10000,[9,18,26,3...|       0|       0|       1|       1|       0|       1|       0|       0|       0|        0|        1|        0|        0|        0|        0|        0|        1|        0|        0|        0|    0|\n",
      "|(10000,[0,3,4,9,1...|       1|       0|       0|       0|       0|       0|       0|       0|       1|        0|        0|        0|        0|        0|        0|        0|        0|        0|        0|        0|    0|\n",
      "+--------------------+--------+--------+--------+--------+--------+--------+--------+--------+--------+---------+---------+---------+---------+---------+---------+---------+---------+---------+---------+---------+-----+\n",
      "only showing top 20 rows\n",
      "\n"
     ]
    }
   ],
   "source": [
    "test_predictions_20.show()"
   ]
  },
  {
   "cell_type": "code",
   "execution_count": 128,
   "metadata": {},
   "outputs": [],
   "source": [
    "test_predictions = test_predictions_20.withColumn('predictions',f.concat(f.col('column_1'),f.lit(' '),f.col('column_2'),f.lit(' '),f.col('column_3'),f.lit(' '),f.col('column_4'),f.lit(' '),f.col('column_5'),f.lit(' '),f.col('column_6'),f.lit(' '),f.col('column_7'),f.lit(' '),f.col('column_8'),f.lit(' '),f.col('column_9'),f.lit(' '),f.col('column_10'),f.lit(' '),f.col('column_11'),f.lit(' '),f.col('column_12'),f.lit(' '),f.col('column_13'),f.lit(' '),f.col('column_14'),f.lit(' '),f.col('column_15'),f.lit(' '),f.col('column_16'),f.lit(' '),f.col('column_17'),f.lit(' '),f.col('column_18'),f.lit(' '),f.col('column_19'),f.lit(' '),f.col('column_20')))\n",
    "test_predictions = test_predictions.select('features','predictions')"
   ]
  },
  {
   "cell_type": "code",
   "execution_count": 140,
   "metadata": {},
   "outputs": [
    {
     "data": {
      "text/plain": [
       "7777"
      ]
     },
     "execution_count": 140,
     "metadata": {},
     "output_type": "execute_result"
    }
   ],
   "source": [
    "test_predictions.count()"
   ]
  },
  {
   "cell_type": "code",
   "execution_count": 131,
   "metadata": {},
   "outputs": [],
   "source": [
    "#test_predictions.show(truncate = False)\n",
    "test_cv_df = test_cv_df.alias('df1')\n",
    "test_predictions = test_predictions.alias('df2')\n",
    "output_task_1=test_cv_df.join(test_predictions,test_cv_df.features == test_predictions.features).select('df1.movie_id','df2.predictions')"
   ]
  },
  {
   "cell_type": "code",
   "execution_count": 149,
   "metadata": {},
   "outputs": [],
   "source": [
    "output_task_1 = test_cv_df.join(test_predictions, on = ['features'],how = 'inner')"
   ]
  },
  {
   "cell_type": "code",
   "execution_count": 152,
   "metadata": {},
   "outputs": [
    {
     "data": {
      "text/plain": [
       "7777"
      ]
     },
     "execution_count": 152,
     "metadata": {},
     "output_type": "execute_result"
    }
   ],
   "source": [
    "output_task_1 = output_task_1.distinct()\n",
    "output_task_1.count()"
   ]
  },
  {
   "cell_type": "code",
   "execution_count": 155,
   "metadata": {},
   "outputs": [],
   "source": [
    "output_task_1 = output_task_1.select('movie_id','predictions')"
   ]
  },
  {
   "cell_type": "code",
   "execution_count": 156,
   "metadata": {},
   "outputs": [],
   "source": [
    "output_task_1.toPandas().to_csv(\"task_1.csv\")"
   ]
  },
  {
   "cell_type": "code",
   "execution_count": null,
   "metadata": {},
   "outputs": [],
   "source": []
  }
 ],
 "metadata": {
  "kernelspec": {
   "display_name": "Python 3",
   "language": "python",
   "name": "python3"
  },
  "language_info": {
   "codemirror_mode": {
    "name": "ipython",
    "version": 3
   },
   "file_extension": ".py",
   "mimetype": "text/x-python",
   "name": "python",
   "nbconvert_exporter": "python",
   "pygments_lexer": "ipython3",
   "version": "3.6.5"
  }
 },
 "nbformat": 4,
 "nbformat_minor": 2
}
