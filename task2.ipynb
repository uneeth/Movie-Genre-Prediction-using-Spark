{
 "cells": [
  {
   "cell_type": "markdown",
   "metadata": {},
   "source": [
    "#### IMPORT SPARK"
   ]
  },
  {
   "cell_type": "code",
   "execution_count": 1,
   "metadata": {},
   "outputs": [],
   "source": [
    "import findspark"
   ]
  },
  {
   "cell_type": "code",
   "execution_count": 2,
   "metadata": {},
   "outputs": [],
   "source": [
    "findspark.init('/home/cse587/spark-2.4.0-bin-hadoop2.7')"
   ]
  },
  {
   "cell_type": "code",
   "execution_count": 3,
   "metadata": {},
   "outputs": [],
   "source": [
    "import pyspark\n",
    "from pyspark.sql import SparkSession\n",
    "import csv"
   ]
  },
  {
   "cell_type": "code",
   "execution_count": 4,
   "metadata": {},
   "outputs": [],
   "source": [
    "sc = pyspark.SparkContext()"
   ]
  },
  {
   "cell_type": "code",
   "execution_count": 5,
   "metadata": {},
   "outputs": [
    {
     "data": {
      "text/plain": [
       "<module 'pyspark' from '/home/cse587/spark-2.4.0-bin-hadoop2.7/python/pyspark/__init__.py'>"
      ]
     },
     "execution_count": 5,
     "metadata": {},
     "output_type": "execute_result"
    }
   ],
   "source": [
    "pyspark"
   ]
  },
  {
   "cell_type": "code",
   "execution_count": 6,
   "metadata": {},
   "outputs": [],
   "source": [
    "from pyspark.sql import SQLContext\n",
    "sqlContext = SQLContext(sc)"
   ]
  },
  {
   "cell_type": "markdown",
   "metadata": {},
   "source": [
    "#### INPUT DATA PROCESSING"
   ]
  },
  {
   "cell_type": "code",
   "execution_count": 7,
   "metadata": {},
   "outputs": [],
   "source": [
    "import pandas as pd\n",
    "pandas_df = pd.read_csv(\"train.csv\")\n",
    "#RDD = sc.textFile(\"train.csv\")"
   ]
  },
  {
   "cell_type": "code",
   "execution_count": 8,
   "metadata": {},
   "outputs": [],
   "source": [
    "spark_df = sqlContext.createDataFrame(pandas_df)\n",
    "rdd_df = spark_df.rdd"
   ]
  },
  {
   "cell_type": "code",
   "execution_count": 9,
   "metadata": {},
   "outputs": [
    {
     "name": "stdout",
     "output_type": "stream",
     "text": [
      "+--------+----------------+--------------------+--------------------+\n",
      "|movie_id|      movie_name|                plot|               genre|\n",
      "+--------+----------------+--------------------+--------------------+\n",
      "|23890098|      Taxi Blues|Shlykov, a hard-w...|['World cinema', ...|\n",
      "|31186339|The Hunger Games|The nation of Pan...|['Action/Adventur...|\n",
      "|20663735|      Narasimham|Poovalli Induchoo...|['Musical', 'Acti...|\n",
      "+--------+----------------+--------------------+--------------------+\n",
      "only showing top 3 rows\n",
      "\n"
     ]
    }
   ],
   "source": [
    "spark_df.show(3)"
   ]
  },
  {
   "cell_type": "code",
   "execution_count": 10,
   "metadata": {},
   "outputs": [],
   "source": [
    "from pyspark.ml.feature import Tokenizer, RegexTokenizer\n",
    "from pyspark.sql.functions import col, udf\n",
    "from pyspark.sql.types import IntegerType"
   ]
  },
  {
   "cell_type": "code",
   "execution_count": 11,
   "metadata": {},
   "outputs": [],
   "source": [
    "tokenizer = Tokenizer(inputCol = 'plot', outputCol = 'plot_terms')"
   ]
  },
  {
   "cell_type": "code",
   "execution_count": 12,
   "metadata": {},
   "outputs": [],
   "source": [
    "regex_tokenizer = RegexTokenizer(inputCol = 'plot', outputCol = 'plot_terms', pattern = '\\\\W')"
   ]
  },
  {
   "cell_type": "code",
   "execution_count": 13,
   "metadata": {},
   "outputs": [],
   "source": [
    "count_tokens = udf(lambda plot_terms: len(plot_terms), IntegerType())"
   ]
  },
  {
   "cell_type": "code",
   "execution_count": 14,
   "metadata": {},
   "outputs": [],
   "source": [
    "tokenized = tokenizer.transform(spark_df)"
   ]
  },
  {
   "cell_type": "code",
   "execution_count": 15,
   "metadata": {},
   "outputs": [
    {
     "name": "stdout",
     "output_type": "stream",
     "text": [
      "+--------------------+\n",
      "|          plot_terms|\n",
      "+--------------------+\n",
      "|[shlykov,, a, har...|\n",
      "|[the, nation, of,...|\n",
      "+--------------------+\n",
      "only showing top 2 rows\n",
      "\n"
     ]
    }
   ],
   "source": [
    "#tokenized.show(1)\n",
    "tokenized.select(\"plot_terms\").show(2)"
   ]
  },
  {
   "cell_type": "code",
   "execution_count": 16,
   "metadata": {},
   "outputs": [
    {
     "name": "stdout",
     "output_type": "stream",
     "text": [
      "+--------+----------------+--------------------+--------------------+--------------------+\n",
      "|movie_id|      movie_name|                plot|               genre|          plot_terms|\n",
      "+--------+----------------+--------------------+--------------------+--------------------+\n",
      "|23890098|      Taxi Blues|Shlykov, a hard-w...|['World cinema', ...|[shlykov, a, hard...|\n",
      "|31186339|The Hunger Games|The nation of Pan...|['Action/Adventur...|[the, nation, of,...|\n",
      "+--------+----------------+--------------------+--------------------+--------------------+\n",
      "only showing top 2 rows\n",
      "\n"
     ]
    }
   ],
   "source": [
    "regex_tokenized = regex_tokenizer.transform(spark_df)\n",
    "regex_tokenized.show(2)"
   ]
  },
  {
   "cell_type": "code",
   "execution_count": 17,
   "metadata": {},
   "outputs": [],
   "source": [
    "from pyspark.ml.feature import StopWordsRemover"
   ]
  },
  {
   "cell_type": "code",
   "execution_count": 21,
   "metadata": {},
   "outputs": [],
   "source": [
    "remover = StopWordsRemover(inputCol = 'plot_terms', outputCol = 'filtered')"
   ]
  },
  {
   "cell_type": "code",
   "execution_count": 22,
   "metadata": {},
   "outputs": [],
   "source": [
    "stopword_tokenized_withnum = remover.transform(regex_tokenized)"
   ]
  },
  {
   "cell_type": "code",
   "execution_count": 23,
   "metadata": {},
   "outputs": [
    {
     "name": "stdout",
     "output_type": "stream",
     "text": [
      "+--------+----------------+--------------------+--------------------+--------------------+--------------------+\n",
      "|movie_id|      movie_name|                plot|               genre|          plot_terms|            filtered|\n",
      "+--------+----------------+--------------------+--------------------+--------------------+--------------------+\n",
      "|23890098|      Taxi Blues|Shlykov, a hard-w...|['World cinema', ...|[shlykov, a, hard...|[shlykov, hard, w...|\n",
      "|31186339|The Hunger Games|The nation of Pan...|['Action/Adventur...|[the, nation, of,...|[nation, panem, c...|\n",
      "+--------+----------------+--------------------+--------------------+--------------------+--------------------+\n",
      "only showing top 2 rows\n",
      "\n"
     ]
    }
   ],
   "source": [
    "stopword_tokenized_withnum.show(2)"
   ]
  },
  {
   "cell_type": "code",
   "execution_count": 24,
   "metadata": {},
   "outputs": [
    {
     "name": "stdout",
     "output_type": "stream",
     "text": [
      "+--------+------------------+--------------------+--------------------+--------------------+--------------------+\n",
      "|movie_id|        movie_name|                plot|               genre|          plot_terms|            filtered|\n",
      "+--------+------------------+--------------------+--------------------+--------------------+--------------------+\n",
      "|23890098|        Taxi Blues|Shlykov, a hard-w...|['World cinema', ...|[shlykov, a, hard...|[shlykov, hard, w...|\n",
      "|31186339|  The Hunger Games|The nation of Pan...|['Action/Adventur...|[the, nation, of,...|[nation, panem, c...|\n",
      "|20663735|        Narasimham|Poovalli Induchoo...|['Musical', 'Acti...|[poovalli, induch...|[poovalli, induch...|\n",
      "| 2231378|The Lemon Drop Kid|The Lemon Drop Ki...|          ['Comedy']|[the, lemon, drop...|[lemon, drop, kid...|\n",
      "|  595909| A Cry in the Dark|Seventh-day Adven...|['Crime Fiction',...|[seventh, day, ad...|[seventh, day, ad...|\n",
      "+--------+------------------+--------------------+--------------------+--------------------+--------------------+\n",
      "only showing top 5 rows\n",
      "\n"
     ]
    }
   ],
   "source": [
    "def is_not_digit(rec):\n",
    "    list1 = []\n",
    "    for i in rec:\n",
    "        if i.isdigit():\n",
    "            continue;\n",
    "        else:\n",
    "            list1.append(i)\n",
    "    return list1\n",
    "            \n",
    "stopword_without_numbers = stopword_tokenized_withnum.rdd.map(lambda x: [x[0],x[1],x[2],x[3],x[4],is_not_digit(x[5])])#, x[2], x[3]])\n",
    "stopword_tokenized= sqlContext.createDataFrame(stopword_without_numbers,['movie_id','movie_name','plot','genre','plot_terms','filtered'])\n",
    "stopword_tokenized.show(5)"
   ]
  },
  {
   "cell_type": "code",
   "execution_count": null,
   "metadata": {},
   "outputs": [],
   "source": []
  },
  {
   "cell_type": "markdown",
   "metadata": {},
   "source": [
    "#### THIS IS FOR CREATING TF USING HASHINGTF or COUNTVECTORIZER"
   ]
  },
  {
   "cell_type": "code",
   "execution_count": null,
   "metadata": {},
   "outputs": [],
   "source": [
    "# from pyspark.ml.feature import HashingTF, IDF, Tokenizer"
   ]
  },
  {
   "cell_type": "code",
   "execution_count": null,
   "metadata": {},
   "outputs": [],
   "source": [
    "# hashing_tf = HashingTF(inputCol = 'filtered', outputCol = 'rawFeatures')"
   ]
  },
  {
   "cell_type": "code",
   "execution_count": null,
   "metadata": {},
   "outputs": [],
   "source": [
    "#USES HASHING TO CALCULATE TF. A BETTER APPROACH BUT CONFUSING.\n",
    "# featurized_df = hashing_tf.transform(stopword_tokenized)\n",
    "# featurized_df.show(2)"
   ]
  },
  {
   "cell_type": "code",
   "execution_count": null,
   "metadata": {},
   "outputs": [],
   "source": [
    "# featurized_df.show(2)"
   ]
  },
  {
   "cell_type": "code",
   "execution_count": 25,
   "metadata": {},
   "outputs": [],
   "source": [
    "from pyspark.ml.feature import CountVectorizer,IDF"
   ]
  },
  {
   "cell_type": "code",
   "execution_count": 26,
   "metadata": {},
   "outputs": [],
   "source": [
    "cv = CountVectorizer(inputCol = 'filtered', vocabSize = 10000, minDF = 5.0, outputCol = 'raw_features')"
   ]
  },
  {
   "cell_type": "code",
   "execution_count": 27,
   "metadata": {},
   "outputs": [],
   "source": [
    "cv_model = cv.fit(stopword_tokenized)\n",
    "cv_df = cv_model.transform(stopword_tokenized)"
   ]
  },
  {
   "cell_type": "code",
   "execution_count": null,
   "metadata": {
    "scrolled": true
   },
   "outputs": [],
   "source": [
    "#cv_df.select(\"raw_features\").show(2, truncate = False)"
   ]
  },
  {
   "cell_type": "code",
   "execution_count": null,
   "metadata": {
    "scrolled": true
   },
   "outputs": [],
   "source": [
    "#cv_df.take(1)"
   ]
  },
  {
   "cell_type": "code",
   "execution_count": 28,
   "metadata": {},
   "outputs": [],
   "source": [
    "idf = IDF(inputCol = 'raw_features', outputCol = 'features')\n",
    "idf_model = idf.fit(cv_df)\n",
    "final_features = idf_model.transform(cv_df)\n",
    "final_features = final_features.select(\"genre\",\"features\")\n",
    "\n",
    "#final_features = cv_df.select(\"genre\", \"features\")"
   ]
  },
  {
   "cell_type": "code",
   "execution_count": 29,
   "metadata": {},
   "outputs": [
    {
     "name": "stdout",
     "output_type": "stream",
     "text": [
      "+--------------------+--------------------+\n",
      "|               genre|            features|\n",
      "+--------------------+--------------------+\n",
      "|['World cinema', ...|(10000,[10,129,18...|\n",
      "|['Action/Adventur...|(10000,[2,6,7,10,...|\n",
      "|['Musical', 'Acti...|(10000,[1,3,8,10,...|\n",
      "|          ['Comedy']|(10000,[7,9,12,15...|\n",
      "|['Crime Fiction',...|(10000,[2,8,9,14,...|\n",
      "|['Action/Adventur...|(10000,[2,4,5,12,...|\n",
      "|['Thriller', 'Dra...|(10000,[0,1,2,3,4...|\n",
      "|           ['Drama']|(10000,[0,1,2,5,7...|\n",
      "|['Black-and-white...|(10000,[0,4,9,17,...|\n",
      "|['Animation', 'Sh...|(10000,[11,31,38,...|\n",
      "|          ['Comedy']|(10000,[1,3,4,7,9...|\n",
      "|['Crime Fiction',...|(10000,[0,2,14,32...|\n",
      "|          ['Comedy']|(10000,[4,5,15,17...|\n",
      "|          ['Comedy']|(10000,[0,1,2,3,6...|\n",
      "|          ['Horror']|(10000,[0,8,54,71...|\n",
      "|['Crime Fiction',...|(10000,[5,14,61,8...|\n",
      "|           ['Drama']|(10000,[2,7,21,25...|\n",
      "|['Crime Fiction',...|(10000,[0,2,4,8,1...|\n",
      "|  ['Indie', 'Drama']|(10000,[1,2,4,10,...|\n",
      "|           ['Drama']|(10000,[0,9,10,43...|\n",
      "+--------------------+--------------------+\n",
      "only showing top 20 rows\n",
      "\n"
     ]
    }
   ],
   "source": [
    "final_features.show()"
   ]
  },
  {
   "cell_type": "code",
   "execution_count": 30,
   "metadata": {},
   "outputs": [],
   "source": [
    "from pyspark.ml.feature import StringIndexer\n",
    "from pyspark.ml import Pipeline"
   ]
  },
  {
   "cell_type": "code",
   "execution_count": 31,
   "metadata": {},
   "outputs": [],
   "source": [
    "label_stringIdx = StringIndexer(inputCol = 'genre', outputCol = 'label')"
   ]
  },
  {
   "cell_type": "code",
   "execution_count": 32,
   "metadata": {},
   "outputs": [],
   "source": [
    "pipeline = Pipeline(stages=[label_stringIdx])"
   ]
  },
  {
   "cell_type": "code",
   "execution_count": 33,
   "metadata": {},
   "outputs": [
    {
     "name": "stdout",
     "output_type": "stream",
     "text": [
      "+--------------------+--------------------+------+\n",
      "|               genre|            features| label|\n",
      "+--------------------+--------------------+------+\n",
      "|['World cinema', ...|(10000,[10,129,18...|   4.0|\n",
      "|['Action/Adventur...|(10000,[2,6,7,10,...|1603.0|\n",
      "|['Musical', 'Acti...|(10000,[1,3,8,10,...| 316.0|\n",
      "|          ['Comedy']|(10000,[7,9,12,15...|   1.0|\n",
      "|['Crime Fiction',...|(10000,[2,8,9,14,...| 113.0|\n",
      "+--------------------+--------------------+------+\n",
      "only showing top 5 rows\n",
      "\n"
     ]
    }
   ],
   "source": [
    "# pipelineFit = pipeline.fit(final_features)\n",
    "dataset = pipeline.fit(final_features).transform(final_features)\n",
    "dataset.show(5)"
   ]
  },
  {
   "cell_type": "code",
   "execution_count": 34,
   "metadata": {},
   "outputs": [],
   "source": [
    "test = final_features\n"
   ]
  },
  {
   "cell_type": "code",
   "execution_count": 35,
   "metadata": {},
   "outputs": [
    {
     "name": "stdout",
     "output_type": "stream",
     "text": [
      "+--------------------+--------------------+\n",
      "|               genre|            features|\n",
      "+--------------------+--------------------+\n",
      "| World cinema, Drama|(10000,[10,129,18...|\n",
      "|Action/Adventure,...|(10000,[2,6,7,10,...|\n",
      "|Musical, Action, ...|(10000,[1,3,8,10,...|\n",
      "|              Comedy|(10000,[7,9,12,15...|\n",
      "|Crime Fiction, Wo...|(10000,[2,8,9,14,...|\n",
      "+--------------------+--------------------+\n",
      "only showing top 5 rows\n",
      "\n"
     ]
    }
   ],
   "source": [
    "def splitter(rec):\n",
    "    rec = rec.replace('[','')\n",
    "    rec = rec.replace(']','')\n",
    "    rec = rec.replace('\\'','')\n",
    "#     rec = [item.replace(\"[\", \"\") for item in rec]\n",
    "#     rec = [item.replace(\"]\", \"\") for item in rec]\n",
    "#     rec = [item.replace(\"\\'\", \"\") for item in rec]\n",
    "    return rec\n",
    "test1 = test.rdd.map(lambda x: [splitter(x[0]), x[1]])#, x[2], x[3]])\n",
    "test2= sqlContext.createDataFrame(test1,['genre','features'])\n",
    "test2.show(5)"
   ]
  },
  {
   "cell_type": "code",
   "execution_count": 36,
   "metadata": {},
   "outputs": [
    {
     "name": "stdout",
     "output_type": "stream",
     "text": [
      "+--------------------+--------------------+---+------------+\n",
      "|            features|               genre|pos|string_label|\n",
      "+--------------------+--------------------+---+------------+\n",
      "|(10000,[10,129,18...|[World cinema,  D...|  0|World cinema|\n",
      "|(10000,[10,129,18...|[World cinema,  D...|  1|       Drama|\n",
      "+--------------------+--------------------+---+------------+\n",
      "only showing top 2 rows\n",
      "\n"
     ]
    }
   ],
   "source": [
    "import pyspark.sql.functions as f\n",
    "test3 = test2.select(\"features\", f.split('genre',',').alias(\"genre\"), f.posexplode(f.split(\"genre\",\",\")).alias(\"pos\", \"string_label\"))\n",
    "test3.show(2)"
   ]
  },
  {
   "cell_type": "code",
   "execution_count": 37,
   "metadata": {},
   "outputs": [],
   "source": [
    "#dataset = test3.select(\"features\", f.concat(f.lit(\"genre\"),f.col('pos').cast(\"string\")).alias(\"name\"),f.expr(\"genre[pos]\").alias(\"string_label\")).groupBy(\"features\").pivot(\"name\").agg(f.first(\"string_label\"))\n"
   ]
  },
  {
   "cell_type": "code",
   "execution_count": 38,
   "metadata": {},
   "outputs": [
    {
     "name": "stdout",
     "output_type": "stream",
     "text": [
      "+--------------------+------------+------+------+------+------+------+------+------+------+------+\n",
      "|            features|      genre0|genre1|genre2|genre3|genre4|genre5|genre6|genre7|genre8|genre9|\n",
      "+--------------------+------------+------+------+------+------+------+------+------+------+------+\n",
      "|(10000,[0,1,2,3,4...|Romance Film| Drama|  null|  null|  null|  null|  null|  null|  null|  null|\n",
      "+--------------------+------------+------+------+------+------+------+------+------+------+------+\n",
      "only showing top 1 row\n",
      "\n"
     ]
    }
   ],
   "source": [
    "#dataset.show(1, truncate=False)\n",
    "#dataset.show(1)"
   ]
  },
  {
   "cell_type": "code",
   "execution_count": 39,
   "metadata": {},
   "outputs": [],
   "source": [
    "final_dataset = test3.select(\"features\", \"string_label\")"
   ]
  },
  {
   "cell_type": "code",
   "execution_count": null,
   "metadata": {},
   "outputs": [],
   "source": [
    "#final_dataset.show(4)"
   ]
  },
  {
   "cell_type": "code",
   "execution_count": 40,
   "metadata": {},
   "outputs": [],
   "source": [
    "label_stringIdx = StringIndexer(inputCol = 'string_label', outputCol = 'label')"
   ]
  },
  {
   "cell_type": "code",
   "execution_count": null,
   "metadata": {},
   "outputs": [],
   "source": [
    "# final_dataset1 = label_stringIdx.fit(fd2).transform(fd2)\n",
    "# final_dataset1.show(5)"
   ]
  },
  {
   "cell_type": "code",
   "execution_count": 41,
   "metadata": {},
   "outputs": [
    {
     "name": "stdout",
     "output_type": "stream",
     "text": [
      "+--------------------+----------------+\n",
      "|            features|    string_label|\n",
      "+--------------------+----------------+\n",
      "|(10000,[10,129,18...|    World cinema|\n",
      "|(10000,[10,129,18...|           Drama|\n",
      "|(10000,[2,6,7,10,...|Action/Adventure|\n",
      "|(10000,[2,6,7,10,...|          Action|\n",
      "|(10000,[2,6,7,10,...| Science Fiction|\n",
      "+--------------------+----------------+\n",
      "only showing top 5 rows\n",
      "\n"
     ]
    }
   ],
   "source": [
    "def label_mod(rec):\n",
    "    rec = rec.strip()\n",
    "    return rec\n",
    "fd1_rdd = final_dataset.rdd.map(lambda x: [x[0],label_mod(x[1])])#, x[2], x[3]])\n",
    "fd2= sqlContext.createDataFrame(fd1_rdd,['features','string_label'])\n",
    "fd2.show(5)"
   ]
  },
  {
   "cell_type": "code",
   "execution_count": 42,
   "metadata": {},
   "outputs": [
    {
     "name": "stdout",
     "output_type": "stream",
     "text": [
      "+--------------------+----------------+-----+\n",
      "|            features|    string_label|label|\n",
      "+--------------------+----------------+-----+\n",
      "|(10000,[10,129,18...|    World cinema|  5.0|\n",
      "|(10000,[10,129,18...|           Drama|  0.0|\n",
      "|(10000,[2,6,7,10,...|Action/Adventure| 10.0|\n",
      "|(10000,[2,6,7,10,...|          Action|  4.0|\n",
      "|(10000,[2,6,7,10,...| Science Fiction| 17.0|\n",
      "+--------------------+----------------+-----+\n",
      "only showing top 5 rows\n",
      "\n"
     ]
    }
   ],
   "source": [
    "final_dataset2 = label_stringIdx.fit(fd2).transform(fd2)\n",
    "final_dataset2.show(5)"
   ]
  },
  {
   "cell_type": "code",
   "execution_count": 43,
   "metadata": {},
   "outputs": [],
   "source": [
    "pivotDF = final_dataset2.groupBy(\"features\").pivot(\"string_label\").sum('label')\n",
    "#pivotDF.show(10)"
   ]
  },
  {
   "cell_type": "code",
   "execution_count": 44,
   "metadata": {},
   "outputs": [],
   "source": [
    "from pyspark.sql.functions import when\n",
    "cols = pivotDF.columns[1:]\n",
    "#cols\n",
    "\n",
    "for col in cols:\n",
    "    pivotDF = pivotDF.withColumn(col, when(pivotDF[col]>=0,1).otherwise(0))"
   ]
  },
  {
   "cell_type": "code",
   "execution_count": null,
   "metadata": {
    "scrolled": true
   },
   "outputs": [],
   "source": [
    "#pivotDF.show(10)"
   ]
  },
  {
   "cell_type": "code",
   "execution_count": 45,
   "metadata": {},
   "outputs": [],
   "source": [
    "from pyspark.ml.classification import LogisticRegression\n",
    "lr = LogisticRegression(labelCol='label',featuresCol='features',maxIter = 100)"
   ]
  },
  {
   "cell_type": "code",
   "execution_count": 46,
   "metadata": {},
   "outputs": [],
   "source": [
    "train = pivotDF"
   ]
  },
  {
   "cell_type": "code",
   "execution_count": 47,
   "metadata": {},
   "outputs": [],
   "source": [
    "train_1 = train.select('features','Drama').withColumnRenamed(\"Drama\",\"label\") \n",
    "lr_model_1 = lr.fit(train_1)\n",
    "#train_test_1 = train_test.select('features','Drama').withColumnRenamed(\"Drama\",\"label\") \n",
    "#predictions_1 = lr_model_1.transform(train_test_1)"
   ]
  },
  {
   "cell_type": "code",
   "execution_count": null,
   "metadata": {},
   "outputs": [],
   "source": [
    "#train_test_1.show()"
   ]
  },
  {
   "cell_type": "code",
   "execution_count": null,
   "metadata": {},
   "outputs": [],
   "source": [
    "#predictions_1.show(3)"
   ]
  },
  {
   "cell_type": "code",
   "execution_count": null,
   "metadata": {},
   "outputs": [],
   "source": [
    "from pyspark.ml.evaluation import BinaryClassificationEvaluator\n",
    "\n",
    "#evaluator = BinaryClassificationEvaluator(rawPredictionCol = \"rawPrediction\")\n",
    "#print(\"Test Accuracy: \" + str(evaluator.evaluate(predictions_1)))"
   ]
  },
  {
   "cell_type": "code",
   "execution_count": null,
   "metadata": {},
   "outputs": [],
   "source": [
    "#### Model- 2 - Comedy"
   ]
  },
  {
   "cell_type": "code",
   "execution_count": 48,
   "metadata": {},
   "outputs": [],
   "source": [
    "train_2 = train.select('features','Comedy').withColumnRenamed(\"Comedy\",\"label\") \n",
    "lr_model_2 = lr.fit(train_2)\n",
    "#train_test_2 = train_test.select('features','Comedy').withColumnRenamed(\"Comedy\",\"label\") \n",
    "#predictions_2 = lr_model_2.transform(train_test_2)"
   ]
  },
  {
   "cell_type": "code",
   "execution_count": null,
   "metadata": {},
   "outputs": [],
   "source": [
    "#evaluator = BinaryClassificationEvaluator(rawPredictionCol = \"rawPrediction\")\n",
    "#print(\"Test Accuracy: \" + str(evaluator.evaluate(predictions_2)))"
   ]
  },
  {
   "cell_type": "code",
   "execution_count": null,
   "metadata": {},
   "outputs": [],
   "source": [
    "#### Model -3 - Romance Film"
   ]
  },
  {
   "cell_type": "code",
   "execution_count": 49,
   "metadata": {},
   "outputs": [],
   "source": [
    "train_3 = train.select('features','Romance Film').withColumnRenamed(\"Romance Film\",\"label\") \n",
    "lr_model_3 = lr.fit(train_3)\n",
    "#train_test_3 = train_test.select('features','Romance Film').withColumnRenamed(\"Romance Film\",\"label\") \n",
    "#predictions_3 = lr_model_3.transform(train_test_3)"
   ]
  },
  {
   "cell_type": "code",
   "execution_count": null,
   "metadata": {},
   "outputs": [],
   "source": [
    "#evaluator = BinaryClassificationEvaluator(rawPredictionCol = \"rawPrediction\")\n",
    "#print(\"Test Accuracy: \" + str(evaluator.evaluate(predictions_3)))"
   ]
  },
  {
   "cell_type": "code",
   "execution_count": null,
   "metadata": {},
   "outputs": [],
   "source": [
    "#### Model -4 - Thriller"
   ]
  },
  {
   "cell_type": "code",
   "execution_count": 50,
   "metadata": {},
   "outputs": [],
   "source": [
    "train_4 = train.select('features','Thriller').withColumnRenamed(\"Thriller\",\"label\") \n",
    "lr_model_4 = lr.fit(train_4)\n",
    "#train_test_4 = train_test.select('features','Thriller').withColumnRenamed(\"Thriller\",\"label\") \n",
    "#predictions_4 = lr_model_4.transform(train_test_4)"
   ]
  },
  {
   "cell_type": "code",
   "execution_count": null,
   "metadata": {},
   "outputs": [],
   "source": [
    "#evaluator = BinaryClassificationEvaluator(rawPredictionCol = \"rawPrediction\")\n",
    "#print(\"Test Accuracy: \" + str(evaluator.evaluate(predictions_4)))"
   ]
  },
  {
   "cell_type": "code",
   "execution_count": null,
   "metadata": {},
   "outputs": [],
   "source": [
    "#### Model -5 - Action"
   ]
  },
  {
   "cell_type": "code",
   "execution_count": 51,
   "metadata": {},
   "outputs": [],
   "source": [
    "train_5 = train.select('features','Action').withColumnRenamed(\"Action\",\"label\") \n",
    "lr_model_5 = lr.fit(train_5)\n",
    "#train_test_5 = train_test.select('features','Action').withColumnRenamed(\"Action\",\"label\") \n",
    "#predictions_5 = lr_model_5.transform(train_test_5)"
   ]
  },
  {
   "cell_type": "code",
   "execution_count": null,
   "metadata": {},
   "outputs": [],
   "source": [
    "#### Model -6 - World cinema"
   ]
  },
  {
   "cell_type": "code",
   "execution_count": 52,
   "metadata": {},
   "outputs": [],
   "source": [
    "train_6 = train.select('features','World cinema').withColumnRenamed(\"World cinema\",\"label\") \n",
    "lr_model_6 = lr.fit(train_6)\n",
    "#train_test_6 = train_test.select('features','World cinema').withColumnRenamed(\"World cinema\",\"label\") \n",
    "#predictions_6 = lr_model_6.transform(train_test_6)"
   ]
  },
  {
   "cell_type": "code",
   "execution_count": null,
   "metadata": {},
   "outputs": [],
   "source": [
    "#### Model -7 - Crime Fiction"
   ]
  },
  {
   "cell_type": "code",
   "execution_count": 53,
   "metadata": {},
   "outputs": [],
   "source": [
    "train_7 = train.select('features','Crime Fiction').withColumnRenamed(\"Crime Fiction\",\"label\") \n",
    "lr_model_7 = lr.fit(train_7)\n",
    "#train_test_7 = train_test.select('features','Crime Fiction').withColumnRenamed(\"Crime Fiction\",\"label\") \n",
    "#predictions_7 = lr_model_7.transform(train_test_7)"
   ]
  },
  {
   "cell_type": "code",
   "execution_count": null,
   "metadata": {},
   "outputs": [],
   "source": [
    "#### Model -8 - Horror"
   ]
  },
  {
   "cell_type": "code",
   "execution_count": 54,
   "metadata": {},
   "outputs": [],
   "source": [
    "train_8 = train.select('features','Horror').withColumnRenamed(\"Horror\",\"label\") \n",
    "lr_model_8 = lr.fit(train_8)\n",
    "#train_test_8 = train_test.select('features','Horror').withColumnRenamed(\"Horror\",\"label\") \n",
    "#predictions_8 = lr_model_8.transform(train_test_8)"
   ]
  },
  {
   "cell_type": "code",
   "execution_count": null,
   "metadata": {},
   "outputs": [],
   "source": [
    "#### Model -9 - Black-and-white"
   ]
  },
  {
   "cell_type": "code",
   "execution_count": 55,
   "metadata": {},
   "outputs": [],
   "source": [
    "train_9 = train.select('features','Black-and-white').withColumnRenamed(\"Black-and-white\",\"label\") \n",
    "lr_model_9 = lr.fit(train_9)"
   ]
  },
  {
   "cell_type": "code",
   "execution_count": null,
   "metadata": {},
   "outputs": [],
   "source": [
    "#### Model - 10 -Indie"
   ]
  },
  {
   "cell_type": "code",
   "execution_count": 56,
   "metadata": {},
   "outputs": [],
   "source": [
    "train_10 = train.select('features','Indie').withColumnRenamed(\"Indie\",\"label\") \n",
    "lr_model_10 = lr.fit(train_10)"
   ]
  },
  {
   "cell_type": "code",
   "execution_count": null,
   "metadata": {},
   "outputs": [],
   "source": [
    "#### Model - 11 -Action/Adventure"
   ]
  },
  {
   "cell_type": "code",
   "execution_count": 57,
   "metadata": {},
   "outputs": [],
   "source": [
    "train_11 = train.select('features','Action/Adventure').withColumnRenamed(\"Action/Adventure\",\"label\") \n",
    "lr_model_11 = lr.fit(train_11)"
   ]
  },
  {
   "cell_type": "code",
   "execution_count": null,
   "metadata": {},
   "outputs": [],
   "source": [
    "#### Model - 12 -Adventure"
   ]
  },
  {
   "cell_type": "code",
   "execution_count": 58,
   "metadata": {},
   "outputs": [],
   "source": [
    "train_12 = train.select('features','Adventure').withColumnRenamed(\"Adventure\",\"label\") \n",
    "lr_model_12 = lr.fit(train_12)"
   ]
  },
  {
   "cell_type": "code",
   "execution_count": null,
   "metadata": {},
   "outputs": [],
   "source": [
    "#### Model - 13 - Family Film"
   ]
  },
  {
   "cell_type": "code",
   "execution_count": 59,
   "metadata": {},
   "outputs": [],
   "source": [
    "train_13 = train.select('features','Family Film').withColumnRenamed(\"Family Film\",\"label\") \n",
    "lr_model_13 = lr.fit(train_13)"
   ]
  },
  {
   "cell_type": "code",
   "execution_count": null,
   "metadata": {},
   "outputs": [],
   "source": [
    "#### Model - 14 -Short Film"
   ]
  },
  {
   "cell_type": "code",
   "execution_count": 60,
   "metadata": {},
   "outputs": [],
   "source": [
    "train_14 = train.select('features','Short Film').withColumnRenamed(\"Short Film\",\"label\") \n",
    "lr_model_14 = lr.fit(train_14)"
   ]
  },
  {
   "cell_type": "code",
   "execution_count": null,
   "metadata": {},
   "outputs": [],
   "source": [
    "#### Model -15 - Romantic drama"
   ]
  },
  {
   "cell_type": "code",
   "execution_count": 61,
   "metadata": {},
   "outputs": [],
   "source": [
    "train_15 = train.select('features','Romantic drama').withColumnRenamed(\"Romantic drama\",\"label\") \n",
    "lr_model_15 = lr.fit(train_15)"
   ]
  },
  {
   "cell_type": "code",
   "execution_count": null,
   "metadata": {},
   "outputs": [],
   "source": [
    "#### Model -16 - Animation"
   ]
  },
  {
   "cell_type": "code",
   "execution_count": 62,
   "metadata": {},
   "outputs": [],
   "source": [
    "train_16 = train.select('features','Animation').withColumnRenamed(\"Animation\",\"label\") \n",
    "lr_model_16 = lr.fit(train_16)"
   ]
  },
  {
   "cell_type": "code",
   "execution_count": null,
   "metadata": {},
   "outputs": [],
   "source": [
    "#### Model -17 - Musical"
   ]
  },
  {
   "cell_type": "code",
   "execution_count": 63,
   "metadata": {},
   "outputs": [],
   "source": [
    "train_17 = train.select('features','Musical').withColumnRenamed(\"Musical\",\"label\") \n",
    "lr_model_17 = lr.fit(train_17)"
   ]
  },
  {
   "cell_type": "code",
   "execution_count": null,
   "metadata": {},
   "outputs": [],
   "source": [
    "#### Model -18 -Science Fiction"
   ]
  },
  {
   "cell_type": "code",
   "execution_count": 64,
   "metadata": {},
   "outputs": [],
   "source": [
    "train_18 = train.select('features','Science Fiction').withColumnRenamed(\"Science Fiction\",\"label\") \n",
    "lr_model_18 = lr.fit(train_18)"
   ]
  },
  {
   "cell_type": "code",
   "execution_count": null,
   "metadata": {},
   "outputs": [],
   "source": [
    "#### Model -19 -Mystery"
   ]
  },
  {
   "cell_type": "code",
   "execution_count": 65,
   "metadata": {},
   "outputs": [],
   "source": [
    "train_19 = train.select('features','Mystery').withColumnRenamed(\"Mystery\",\"label\") \n",
    "lr_model_19 = lr.fit(train_19)"
   ]
  },
  {
   "cell_type": "code",
   "execution_count": null,
   "metadata": {},
   "outputs": [],
   "source": [
    "#### Model -20 -Romantic comedy"
   ]
  },
  {
   "cell_type": "code",
   "execution_count": 66,
   "metadata": {},
   "outputs": [],
   "source": [
    "train_20 = train.select('features','Romantic comedy').withColumnRenamed(\"Romantic comedy\",\"label\") \n",
    "lr_model_20 = lr.fit(train_20)"
   ]
  },
  {
   "cell_type": "markdown",
   "metadata": {},
   "source": [
    "# Test Data"
   ]
  },
  {
   "cell_type": "code",
   "execution_count": 67,
   "metadata": {},
   "outputs": [],
   "source": [
    "test_pandas_df = pd.read_csv(\"test.csv\")"
   ]
  },
  {
   "cell_type": "code",
   "execution_count": 68,
   "metadata": {},
   "outputs": [],
   "source": [
    "test_spark_df = sqlContext.createDataFrame(test_pandas_df)\n",
    "test_rdd_df = test_spark_df.rdd"
   ]
  },
  {
   "cell_type": "code",
   "execution_count": 69,
   "metadata": {},
   "outputs": [
    {
     "name": "stdout",
     "output_type": "stream",
     "text": [
      "+--------+--------------------+--------------------+\n",
      "|movie_id|          movie_name|                plot|\n",
      "+--------+--------------------+--------------------+\n",
      "| 1335380|              Exodus|The film is based...|\n",
      "|29062594|A la salida nos v...|A group of teenag...|\n",
      "| 9252321|   Come Back, Africa|This story of a Z...|\n",
      "+--------+--------------------+--------------------+\n",
      "only showing top 3 rows\n",
      "\n"
     ]
    }
   ],
   "source": [
    "test_spark_df.show(3)"
   ]
  },
  {
   "cell_type": "code",
   "execution_count": 70,
   "metadata": {},
   "outputs": [],
   "source": [
    "test_regex_tokenized = regex_tokenizer.transform(test_spark_df)"
   ]
  },
  {
   "cell_type": "code",
   "execution_count": 71,
   "metadata": {},
   "outputs": [],
   "source": [
    "test_stopword_tokenized_withnum = remover.transform(test_regex_tokenized)"
   ]
  },
  {
   "cell_type": "code",
   "execution_count": 72,
   "metadata": {},
   "outputs": [
    {
     "name": "stdout",
     "output_type": "stream",
     "text": [
      "+--------+--------------------+--------------------+--------------------+--------------------+\n",
      "|movie_id|          movie_name|                plot|          plot_terms|            filtered|\n",
      "+--------+--------------------+--------------------+--------------------+--------------------+\n",
      "| 1335380|              Exodus|The film is based...|[the, film, is, b...|[film, based, eve...|\n",
      "|29062594|A la salida nos v...|A group of teenag...|[a, group, of, te...|[group, teenagers...|\n",
      "| 9252321|   Come Back, Africa|This story of a Z...|[this, story, of,...|[story, zulu, fam...|\n",
      "|13455076|       A Merry Mixup|The Stooges play ...|[the, stooges, pl...|[stooges, play, t...|\n",
      "|24165951|        Getting Even|A soldier-of-fort...|[a, soldier, of, ...|[soldier, fortune...|\n",
      "+--------+--------------------+--------------------+--------------------+--------------------+\n",
      "only showing top 5 rows\n",
      "\n"
     ]
    }
   ],
   "source": [
    "def is_not_digit(rec):\n",
    "    list1 = []\n",
    "    for i in rec:\n",
    "        if i.isdigit():\n",
    "            continue;\n",
    "        else:\n",
    "            list1.append(i)\n",
    "    return list1\n",
    "            \n",
    "test_stopword_without_numbers = test_stopword_tokenized_withnum.rdd.map(lambda x: [x[0],x[1],x[2],x[3],is_not_digit(x[4])])#, x[2], x[3]])\n",
    "test_stopword_tokenized= sqlContext.createDataFrame(test_stopword_without_numbers,['movie_id','movie_name','plot','plot_terms','filtered'])\n",
    "test_stopword_tokenized.show(5)"
   ]
  },
  {
   "cell_type": "code",
   "execution_count": 73,
   "metadata": {},
   "outputs": [],
   "source": [
    "test_cv = CountVectorizer(inputCol = 'filtered', vocabSize = 10000, minDF = 5.0, outputCol = 'raw_features')"
   ]
  },
  {
   "cell_type": "code",
   "execution_count": 74,
   "metadata": {},
   "outputs": [],
   "source": [
    "test_cv_model = test_cv.fit(test_stopword_tokenized)\n",
    "test_cv_df = test_cv_model.transform(test_stopword_tokenized)"
   ]
  },
  {
   "cell_type": "code",
   "execution_count": 75,
   "metadata": {},
   "outputs": [],
   "source": [
    "test_idf = IDF(inputCol = 'raw_features', outputCol = 'features')\n",
    "test_idf_model = test_idf.fit(test_cv_df)\n",
    "test_final_features_all = idf_model.transform(test_cv_df)"
   ]
  },
  {
   "cell_type": "code",
   "execution_count": 76,
   "metadata": {},
   "outputs": [],
   "source": [
    "test_final_features = test_final_features_all.select(\"features\")"
   ]
  },
  {
   "cell_type": "code",
   "execution_count": 77,
   "metadata": {},
   "outputs": [
    {
     "name": "stdout",
     "output_type": "stream",
     "text": [
      "+--------------------+\n",
      "|            features|\n",
      "+--------------------+\n",
      "|(10000,[0,3,6,7,8...|\n",
      "|(10000,[7,12,56,6...|\n",
      "|(10000,[4,7,8,10,...|\n",
      "|(10000,[0,76,78,7...|\n",
      "|(10000,[19,392,43...|\n",
      "|(10000,[0,1,2,3,4...|\n",
      "|(10000,[0,5,6,9,1...|\n",
      "|(10000,[13,21,191...|\n",
      "|(10000,[4,8,11,13...|\n",
      "|(10000,[55,56,222...|\n",
      "|(10000,[1,3,4,7,8...|\n",
      "|(10000,[6,7,16,20...|\n",
      "|(10000,[3,5,8,9,1...|\n",
      "|(10000,[0,1,6,16,...|\n",
      "|(10000,[2,3,9,10,...|\n",
      "|(10000,[0,2,3,5,9...|\n",
      "|(10000,[0,1,2,3,4...|\n",
      "|(10000,[0,1,3,5,7...|\n",
      "|(10000,[9,18,26,3...|\n",
      "|(10000,[0,3,4,9,1...|\n",
      "+--------------------+\n",
      "only showing top 20 rows\n",
      "\n"
     ]
    }
   ],
   "source": [
    "test_final_features.show()"
   ]
  },
  {
   "cell_type": "code",
   "execution_count": 78,
   "metadata": {},
   "outputs": [
    {
     "name": "stdout",
     "output_type": "stream",
     "text": [
      "+--------------------+-----+\n",
      "|            features|label|\n",
      "+--------------------+-----+\n",
      "|(10000,[0,3,6,7,8...|    0|\n",
      "|(10000,[7,12,56,6...|    0|\n",
      "|(10000,[4,7,8,10,...|    0|\n",
      "|(10000,[0,76,78,7...|    0|\n",
      "|(10000,[19,392,43...|    0|\n",
      "|(10000,[0,1,2,3,4...|    0|\n",
      "|(10000,[0,5,6,9,1...|    0|\n",
      "|(10000,[13,21,191...|    0|\n",
      "|(10000,[4,8,11,13...|    0|\n",
      "|(10000,[55,56,222...|    0|\n",
      "|(10000,[1,3,4,7,8...|    0|\n",
      "|(10000,[6,7,16,20...|    0|\n",
      "|(10000,[3,5,8,9,1...|    0|\n",
      "|(10000,[0,1,6,16,...|    0|\n",
      "|(10000,[2,3,9,10,...|    0|\n",
      "|(10000,[0,2,3,5,9...|    0|\n",
      "|(10000,[0,1,2,3,4...|    0|\n",
      "|(10000,[0,1,3,5,7...|    0|\n",
      "|(10000,[9,18,26,3...|    0|\n",
      "|(10000,[0,3,4,9,1...|    0|\n",
      "+--------------------+-----+\n",
      "only showing top 20 rows\n",
      "\n"
     ]
    }
   ],
   "source": [
    "\n",
    "test_final_1 = test_final_features.withColumn('label',f.lit(0))\n",
    "test_final_1.show()"
   ]
  },
  {
   "cell_type": "code",
   "execution_count": 79,
   "metadata": {},
   "outputs": [],
   "source": [
    "test_predictions_1 = lr_model_1.transform(test_final_1)\n"
   ]
  },
  {
   "cell_type": "code",
   "execution_count": 80,
   "metadata": {},
   "outputs": [
    {
     "name": "stdout",
     "output_type": "stream",
     "text": [
      "+--------------------+--------+-----+\n",
      "|            features|column_1|label|\n",
      "+--------------------+--------+-----+\n",
      "|(10000,[0,3,6,7,8...|       0|    0|\n",
      "|(10000,[7,12,56,6...|       0|    0|\n",
      "|(10000,[4,7,8,10,...|       0|    0|\n",
      "|(10000,[0,76,78,7...|       0|    0|\n",
      "|(10000,[19,392,43...|       0|    0|\n",
      "|(10000,[0,1,2,3,4...|       0|    0|\n",
      "|(10000,[0,5,6,9,1...|       1|    0|\n",
      "|(10000,[13,21,191...|       1|    0|\n",
      "|(10000,[4,8,11,13...|       1|    0|\n",
      "|(10000,[55,56,222...|       0|    0|\n",
      "|(10000,[1,3,4,7,8...|       0|    0|\n",
      "|(10000,[6,7,16,20...|       0|    0|\n",
      "|(10000,[3,5,8,9,1...|       0|    0|\n",
      "|(10000,[0,1,6,16,...|       1|    0|\n",
      "|(10000,[2,3,9,10,...|       1|    0|\n",
      "|(10000,[0,2,3,5,9...|       0|    0|\n",
      "|(10000,[0,1,2,3,4...|       0|    0|\n",
      "|(10000,[0,1,3,5,7...|       1|    0|\n",
      "|(10000,[9,18,26,3...|       0|    0|\n",
      "|(10000,[0,3,4,9,1...|       1|    0|\n",
      "+--------------------+--------+-----+\n",
      "only showing top 20 rows\n",
      "\n"
     ]
    }
   ],
   "source": [
    "test_predictions_1 = test_predictions_1.select('features','prediction','label').withColumnRenamed('prediction','column')\n",
    "test_predictions_1 = test_predictions_1.withColumn(\"column_1\",test_predictions_1[\"column\"].cast('int'))\n",
    "test_predictions_1 = test_predictions_1.select('features', 'column_1','label')\n",
    "test_predictions_1.show()"
   ]
  },
  {
   "cell_type": "code",
   "execution_count": 81,
   "metadata": {},
   "outputs": [],
   "source": [
    "test_final_2 = test_predictions_1"
   ]
  },
  {
   "cell_type": "code",
   "execution_count": 82,
   "metadata": {},
   "outputs": [],
   "source": [
    "test_predictions_2 = lr_model_2.transform(test_final_2)"
   ]
  },
  {
   "cell_type": "code",
   "execution_count": 83,
   "metadata": {},
   "outputs": [
    {
     "name": "stdout",
     "output_type": "stream",
     "text": [
      "+--------------------+--------+--------+-----+\n",
      "|            features|column_1|column_2|label|\n",
      "+--------------------+--------+--------+-----+\n",
      "|(10000,[0,3,6,7,8...|       0|       0|    0|\n",
      "|(10000,[7,12,56,6...|       0|       1|    0|\n",
      "|(10000,[4,7,8,10,...|       0|       1|    0|\n",
      "|(10000,[0,76,78,7...|       0|       0|    0|\n",
      "|(10000,[19,392,43...|       0|       0|    0|\n",
      "|(10000,[0,1,2,3,4...|       0|       1|    0|\n",
      "|(10000,[0,5,6,9,1...|       1|       0|    0|\n",
      "|(10000,[13,21,191...|       1|       0|    0|\n",
      "|(10000,[4,8,11,13...|       1|       0|    0|\n",
      "|(10000,[55,56,222...|       0|       0|    0|\n",
      "|(10000,[1,3,4,7,8...|       0|       1|    0|\n",
      "|(10000,[6,7,16,20...|       0|       1|    0|\n",
      "|(10000,[3,5,8,9,1...|       0|       0|    0|\n",
      "|(10000,[0,1,6,16,...|       1|       0|    0|\n",
      "|(10000,[2,3,9,10,...|       1|       1|    0|\n",
      "|(10000,[0,2,3,5,9...|       0|       1|    0|\n",
      "|(10000,[0,1,2,3,4...|       0|       0|    0|\n",
      "|(10000,[0,1,3,5,7...|       1|       1|    0|\n",
      "|(10000,[9,18,26,3...|       0|       1|    0|\n",
      "|(10000,[0,3,4,9,1...|       1|       0|    0|\n",
      "+--------------------+--------+--------+-----+\n",
      "only showing top 20 rows\n",
      "\n"
     ]
    }
   ],
   "source": [
    "test_predictions_2 = test_predictions_2.select('features','column_1','prediction','label').withColumnRenamed('prediction','column')\n",
    "test_predictions_2 = test_predictions_2.withColumn(\"column_2\",test_predictions_2[\"column\"].cast('int'))\n",
    "test_predictions_2 = test_predictions_2.select('features', 'column_1','column_2','label')\n",
    "test_predictions_2.show()"
   ]
  },
  {
   "cell_type": "code",
   "execution_count": 84,
   "metadata": {},
   "outputs": [],
   "source": [
    "test_final_3 = test_predictions_2"
   ]
  },
  {
   "cell_type": "code",
   "execution_count": 85,
   "metadata": {},
   "outputs": [],
   "source": [
    "test_predictions_3 = lr_model_3.transform(test_final_3)"
   ]
  },
  {
   "cell_type": "code",
   "execution_count": 86,
   "metadata": {},
   "outputs": [
    {
     "name": "stdout",
     "output_type": "stream",
     "text": [
      "+--------------------+--------+--------+--------+-----+\n",
      "|            features|column_1|column_2|column_3|label|\n",
      "+--------------------+--------+--------+--------+-----+\n",
      "|(10000,[0,3,6,7,8...|       0|       0|       1|    0|\n",
      "|(10000,[7,12,56,6...|       0|       1|       0|    0|\n",
      "|(10000,[4,7,8,10,...|       0|       1|       0|    0|\n",
      "|(10000,[0,76,78,7...|       0|       0|       0|    0|\n",
      "|(10000,[19,392,43...|       0|       0|       0|    0|\n",
      "|(10000,[0,1,2,3,4...|       0|       1|       1|    0|\n",
      "|(10000,[0,5,6,9,1...|       1|       0|       1|    0|\n",
      "|(10000,[13,21,191...|       1|       0|       0|    0|\n",
      "|(10000,[4,8,11,13...|       1|       0|       0|    0|\n",
      "|(10000,[55,56,222...|       0|       0|       0|    0|\n",
      "|(10000,[1,3,4,7,8...|       0|       1|       1|    0|\n",
      "|(10000,[6,7,16,20...|       0|       1|       0|    0|\n",
      "|(10000,[3,5,8,9,1...|       0|       0|       0|    0|\n",
      "|(10000,[0,1,6,16,...|       1|       0|       0|    0|\n",
      "|(10000,[2,3,9,10,...|       1|       1|       0|    0|\n",
      "|(10000,[0,2,3,5,9...|       0|       1|       0|    0|\n",
      "|(10000,[0,1,2,3,4...|       0|       0|       0|    0|\n",
      "|(10000,[0,1,3,5,7...|       1|       1|       0|    0|\n",
      "|(10000,[9,18,26,3...|       0|       1|       0|    0|\n",
      "|(10000,[0,3,4,9,1...|       1|       0|       0|    0|\n",
      "+--------------------+--------+--------+--------+-----+\n",
      "only showing top 20 rows\n",
      "\n"
     ]
    }
   ],
   "source": [
    "test_predictions_3 = test_predictions_3.select('features','column_1','column_2','prediction','label').withColumnRenamed('prediction','column')\n",
    "test_predictions_3 = test_predictions_3.withColumn(\"column_3\",test_predictions_3[\"column\"].cast('int'))\n",
    "test_predictions_3 = test_predictions_3.select('features', 'column_1','column_2','column_3','label')\n",
    "test_predictions_3.show()"
   ]
  },
  {
   "cell_type": "code",
   "execution_count": 87,
   "metadata": {},
   "outputs": [],
   "source": [
    "test_final_4 = test_predictions_3\n",
    "test_predictions_4 = lr_model_4.transform(test_final_4)"
   ]
  },
  {
   "cell_type": "code",
   "execution_count": 88,
   "metadata": {},
   "outputs": [],
   "source": [
    "test_predictions_4 = test_predictions_4.select('features','column_1','column_2','column_3','prediction','label').withColumnRenamed('prediction','column')\n",
    "test_predictions_4 = test_predictions_4.withColumn(\"column_4\",test_predictions_4[\"column\"].cast('int'))\n",
    "test_predictions_4 = test_predictions_4.select('features', 'column_1','column_2','column_3','column_4','label')\n",
    "#test_predictions_4.show()"
   ]
  },
  {
   "cell_type": "code",
   "execution_count": 89,
   "metadata": {},
   "outputs": [],
   "source": [
    "test_final_5 = test_predictions_4\n",
    "test_predictions_5 = lr_model_5.transform(test_final_5)"
   ]
  },
  {
   "cell_type": "code",
   "execution_count": 90,
   "metadata": {},
   "outputs": [],
   "source": [
    "test_predictions_5 = test_predictions_5.select('features','column_1','column_2','column_3','column_4','prediction','label').withColumnRenamed('prediction','column')\n",
    "test_predictions_5 = test_predictions_5.withColumn(\"column_5\",test_predictions_5[\"column\"].cast('int'))\n",
    "test_predictions_5 = test_predictions_5.select('features', 'column_1','column_2','column_3','column_4','column_5','label')"
   ]
  },
  {
   "cell_type": "code",
   "execution_count": 91,
   "metadata": {},
   "outputs": [],
   "source": [
    "test_final_6 = test_predictions_5\n",
    "test_predictions_6 = lr_model_6.transform(test_final_6)"
   ]
  },
  {
   "cell_type": "code",
   "execution_count": 92,
   "metadata": {},
   "outputs": [],
   "source": [
    "test_predictions_6 = test_predictions_6.select('features','column_1','column_2','column_3','column_4','column_5','prediction','label').withColumnRenamed('prediction','column')\n",
    "test_predictions_6 = test_predictions_6.withColumn(\"column_6\",test_predictions_6[\"column\"].cast('int'))\n",
    "test_predictions_6 = test_predictions_6.select('features', 'column_1','column_2','column_3','column_4','column_5','column_6','label')"
   ]
  },
  {
   "cell_type": "code",
   "execution_count": 93,
   "metadata": {},
   "outputs": [],
   "source": [
    "test_final_7 = test_predictions_6\n",
    "test_predictions_7 = lr_model_7.transform(test_final_7)"
   ]
  },
  {
   "cell_type": "code",
   "execution_count": 94,
   "metadata": {},
   "outputs": [],
   "source": [
    "test_predictions_7 = test_predictions_7.select('features','column_1','column_2','column_3','column_4','column_5','column_6','prediction','label').withColumnRenamed('prediction','column')\n",
    "test_predictions_7 = test_predictions_7.withColumn(\"column_7\",test_predictions_7[\"column\"].cast('int'))\n",
    "test_predictions_7 = test_predictions_7.select('features', 'column_1','column_2','column_3','column_4','column_5','column_6','column_7','label')"
   ]
  },
  {
   "cell_type": "code",
   "execution_count": 95,
   "metadata": {},
   "outputs": [],
   "source": [
    "test_final_8 = test_predictions_7\n",
    "test_predictions_8 = lr_model_8.transform(test_final_8)"
   ]
  },
  {
   "cell_type": "code",
   "execution_count": 96,
   "metadata": {},
   "outputs": [],
   "source": [
    "test_predictions_8 = test_predictions_8.select('features','column_1','column_2','column_3','column_4','column_5','column_6','column_7','prediction','label').withColumnRenamed('prediction','column')\n",
    "test_predictions_8 = test_predictions_8.withColumn(\"column_8\",test_predictions_8[\"column\"].cast('int'))\n",
    "test_predictions_8 = test_predictions_8.select('features', 'column_1','column_2','column_3','column_4','column_5','column_6','column_7','column_8','label')"
   ]
  },
  {
   "cell_type": "code",
   "execution_count": 97,
   "metadata": {},
   "outputs": [],
   "source": [
    "test_final_9 = test_predictions_8\n",
    "test_predictions_9 = lr_model_9.transform(test_final_9)"
   ]
  },
  {
   "cell_type": "code",
   "execution_count": 98,
   "metadata": {},
   "outputs": [],
   "source": [
    "test_predictions_9 = test_predictions_9.select('features','column_1','column_2','column_3','column_4','column_5','column_6','column_7','column_8','prediction','label').withColumnRenamed('prediction','column')\n",
    "test_predictions_9 = test_predictions_9.withColumn(\"column_9\",test_predictions_9[\"column\"].cast('int'))\n",
    "test_predictions_9 = test_predictions_9.select('features', 'column_1','column_2','column_3','column_4','column_5','column_6','column_7','column_8','column_9','label')"
   ]
  },
  {
   "cell_type": "code",
   "execution_count": 99,
   "metadata": {},
   "outputs": [],
   "source": [
    "test_final_10 = test_predictions_9\n",
    "test_predictions_10 = lr_model_10.transform(test_final_10)"
   ]
  },
  {
   "cell_type": "code",
   "execution_count": 100,
   "metadata": {},
   "outputs": [],
   "source": [
    "test_predictions_10 = test_predictions_10.select('features','column_1','column_2','column_3','column_4','column_5','column_6','column_7','column_8','column_9','prediction','label').withColumnRenamed('prediction','column')\n",
    "test_predictions_10 = test_predictions_10.withColumn(\"column_10\",test_predictions_10[\"column\"].cast('int'))\n",
    "test_predictions_10 = test_predictions_10.select('features', 'column_1','column_2','column_3','column_4','column_5','column_6','column_7','column_8','column_9','column_10','label')"
   ]
  },
  {
   "cell_type": "code",
   "execution_count": 101,
   "metadata": {},
   "outputs": [],
   "source": [
    "test_final_11 = test_predictions_10\n",
    "test_predictions_11 = lr_model_11.transform(test_final_11)"
   ]
  },
  {
   "cell_type": "code",
   "execution_count": 102,
   "metadata": {},
   "outputs": [],
   "source": [
    "test_predictions_11 = test_predictions_11.select('features','column_1','column_2','column_3','column_4','column_5','column_6','column_7','column_8','column_9','column_10','prediction','label').withColumnRenamed('prediction','column')\n",
    "test_predictions_11 = test_predictions_11.withColumn(\"column_11\",test_predictions_11[\"column\"].cast('int'))\n",
    "test_predictions_11 = test_predictions_11.select('features', 'column_1','column_2','column_3','column_4','column_5','column_6','column_7','column_8','column_9','column_10','column_11','label')"
   ]
  },
  {
   "cell_type": "code",
   "execution_count": 103,
   "metadata": {},
   "outputs": [],
   "source": [
    "test_final_12 = test_predictions_11\n",
    "test_predictions_12 = lr_model_12.transform(test_final_12)"
   ]
  },
  {
   "cell_type": "code",
   "execution_count": 104,
   "metadata": {},
   "outputs": [],
   "source": [
    "test_predictions_12 = test_predictions_12.select('features','column_1','column_2','column_3','column_4','column_5','column_6','column_7','column_8','column_9','column_10','column_11','prediction','label').withColumnRenamed('prediction','column')\n",
    "test_predictions_12 = test_predictions_12.withColumn(\"column_12\",test_predictions_12[\"column\"].cast('int'))\n",
    "test_predictions_12 = test_predictions_12.select('features', 'column_1','column_2','column_3','column_4','column_5','column_6','column_7','column_8','column_9','column_10','column_11','column_12','label')"
   ]
  },
  {
   "cell_type": "code",
   "execution_count": 105,
   "metadata": {},
   "outputs": [],
   "source": [
    "test_final_13 = test_predictions_12\n",
    "test_predictions_13 = lr_model_13.transform(test_final_13)"
   ]
  },
  {
   "cell_type": "code",
   "execution_count": 106,
   "metadata": {},
   "outputs": [],
   "source": [
    "test_predictions_13 = test_predictions_13.select('features','column_1','column_2','column_3','column_4','column_5','column_6','column_7','column_8','column_9','column_10','column_11','column_12','prediction','label').withColumnRenamed('prediction','column')\n",
    "test_predictions_13 = test_predictions_13.withColumn(\"column_13\",test_predictions_13[\"column\"].cast('int'))\n",
    "test_predictions_13 = test_predictions_13.select('features', 'column_1','column_2','column_3','column_4','column_5','column_6','column_7','column_8','column_9','column_10','column_11','column_12','column_13','label')"
   ]
  },
  {
   "cell_type": "code",
   "execution_count": 107,
   "metadata": {},
   "outputs": [],
   "source": [
    "test_final_14 = test_predictions_13\n",
    "test_predictions_14 = lr_model_14.transform(test_final_14)"
   ]
  },
  {
   "cell_type": "code",
   "execution_count": 108,
   "metadata": {},
   "outputs": [],
   "source": [
    "test_predictions_14 = test_predictions_14.select('features','column_1','column_2','column_3','column_4','column_5','column_6','column_7','column_8','column_9','column_10','column_11','column_12','column_13','prediction','label').withColumnRenamed('prediction','column')\n",
    "test_predictions_14 = test_predictions_14.withColumn(\"column_14\",test_predictions_14[\"column\"].cast('int'))\n",
    "test_predictions_14 = test_predictions_14.select('features', 'column_1','column_2','column_3','column_4','column_5','column_6','column_7','column_8','column_9','column_10','column_11','column_12','column_13','column_14','label')"
   ]
  },
  {
   "cell_type": "code",
   "execution_count": 109,
   "metadata": {},
   "outputs": [],
   "source": [
    "test_final_15 = test_predictions_14\n",
    "test_predictions_15 = lr_model_15.transform(test_final_15)"
   ]
  },
  {
   "cell_type": "code",
   "execution_count": 110,
   "metadata": {},
   "outputs": [],
   "source": [
    "test_predictions_15 = test_predictions_15.select('features','column_1','column_2','column_3','column_4','column_5','column_6','column_7','column_8','column_9','column_10','column_11','column_12','column_13','column_14','prediction','label').withColumnRenamed('prediction','column')\n",
    "test_predictions_15 = test_predictions_15.withColumn(\"column_15\",test_predictions_15[\"column\"].cast('int'))\n",
    "test_predictions_15 = test_predictions_15.select('features', 'column_1','column_2','column_3','column_4','column_5','column_6','column_7','column_8','column_9','column_10','column_11','column_12','column_13','column_14','column_15','label')"
   ]
  },
  {
   "cell_type": "code",
   "execution_count": 111,
   "metadata": {},
   "outputs": [],
   "source": [
    "test_final_16 = test_predictions_15\n",
    "test_predictions_16 = lr_model_16.transform(test_final_16)"
   ]
  },
  {
   "cell_type": "code",
   "execution_count": 112,
   "metadata": {},
   "outputs": [],
   "source": [
    "test_predictions_16 = test_predictions_16.select('features','column_1','column_2','column_3','column_4','column_5','column_6','column_7','column_8','column_9','column_10','column_11','column_12','column_13','column_14','column_15','prediction','label').withColumnRenamed('prediction','column')\n",
    "test_predictions_16 = test_predictions_16.withColumn(\"column_16\",test_predictions_16[\"column\"].cast('int'))\n",
    "test_predictions_16 = test_predictions_16.select('features', 'column_1','column_2','column_3','column_4','column_5','column_6','column_7','column_8','column_9','column_10','column_11','column_12','column_13','column_14','column_15','column_16','label')"
   ]
  },
  {
   "cell_type": "code",
   "execution_count": 113,
   "metadata": {},
   "outputs": [],
   "source": [
    "test_final_17 = test_predictions_16\n",
    "test_predictions_17 = lr_model_17.transform(test_final_17)"
   ]
  },
  {
   "cell_type": "code",
   "execution_count": 114,
   "metadata": {},
   "outputs": [],
   "source": [
    "test_predictions_17 = test_predictions_17.select('features','column_1','column_2','column_3','column_4','column_5','column_6','column_7','column_8','column_9','column_10','column_11','column_12','column_13','column_14','column_15','column_16','prediction','label').withColumnRenamed('prediction','column')\n",
    "test_predictions_17 = test_predictions_17.withColumn(\"column_17\",test_predictions_17[\"column\"].cast('int'))\n",
    "test_predictions_17 = test_predictions_17.select('features', 'column_1','column_2','column_3','column_4','column_5','column_6','column_7','column_8','column_9','column_10','column_11','column_12','column_13','column_14','column_15','column_16','column_17','label')"
   ]
  },
  {
   "cell_type": "code",
   "execution_count": 115,
   "metadata": {},
   "outputs": [],
   "source": [
    "test_final_18 = test_predictions_17\n",
    "test_predictions_18 = lr_model_18.transform(test_final_18)"
   ]
  },
  {
   "cell_type": "code",
   "execution_count": 116,
   "metadata": {},
   "outputs": [],
   "source": [
    "test_predictions_18 = test_predictions_18.select('features','column_1','column_2','column_3','column_4','column_5','column_6','column_7','column_8','column_9','column_10','column_11','column_12','column_13','column_14','column_15','column_16','column_17','prediction','label').withColumnRenamed('prediction','column')\n",
    "test_predictions_18 = test_predictions_18.withColumn(\"column_18\",test_predictions_18[\"column\"].cast('int'))\n",
    "test_predictions_18 = test_predictions_18.select('features', 'column_1','column_2','column_3','column_4','column_5','column_6','column_7','column_8','column_9','column_10','column_11','column_12','column_13','column_14','column_15','column_16','column_17','column_18','label')"
   ]
  },
  {
   "cell_type": "code",
   "execution_count": 117,
   "metadata": {},
   "outputs": [],
   "source": [
    "test_final_19 = test_predictions_18\n",
    "test_predictions_19 = lr_model_19.transform(test_final_19)"
   ]
  },
  {
   "cell_type": "code",
   "execution_count": 118,
   "metadata": {},
   "outputs": [],
   "source": [
    "test_predictions_19 = test_predictions_19.select('features','column_1','column_2','column_3','column_4','column_5','column_6','column_7','column_8','column_9','column_10','column_11','column_12','column_13','column_14','column_15','column_16','column_17','column_18','prediction','label').withColumnRenamed('prediction','column')\n",
    "test_predictions_19 = test_predictions_19.withColumn(\"column_19\",test_predictions_19[\"column\"].cast('int'))\n",
    "test_predictions_19 = test_predictions_19.select('features', 'column_1','column_2','column_3','column_4','column_5','column_6','column_7','column_8','column_9','column_10','column_11','column_12','column_13','column_14','column_15','column_16','column_17','column_18','column_19','label')"
   ]
  },
  {
   "cell_type": "code",
   "execution_count": 119,
   "metadata": {},
   "outputs": [],
   "source": [
    "test_final_20 = test_predictions_19\n",
    "test_predictions_20 = lr_model_20.transform(test_final_20)"
   ]
  },
  {
   "cell_type": "code",
   "execution_count": 120,
   "metadata": {},
   "outputs": [],
   "source": [
    "test_predictions_20 = test_predictions_20.select('features','column_1','column_2','column_3','column_4','column_5','column_6','column_7','column_8','column_9','column_10','column_11','column_12','column_13','column_14','column_15','column_16','column_17','column_18','column_19','prediction','label').withColumnRenamed('prediction','column')\n",
    "test_predictions_20 = test_predictions_20.withColumn(\"column_20\",test_predictions_20[\"column\"].cast('int'))\n",
    "test_predictions_20 = test_predictions_20.select('features', 'column_1','column_2','column_3','column_4','column_5','column_6','column_7','column_8','column_9','column_10','column_11','column_12','column_13','column_14','column_15','column_16','column_17','column_18','column_19','column_20','label')"
   ]
  },
  {
   "cell_type": "code",
   "execution_count": 121,
   "metadata": {},
   "outputs": [
    {
     "name": "stdout",
     "output_type": "stream",
     "text": [
      "+--------------------+--------+--------+--------+--------+--------+--------+--------+--------+--------+---------+---------+---------+---------+---------+---------+---------+---------+---------+---------+---------+-----+\n",
      "|            features|column_1|column_2|column_3|column_4|column_5|column_6|column_7|column_8|column_9|column_10|column_11|column_12|column_13|column_14|column_15|column_16|column_17|column_18|column_19|column_20|label|\n",
      "+--------------------+--------+--------+--------+--------+--------+--------+--------+--------+--------+---------+---------+---------+---------+---------+---------+---------+---------+---------+---------+---------+-----+\n",
      "|(10000,[0,3,6,7,8...|       0|       0|       1|       0|       0|       0|       0|       0|       0|        0|        0|        0|        0|        0|        0|        0|        0|        0|        0|        0|    0|\n",
      "|(10000,[7,12,56,6...|       0|       1|       0|       0|       0|       0|       0|       0|       0|        0|        0|        1|        0|        0|        0|        0|        0|        0|        0|        0|    0|\n",
      "|(10000,[4,7,8,10,...|       0|       1|       0|       0|       0|       0|       0|       0|       0|        1|        0|        0|        0|        0|        0|        0|        0|        0|        0|        0|    0|\n",
      "|(10000,[0,76,78,7...|       0|       0|       0|       0|       0|       0|       0|       0|       0|        0|        0|        0|        0|        0|        0|        0|        0|        0|        1|        0|    0|\n",
      "|(10000,[19,392,43...|       0|       0|       0|       0|       0|       0|       0|       0|       0|        1|        0|        0|        0|        1|        0|        0|        0|        1|        0|        0|    0|\n",
      "|(10000,[0,1,2,3,4...|       0|       1|       1|       0|       0|       0|       0|       0|       0|        0|        0|        0|        0|        0|        0|        0|        0|        0|        0|        1|    0|\n",
      "|(10000,[0,5,6,9,1...|       1|       0|       1|       0|       0|       1|       1|       0|       0|        0|        1|        0|        0|        0|        0|        0|        0|        0|        0|        0|    0|\n",
      "|(10000,[13,21,191...|       1|       0|       0|       0|       0|       0|       0|       0|       0|        1|        0|        0|        0|        0|        0|        0|        0|        0|        0|        0|    0|\n",
      "|(10000,[4,8,11,13...|       1|       0|       0|       0|       0|       0|       1|       1|       0|        0|        0|        0|        0|        0|        0|        0|        0|        0|        1|        0|    0|\n",
      "|(10000,[55,56,222...|       0|       0|       0|       0|       0|       0|       0|       0|       1|        0|        0|        0|        0|        0|        0|        0|        0|        0|        0|        0|    0|\n",
      "|(10000,[1,3,4,7,8...|       0|       1|       1|       0|       1|       0|       0|       0|       0|        0|        0|        0|        1|        0|        0|        0|        0|        0|        0|        0|    0|\n",
      "|(10000,[6,7,16,20...|       0|       1|       0|       0|       0|       0|       0|       0|       1|        0|        0|        0|        0|        0|        0|        0|        0|        0|        0|        0|    0|\n",
      "|(10000,[3,5,8,9,1...|       0|       0|       0|       1|       1|       1|       1|       0|       0|        0|        0|        0|        1|        0|        0|        0|        0|        0|        0|        1|    0|\n",
      "|(10000,[0,1,6,16,...|       1|       0|       0|       1|       0|       0|       0|       0|       0|        0|        0|        0|        0|        0|        0|        0|        0|        0|        0|        0|    0|\n",
      "|(10000,[2,3,9,10,...|       1|       1|       0|       0|       0|       0|       0|       0|       0|        0|        0|        0|        0|        0|        0|        0|        0|        0|        0|        0|    0|\n",
      "|(10000,[0,2,3,5,9...|       0|       1|       0|       0|       1|       1|       0|       1|       0|        0|        0|        0|        0|        0|        0|        1|        0|        0|        0|        0|    0|\n",
      "|(10000,[0,1,2,3,4...|       0|       0|       0|       0|       0|       0|       0|       0|       0|        0|        0|        0|        0|        0|        0|        0|        0|        0|        0|        0|    0|\n",
      "|(10000,[0,1,3,5,7...|       1|       1|       0|       1|       0|       1|       0|       0|       0|        1|        0|        0|        0|        0|        0|        0|        0|        0|        0|        0|    0|\n",
      "|(10000,[9,18,26,3...|       0|       1|       0|       0|       0|       0|       0|       0|       0|        0|        0|        0|        0|        0|        0|        0|        0|        0|        0|        0|    0|\n",
      "|(10000,[0,3,4,9,1...|       1|       0|       0|       0|       1|       0|       0|       0|       0|        0|        0|        0|        0|        0|        0|        0|        1|        0|        0|        0|    0|\n",
      "+--------------------+--------+--------+--------+--------+--------+--------+--------+--------+--------+---------+---------+---------+---------+---------+---------+---------+---------+---------+---------+---------+-----+\n",
      "only showing top 20 rows\n",
      "\n"
     ]
    }
   ],
   "source": [
    "test_predictions_20.show()"
   ]
  },
  {
   "cell_type": "code",
   "execution_count": 122,
   "metadata": {},
   "outputs": [],
   "source": [
    "test_predictions = test_predictions_20.withColumn('predictions',f.concat(f.col('column_1'),f.lit(' '),f.col('column_2'),f.lit(' '),f.col('column_3'),f.lit(' '),f.col('column_4'),f.lit(' '),f.col('column_5'),f.lit(' '),f.col('column_6'),f.lit(' '),f.col('column_7'),f.lit(' '),f.col('column_8'),f.lit(' '),f.col('column_9'),f.lit(' '),f.col('column_10'),f.lit(' '),f.col('column_11'),f.lit(' '),f.col('column_12'),f.lit(' '),f.col('column_13'),f.lit(' '),f.col('column_14'),f.lit(' '),f.col('column_15'),f.lit(' '),f.col('column_16'),f.lit(' '),f.col('column_17'),f.lit(' '),f.col('column_18'),f.lit(' '),f.col('column_19'),f.lit(' '),f.col('column_20')))\n",
    "test_predictions = test_predictions.select('features','predictions')"
   ]
  },
  {
   "cell_type": "code",
   "execution_count": 123,
   "metadata": {},
   "outputs": [
    {
     "name": "stdout",
     "output_type": "stream",
     "text": [
      "+--------------------+--------------------+\n",
      "|            features|         predictions|\n",
      "+--------------------+--------------------+\n",
      "|(10000,[0,3,6,7,8...|0 0 1 0 0 0 0 0 0...|\n",
      "|(10000,[7,12,56,6...|0 1 0 0 0 0 0 0 0...|\n",
      "|(10000,[4,7,8,10,...|0 1 0 0 0 0 0 0 0...|\n",
      "|(10000,[0,76,78,7...|0 0 0 0 0 0 0 0 0...|\n",
      "|(10000,[19,392,43...|0 0 0 0 0 0 0 0 0...|\n",
      "|(10000,[0,1,2,3,4...|0 1 1 0 0 0 0 0 0...|\n",
      "|(10000,[0,5,6,9,1...|1 0 1 0 0 1 1 0 0...|\n",
      "|(10000,[13,21,191...|1 0 0 0 0 0 0 0 0...|\n",
      "|(10000,[4,8,11,13...|1 0 0 0 0 0 1 1 0...|\n",
      "|(10000,[55,56,222...|0 0 0 0 0 0 0 0 1...|\n",
      "|(10000,[1,3,4,7,8...|0 1 1 0 1 0 0 0 0...|\n",
      "|(10000,[6,7,16,20...|0 1 0 0 0 0 0 0 1...|\n",
      "|(10000,[3,5,8,9,1...|0 0 0 1 1 1 1 0 0...|\n",
      "|(10000,[0,1,6,16,...|1 0 0 1 0 0 0 0 0...|\n",
      "|(10000,[2,3,9,10,...|1 1 0 0 0 0 0 0 0...|\n",
      "|(10000,[0,2,3,5,9...|0 1 0 0 1 1 0 1 0...|\n",
      "|(10000,[0,1,2,3,4...|0 0 0 0 0 0 0 0 0...|\n",
      "|(10000,[0,1,3,5,7...|1 1 0 1 0 1 0 0 0...|\n",
      "|(10000,[9,18,26,3...|0 1 0 0 0 0 0 0 0...|\n",
      "|(10000,[0,3,4,9,1...|1 0 0 0 1 0 0 0 0...|\n",
      "+--------------------+--------------------+\n",
      "only showing top 20 rows\n",
      "\n"
     ]
    }
   ],
   "source": [
    "test_predictions.show()"
   ]
  },
  {
   "cell_type": "code",
   "execution_count": 124,
   "metadata": {},
   "outputs": [
    {
     "name": "stdout",
     "output_type": "stream",
     "text": [
      "+--------------------+\n",
      "|            features|\n",
      "+--------------------+\n",
      "|(10000,[0,3,6,7,8...|\n",
      "|(10000,[7,12,56,6...|\n",
      "|(10000,[4,7,8,10,...|\n",
      "|(10000,[0,76,78,7...|\n",
      "|(10000,[19,392,43...|\n",
      "|(10000,[0,1,2,3,4...|\n",
      "|(10000,[0,5,6,9,1...|\n",
      "|(10000,[13,21,191...|\n",
      "|(10000,[4,8,11,13...|\n",
      "|(10000,[55,56,222...|\n",
      "|(10000,[1,3,4,7,8...|\n",
      "|(10000,[6,7,16,20...|\n",
      "|(10000,[3,5,8,9,1...|\n",
      "|(10000,[0,1,6,16,...|\n",
      "|(10000,[2,3,9,10,...|\n",
      "|(10000,[0,2,3,5,9...|\n",
      "|(10000,[0,1,2,3,4...|\n",
      "|(10000,[0,1,3,5,7...|\n",
      "|(10000,[9,18,26,3...|\n",
      "|(10000,[0,3,4,9,1...|\n",
      "+--------------------+\n",
      "only showing top 20 rows\n",
      "\n"
     ]
    }
   ],
   "source": [
    "#test_predictions.show(truncate = False)\n",
    "#test_cv_df = test_cv_df.alias('df1')\n",
    "#test_predictions = test_predictions.alias('df2')\n",
    "#output_task_1=test_cv_df.join(test_predictions,test_cv_df.features == test_predictions.features).select('df1.movie_id','df2.predictions')\n",
    "test_final_features.show()"
   ]
  },
  {
   "cell_type": "code",
   "execution_count": 125,
   "metadata": {},
   "outputs": [],
   "source": [
    "output_intermediate = test_final_features_all.join(test_predictions, on = ['features'],how = 'inner')"
   ]
  },
  {
   "cell_type": "code",
   "execution_count": 126,
   "metadata": {},
   "outputs": [
    {
     "name": "stdout",
     "output_type": "stream",
     "text": [
      "+--------------------+--------+--------------------+--------------------+--------------------+--------------------+--------------------+--------------------+\n",
      "|            features|movie_id|          movie_name|                plot|          plot_terms|            filtered|        raw_features|         predictions|\n",
      "+--------------------+--------+--------------------+--------------------+--------------------+--------------------+--------------------+--------------------+\n",
      "|(10000,[0,1,2,4,8...|  709391|Around the World ...|A Chinese man rob...|[a, chinese, man,...|[chinese, man, ro...|(10000,[0,1,2,4,8...|0 0 1 1 0 0 0 0 0...|\n",
      "|(10000,[0,1,3,5,6...|29542934|Children Who Chas...|Asuna is a young ...|[asuna, is, a, yo...|[asuna, young, gi...|(10000,[0,1,3,5,6...|0 0 0 0 0 0 0 0 0...|\n",
      "|(10000,[0,1,6,105...|22365569|Recovered: Journe...|Recovered: Journe...|[recovered, journ...|[recovered, journ...|(10000,[0,1,6,105...|0 0 0 0 0 0 0 0 1...|\n",
      "|(10000,[0,1,10,12...|23726874|          Spy School|Spy School is a m...|[spy, school, is,...|[spy, school, mov...|(10000,[0,1,10,12...|0 0 0 1 1 0 0 0 0...|\n",
      "|(10000,[0,2,4,5,6...|  299490|        Irréversible|Irréversible cont...|[irr, versible, c...|[irr, versible, c...|(10000,[0,2,4,5,6...|0 0 0 0 0 0 0 0 0...|\n",
      "|(10000,[0,2,4,5,1...|  106117|     Thelma & Louise|Thelma Dickinson ...|[thelma, dickinso...|[thelma, dickinso...|(10000,[0,2,4,5,1...|0 1 0 0 0 0 0 0 0...|\n",
      "|(10000,[0,3,6,8,1...|28145330|          Chittagong|Set against the b...|[set, against, th...|[set, backdrop, l...|(10000,[0,3,6,8,1...|0 0 0 0 0 0 0 0 0...|\n",
      "|(10000,[0,4,5,7,1...|  701775|               Fluke|The story is cent...|[the, story, is, ...|[story, centered,...|(10000,[0,4,5,7,1...|1 0 0 1 0 0 0 0 0...|\n",
      "|(10000,[0,4,9,11,...| 1894535|       Sleeping Dogs|Following the bre...|[following, the, ...|[following, break...|(10000,[0,4,9,11,...|1 0 0 1 0 1 0 0 0...|\n",
      "|(10000,[1,2,6,10,...|11496773|    Operation Bikini|The film takes pl...|[the, film, takes...|[film, takes, pla...|(10000,[1,2,6,10,...|0 1 0 0 0 0 0 0 0...|\n",
      "|(10000,[1,5,6,10,...|   62693|The Long Voyage Home|The film tells th...|[the, film, tells...|[film, tells, sto...|(10000,[1,5,6,10,...|1 0 0 0 0 0 0 0 0...|\n",
      "|(10000,[2,3,6,10,...|31427846|      Kudumbapuranam|The film revolves...|[the, film, revol...|[film, revolves, ...|(10000,[2,3,6,10,...|0 1 0 1 0 0 0 0 0...|\n",
      "|(10000,[2,3,7,8,9...|25593267|              Janwar|Mr. Srivastava li...|[mr, srivastava, ...|[mr, srivastava, ...|(10000,[2,3,7,8,9...|0 0 0 1 1 0 0 0 0...|\n",
      "|(10000,[2,6,11,12...|17607081|An Unforgettable ...|The film's plot, ...|[the, film, s, pl...|[film, plot, deve...|(10000,[2,6,11,12...|0 0 0 1 0 0 0 0 0...|\n",
      "|(10000,[2,15,16,7...|24355152|           Joysticks|Jefferson Bailey ...|[jefferson, baile...|[jefferson, baile...|(10000,[2,15,16,7...|1 0 1 1 0 0 0 0 0...|\n",
      "|(10000,[3,5,6,13,...|12159008|Andaru Dongale Do...|KK Nagendra Babu ...|[kk, nagendra, ba...|[kk, nagendra, ba...|(10000,[3,5,6,13,...|0 0 0 1 0 1 1 0 0...|\n",
      "|(10000,[4,6,9,12,...| 3847881|    The Seventh Veil|Francesca Cunning...|[francesca, cunni...|[francesca, cunni...|(10000,[4,6,9,12,...|1 1 0 0 0 1 0 0 0...|\n",
      "|(10000,[4,7,9,12,...|36215175|    Republik Twitter|Sukmo , a student...|[sukmo, a, studen...|[sukmo, student, ...|(10000,[4,7,9,12,...|0 1 0 0 1 0 0 0 0...|\n",
      "|(10000,[4,7,11,13...|15836095|To the Ends of th...|In 1935, United S...|[in, 1935, united...|[united, states, ...|(10000,[4,7,11,13...|0 1 0 0 0 1 0 0 0...|\n",
      "|(10000,[4,8,13,16...|25842111|ICarly: iGo to Japan|The iCarly gang a...|[the, icarly, gan...|[icarly, gang, in...|(10000,[4,8,13,16...|0 1 0 1 0 0 0 0 0...|\n",
      "+--------------------+--------+--------------------+--------------------+--------------------+--------------------+--------------------+--------------------+\n",
      "only showing top 20 rows\n",
      "\n"
     ]
    }
   ],
   "source": [
    "output_intermediate.show()"
   ]
  },
  {
   "cell_type": "code",
   "execution_count": 127,
   "metadata": {},
   "outputs": [
    {
     "data": {
      "text/plain": [
       "7777"
      ]
     },
     "execution_count": 127,
     "metadata": {},
     "output_type": "execute_result"
    }
   ],
   "source": [
    "output_intermediate = output_intermediate.distinct()\n",
    "output_intermediate.count()"
   ]
  },
  {
   "cell_type": "code",
   "execution_count": 128,
   "metadata": {},
   "outputs": [],
   "source": [
    "output_task_2 = output_intermediate.select('movie_id','predictions')"
   ]
  },
  {
   "cell_type": "code",
   "execution_count": null,
   "metadata": {},
   "outputs": [],
   "source": [
    "output_task_2.toPandas().to_csv(\"task_2.csv\")"
   ]
  },
  {
   "cell_type": "code",
   "execution_count": null,
   "metadata": {},
   "outputs": [],
   "source": []
  }
 ],
 "metadata": {
  "kernelspec": {
   "display_name": "Python 3",
   "language": "python",
   "name": "python3"
  },
  "language_info": {
   "codemirror_mode": {
    "name": "ipython",
    "version": 3
   },
   "file_extension": ".py",
   "mimetype": "text/x-python",
   "name": "python",
   "nbconvert_exporter": "python",
   "pygments_lexer": "ipython3",
   "version": "3.6.9"
  }
 },
 "nbformat": 4,
 "nbformat_minor": 2
}
